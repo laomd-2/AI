{
 "cells": [
  {
   "cell_type": "code",
   "execution_count": 1,
   "metadata": {},
   "outputs": [],
   "source": [
    "def sigmoid(x):\n",
    "    ex = math.exp(x)\n",
    "    return ex / (1 + ex)"
   ]
  },
  {
   "cell_type": "code",
   "execution_count": 2,
   "metadata": {},
   "outputs": [],
   "source": [
    "import numpy as np\n",
    "import math\n",
    "\n",
    "\n",
    "class LogisticRegression:\n",
    "    \n",
    "    def __init__(self, max_iter, tol):\n",
    "        self._max_iter = max_iter\n",
    "        self._tol = tol\n",
    "        \n",
    "    @staticmethod\n",
    "    def augmented(x):\n",
    "        return np.column_stack([np.ones(x.shape[0]), x])\n",
    "    \n",
    "    def _gradient_decent(self, Xs, Ys, Ws=None, rate=0.1, max_iter=-1, tol=1e-5):\n",
    "        dimension = Xs.shape[1]\n",
    "        if Ws is None:\n",
    "            Ws = np.asarray(np.random.rand(dimension), dtype=np.float)\n",
    "        else:\n",
    "            Ws = np.asarray(Ws, dtype=np.float)\n",
    "        \n",
    "        num_x = len(Xs)\n",
    "        errors = [0] * num_x\n",
    "        while max_iter != 0:\n",
    "            is_convergent = True\n",
    "            for i in range(num_x):\n",
    "                result = Xs[i].dot(Ws.T)\n",
    "                tmp = errors[i]\n",
    "                errors[i] = sigmoid(result) - Ys[i]\n",
    "                is_convergent = is_convergent and math.fabs(tmp - errors[i]) < tol\n",
    "            if is_convergent:\n",
    "                break\n",
    "            for i in range(dimension):\n",
    "                update = 0\n",
    "                for j in range(num_x):\n",
    "                    update -= errors[j] * Xs[j][i]\n",
    "                Ws[i] += rate * update\n",
    "            max_iter -= 1\n",
    "        else:\n",
    "            print(\"max_iter counts down to 0\")\n",
    "        return Ws\n",
    "\n",
    "    def fit(self, x, y):\n",
    "        x = self.augmented(x)\n",
    "        self.Ws = self._gradient_decent(x, y, max_iter=self._max_iter,\n",
    "                                       tol=self._tol)\n",
    "        return self\n",
    "\n",
    "    def predict(self, Xs):\n",
    "        Xs = self.augmented(Xs)\n",
    "        return np.asarray([int(sigmoid(x.dot(self.Ws.T)) > 0.5) for x in Xs])\n",
    "    \n",
    "    def __str__(self):\n",
    "        return \"augmented w:\" + str(self.Ws)"
   ]
  },
  {
   "cell_type": "code",
   "execution_count": 4,
   "metadata": {
    "scrolled": true
   },
   "outputs": [
    {
     "name": "stdout",
     "output_type": "stream",
     "text": [
      "max_iter counts down to 0\n",
      "1 1\n",
      "[0]\n",
      "2 2\n",
      "[1]\n",
      "0 0 \n",
      "[0]\n",
      "2 3\n",
      "[1]\n",
      "3 3\n",
      "[1]\n",
      "100 100\n",
      "[1]\n",
      "-5 100\n",
      "[1]\n",
      "\n"
     ]
    },
    {
     "ename": "ValueError",
     "evalue": "invalid literal for int() with base 10: ''",
     "output_type": "error",
     "traceback": [
      "\u001b[1;31m---------------------------------------------------------------------------\u001b[0m",
      "\u001b[1;31mValueError\u001b[0m                                Traceback (most recent call last)",
      "\u001b[1;32m<ipython-input-4-82534fd2b9c3>\u001b[0m in \u001b[0;36m<module>\u001b[1;34m\u001b[0m\n\u001b[0;32m      5\u001b[0m     \u001b[1;32mwhile\u001b[0m \u001b[1;32mTrue\u001b[0m\u001b[1;33m:\u001b[0m\u001b[1;33m\u001b[0m\u001b[0m\n\u001b[0;32m      6\u001b[0m         \u001b[0mx\u001b[0m \u001b[1;33m=\u001b[0m \u001b[0mmap\u001b[0m\u001b[1;33m(\u001b[0m\u001b[0mint\u001b[0m\u001b[1;33m,\u001b[0m \u001b[0minput\u001b[0m\u001b[1;33m(\u001b[0m\u001b[1;33m)\u001b[0m\u001b[1;33m.\u001b[0m\u001b[0mstrip\u001b[0m\u001b[1;33m(\u001b[0m\u001b[1;33m)\u001b[0m\u001b[1;33m.\u001b[0m\u001b[0msplit\u001b[0m\u001b[1;33m(\u001b[0m\u001b[1;34m' '\u001b[0m\u001b[1;33m)\u001b[0m\u001b[1;33m)\u001b[0m\u001b[1;33m\u001b[0m\u001b[0m\n\u001b[1;32m----> 7\u001b[1;33m         \u001b[0mprint\u001b[0m\u001b[1;33m(\u001b[0m\u001b[0mmodel\u001b[0m\u001b[1;33m.\u001b[0m\u001b[0mpredict\u001b[0m\u001b[1;33m(\u001b[0m\u001b[0mnp\u001b[0m\u001b[1;33m.\u001b[0m\u001b[0masanyarray\u001b[0m\u001b[1;33m(\u001b[0m\u001b[1;33m[\u001b[0m\u001b[0mlist\u001b[0m\u001b[1;33m(\u001b[0m\u001b[0mx\u001b[0m\u001b[1;33m)\u001b[0m\u001b[1;33m]\u001b[0m\u001b[1;33m)\u001b[0m\u001b[1;33m)\u001b[0m\u001b[1;33m)\u001b[0m\u001b[1;33m\u001b[0m\u001b[0m\n\u001b[0m",
      "\u001b[1;31mValueError\u001b[0m: invalid literal for int() with base 10: ''"
     ]
    }
   ],
   "source": [
    "if __name__ == '__main__':\n",
    "    model = LogisticRegression(max_iter=1000, tol=1e-5)\n",
    "    Xs = np.asanyarray([(0, 1), (1, 1), (3, 3), (4, 3)])\n",
    "    model.fit(Xs, [0, 0, 1, 1])\n",
    "    while True:\n",
    "        x = map(int, input().strip().split(' '))\n",
    "        print(model.predict(np.asanyarray([list(x)])))"
   ]
  },
  {
   "cell_type": "code",
   "execution_count": null,
   "metadata": {},
   "outputs": [],
   "source": []
  }
 ],
 "metadata": {
  "kernelspec": {
   "display_name": "Python 3",
   "language": "python",
   "name": "python3"
  },
  "language_info": {
   "codemirror_mode": {
    "name": "ipython",
    "version": 3
   },
   "file_extension": ".py",
   "mimetype": "text/x-python",
   "name": "python",
   "nbconvert_exporter": "python",
   "pygments_lexer": "ipython3",
   "version": "3.6.5"
  }
 },
 "nbformat": 4,
 "nbformat_minor": 2
}

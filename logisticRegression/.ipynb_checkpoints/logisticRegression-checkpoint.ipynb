{
 "cells": [
  {
   "cell_type": "code",
   "execution_count": 1,
   "metadata": {},
   "outputs": [],
   "source": [
    "def sigmoid(x):\n",
    "    ex = math.exp(x)\n",
    "    return ex / (1 + ex)"
   ]
  },
  {
   "cell_type": "code",
   "execution_count": 12,
   "metadata": {},
   "outputs": [],
   "source": [
    "import numpy as np\n",
    "import math\n",
    "\n",
    "\n",
    "class LogisticRegression:\n",
    "    \n",
    "    def __init__(self, max_iter, tol):\n",
    "        self._max_iter = max_iter\n",
    "        self._tol = tol\n",
    "        \n",
    "    @staticmethod\n",
    "    def augmented(x):\n",
    "        return np.column_stack([np.ones(x.shape[0]), x])\n",
    "    \n",
    "    def _gradient_decent(self, Xs, Ys, Ws=None, rate=0.1, max_iter=-1, tol=1e-5):\n",
    "        dimension = Xs.shape[1]\n",
    "        if Ws is None:\n",
    "            Ws = np.asarray(np.random.rand(dimension), dtype=np.float)\n",
    "        else:\n",
    "            Ws = np.asarray(Ws, dtype=np.float)\n",
    "        \n",
    "        num_x = len(Xs)\n",
    "        errors = [0] * num_x\n",
    "        while max_iter != 0:\n",
    "            is_convergent = True\n",
    "            for i in range(num_x):\n",
    "                result = Xs[i].dot(Ws.T)\n",
    "                tmp = errors[i]\n",
    "                errors[i] = sigmoid(result) - Ys[i]\n",
    "                is_convergent = is_convergent and math.fabs(tmp - errors[i]) < tol\n",
    "            if is_convergent:\n",
    "                break\n",
    "            for i in range(dimension):\n",
    "                update = 0\n",
    "                for j in range(num_x):\n",
    "                    update -= errors[j] * Xs[j][i]\n",
    "                Ws[i] += rate * update\n",
    "            max_iter -= 1\n",
    "        else:\n",
    "            print(\"max_iter counts down to 0\")\n",
    "        return Ws\n",
    "\n",
    "    def fit(self, x, y):\n",
    "        x = self.augmented(x)\n",
    "        self.Ws = self._gradient_decent(x, y, max_iter=self._max_iter,\n",
    "                                       tol=self._tol)\n",
    "        return self\n",
    "\n",
    "    def predict(self, Xs):\n",
    "        Xs = self.augmented(Xs)\n",
    "        return np.asarray([sigmoid(x.dot(self.Ws.T)) for x in Xs])\n",
    "    \n",
    "    def __str__(self):\n",
    "        return \"augmented w:\" + str(self.Ws)"
   ]
  },
  {
   "cell_type": "code",
   "execution_count": 13,
   "metadata": {
    "scrolled": true
   },
   "outputs": [
    {
     "name": "stdout",
     "output_type": "stream",
     "text": [
      "augmented w:[-50.11932402 -53.92759025 -97.04045463 -74.53776185 -99.13435048\n",
      " -35.63397933   4.61126599]\n"
     ]
    }
   ],
   "source": [
    "import sys\n",
    "sys.path.append(\"D:/learning/AI/experiment\")\n",
    "\n",
    "from common.io import *\n",
    "from common.validation import *\n",
    "\n",
    "\n",
    "model = LogisticRegression(max_iter=10000, tol=1e-5)\n",
    "Xs, Ys = my_reader(\"lab2_data/Car_train.csv\")\n",
    "Xs = to_digit(Xs)\n",
    "Ys = to_digit(Ys).flatten()\n",
    "\n",
    "m = Xs.shape[0]\n",
    "end = int(1 * m)\n",
    "print(model.fit(Xs[:end], Ys[:end]))\n",
    "# validate(model, Xs[end:], Ys[end:])\n",
    "\n",
    "# Xs = my_reader(\"lab2_data/Car_test.csv\")[0]\n",
    "# res = model.predict(to_digit(Xs))\n",
    "# with open('result/16337113_laomadong_Car.csv', 'w') as f:\n",
    "#     for x, y in zip(Xs, res):\n",
    "#         print(*x, y, sep=',', file=f)"
   ]
  },
  {
   "cell_type": "code",
   "execution_count": null,
   "metadata": {},
   "outputs": [],
   "source": []
  }
 ],
 "metadata": {
  "kernelspec": {
   "display_name": "Python 3",
   "language": "python",
   "name": "python3"
  },
  "language_info": {
   "codemirror_mode": {
    "name": "ipython",
    "version": 3
   },
   "file_extension": ".py",
   "mimetype": "text/x-python",
   "name": "python",
   "nbconvert_exporter": "python",
   "pygments_lexer": "ipython3",
   "version": "3.6.5"
  }
 },
 "nbformat": 4,
 "nbformat_minor": 2
}

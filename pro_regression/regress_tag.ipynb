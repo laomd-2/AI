{
 "cells": [
  {
   "cell_type": "code",
   "execution_count": 1,
   "metadata": {},
   "outputs": [],
   "source": [
    "%matplotlib inline\n",
    "import threading\n",
    "import numpy as np\n",
    "from numpy.linalg import norm\n",
    "import pandas as pd\n",
    "import seaborn as sns\n",
    "import matplotlib.pyplot as plt\n",
    "from sklearn import preprocessing\n",
    "from sklearn import ensemble, tree, linear_model\n",
    "from sklearn.model_selection import train_test_split, cross_val_score\n",
    "from sklearn.metrics import r2_score, mean_squared_error\n",
    "from tqdm import tqdm\n",
    "\n",
    "import progressbar\n",
    "from importlib import reload\n",
    "\n",
    "from sklearn.model_selection import KFold, train_test_split\n",
    "from sklearn.metrics import accuracy_score, log_loss\n",
    "from sklearn.ensemble import GradientBoostingRegressor\n",
    "from sklearn.feature_extraction.text import TfidfVectorizer\n",
    "# from sklearn.utils import shuffle"
   ]
  },
  {
   "cell_type": "code",
   "execution_count": 107,
   "metadata": {},
   "outputs": [],
   "source": [
    "df = pd.read_excel('data/回归/train.xlsx')\n",
    "tags = df['Tags'].values\n",
    "del df['Tags']\n",
    "\n",
    "number_of_reviews = df['Total_Number_of_Reviews'].values\n",
    "df['Review_Total_Positive_Word_Counts'] /= number_of_reviews / 1000\n",
    "\n",
    "labels = df['Reviewer_Score']\n",
    "del df['Reviewer_Score']\n",
    "\n",
    "for i in range(len(tags)):\n",
    "    tags[i] = \" \".join(list(map(lambda x: x.strip(\" '\"), tags[i].strip('[] ').split(','))))"
   ]
  },
  {
   "cell_type": "code",
   "execution_count": 94,
   "metadata": {},
   "outputs": [
    {
     "data": {
      "text/plain": [
       "80000"
      ]
     },
     "execution_count": 94,
     "metadata": {},
     "output_type": "execute_result"
    }
   ],
   "source": [
    "tags.size"
   ]
  },
  {
   "cell_type": "code",
   "execution_count": 57,
   "metadata": {},
   "outputs": [],
   "source": [
    "X_train = tags\n",
    "vectorizer = TfidfVectorizer(stop_words='english')\n",
    "tfidf = vectorizer.fit_transform(X_train).todense()\n",
    "words = vectorizer.get_feature_names()"
   ]
  },
  {
   "cell_type": "code",
   "execution_count": 5,
   "metadata": {},
   "outputs": [
    {
     "data": {
      "text/plain": [
       "504"
      ]
     },
     "execution_count": 5,
     "metadata": {},
     "output_type": "execute_result"
    }
   ],
   "source": [
    "len(words)"
   ]
  },
  {
   "cell_type": "code",
   "execution_count": null,
   "metadata": {},
   "outputs": [],
   "source": []
  },
  {
   "cell_type": "code",
   "execution_count": 81,
   "metadata": {},
   "outputs": [],
   "source": [
    "best_tags = dict()\n",
    "for i in range(len(words)):\n",
    "    if not words[i].isdigit():\n",
    "        col = np.asarray(tfidf[:, i]).flatten()\n",
    "        if col.var() > 0.02:\n",
    "            best_tags[words[i]] = col * 100"
   ]
  },
  {
   "cell_type": "code",
   "execution_count": 82,
   "metadata": {},
   "outputs": [
    {
     "data": {
      "text/plain": [
       "{'business': array([ 0.        ,  0.        , 55.32668389, ...,  0.        ,\n",
       "         0.        ,  0.        ]),\n",
       " 'classic': array([0., 0., 0., ..., 0., 0., 0.]),\n",
       " 'couple': array([ 0.        ,  0.        , 33.63399437, ..., 21.66110721,\n",
       "         0.        , 33.89754097]),\n",
       " 'deluxe': array([0., 0., 0., ..., 0., 0., 0.]),\n",
       " 'group': array([ 0.        ,  0.        ,  0.        , ...,  0.        ,\n",
       "        51.02438483,  0.        ]),\n",
       " 'night': array([27.16863418,  0.        , 39.02479032, ...,  0.        ,\n",
       "         0.        ,  0.        ]),\n",
       " 'solo': array([0., 0., 0., ..., 0., 0., 0.]),\n",
       " 'standard': array([37.85019347,  0.        ,  0.        , ...,  0.        ,\n",
       "        45.86710367,  0.        ]),\n",
       " 'superior': array([ 0.        ,  0.        , 54.95933919, ..., 35.39514592,\n",
       "         0.        , 55.38998525]),\n",
       " 'traveler': array([0., 0., 0., ..., 0., 0., 0.]),\n",
       " 'twin': array([ 0.        ,  0.        ,  0.        , ...,  0.        ,\n",
       "        38.81435481, 46.36835379])}"
      ]
     },
     "execution_count": 82,
     "metadata": {},
     "output_type": "execute_result"
    }
   ],
   "source": [
    "best_tags"
   ]
  },
  {
   "cell_type": "code",
   "execution_count": 83,
   "metadata": {},
   "outputs": [],
   "source": [
    "df2 = pd.concat([df, pd.DataFrame(best_tags)], axis=1)"
   ]
  },
  {
   "cell_type": "code",
   "execution_count": 103,
   "metadata": {},
   "outputs": [
    {
     "data": {
      "text/html": [
       "<div>\n",
       "<style scoped>\n",
       "    .dataframe tbody tr th:only-of-type {\n",
       "        vertical-align: middle;\n",
       "    }\n",
       "\n",
       "    .dataframe tbody tr th {\n",
       "        vertical-align: top;\n",
       "    }\n",
       "\n",
       "    .dataframe thead th {\n",
       "        text-align: right;\n",
       "    }\n",
       "</style>\n",
       "<table border=\"1\" class=\"dataframe\">\n",
       "  <thead>\n",
       "    <tr style=\"text-align: right;\">\n",
       "      <th></th>\n",
       "      <th>Additional_Number_of_Scoring</th>\n",
       "      <th>Average_Score</th>\n",
       "      <th>Review_Total_Negative_Word_Counts</th>\n",
       "      <th>Total_Number_of_Reviews</th>\n",
       "      <th>Review_Total_Positive_Word_Counts</th>\n",
       "      <th>Total_Number_of_Reviews_Reviewer_Has_Given</th>\n",
       "    </tr>\n",
       "  </thead>\n",
       "  <tbody>\n",
       "    <tr>\n",
       "      <th>0</th>\n",
       "      <td>255</td>\n",
       "      <td>8.1</td>\n",
       "      <td>57</td>\n",
       "      <td>1290</td>\n",
       "      <td>77.519380</td>\n",
       "      <td>1</td>\n",
       "    </tr>\n",
       "    <tr>\n",
       "      <th>1</th>\n",
       "      <td>211</td>\n",
       "      <td>8.6</td>\n",
       "      <td>0</td>\n",
       "      <td>2923</td>\n",
       "      <td>65.001711</td>\n",
       "      <td>12</td>\n",
       "    </tr>\n",
       "    <tr>\n",
       "      <th>2</th>\n",
       "      <td>189</td>\n",
       "      <td>9.2</td>\n",
       "      <td>27</td>\n",
       "      <td>781</td>\n",
       "      <td>371.318822</td>\n",
       "      <td>24</td>\n",
       "    </tr>\n",
       "    <tr>\n",
       "      <th>3</th>\n",
       "      <td>1258</td>\n",
       "      <td>9.4</td>\n",
       "      <td>20</td>\n",
       "      <td>4204</td>\n",
       "      <td>73.739296</td>\n",
       "      <td>3</td>\n",
       "    </tr>\n",
       "    <tr>\n",
       "      <th>4</th>\n",
       "      <td>289</td>\n",
       "      <td>8.8</td>\n",
       "      <td>0</td>\n",
       "      <td>1519</td>\n",
       "      <td>19.749835</td>\n",
       "      <td>9</td>\n",
       "    </tr>\n",
       "  </tbody>\n",
       "</table>\n",
       "</div>"
      ],
      "text/plain": [
       "   Additional_Number_of_Scoring  Average_Score  \\\n",
       "0                           255            8.1   \n",
       "1                           211            8.6   \n",
       "2                           189            9.2   \n",
       "3                          1258            9.4   \n",
       "4                           289            8.8   \n",
       "\n",
       "   Review_Total_Negative_Word_Counts  Total_Number_of_Reviews  \\\n",
       "0                                 57                     1290   \n",
       "1                                  0                     2923   \n",
       "2                                 27                      781   \n",
       "3                                 20                     4204   \n",
       "4                                  0                     1519   \n",
       "\n",
       "   Review_Total_Positive_Word_Counts  \\\n",
       "0                          77.519380   \n",
       "1                          65.001711   \n",
       "2                         371.318822   \n",
       "3                          73.739296   \n",
       "4                          19.749835   \n",
       "\n",
       "   Total_Number_of_Reviews_Reviewer_Has_Given  \n",
       "0                                           1  \n",
       "1                                          12  \n",
       "2                                          24  \n",
       "3                                           3  \n",
       "4                                           9  "
      ]
     },
     "execution_count": 103,
     "metadata": {},
     "output_type": "execute_result"
    }
   ],
   "source": [
    "df[:5]"
   ]
  },
  {
   "cell_type": "code",
   "execution_count": 108,
   "metadata": {},
   "outputs": [],
   "source": [
    "X_train = df.iloc[:].values\n",
    "y_train = labels.values"
   ]
  },
  {
   "cell_type": "code",
   "execution_count": 109,
   "metadata": {},
   "outputs": [
    {
     "data": {
      "text/plain": [
       "((80000, 6), (80000,))"
      ]
     },
     "execution_count": 109,
     "metadata": {},
     "output_type": "execute_result"
    }
   ],
   "source": [
    "X_train.shape, y_train.shape"
   ]
  },
  {
   "cell_type": "code",
   "execution_count": 49,
   "metadata": {},
   "outputs": [],
   "source": [
    "import decision_tree.decision_tree\n",
    "reload(decision_tree.decision_tree)\n",
    "from decision_tree.decision_tree import RegressionTree\n",
    "\n",
    "import gradient_boosting_decision_tree.gbdt_model\n",
    "reload(gradient_boosting_decision_tree.gbdt_model)\n",
    "from gradient_boosting_decision_tree.gbdt_model import GBDTRegressor"
   ]
  },
  {
   "cell_type": "code",
   "execution_count": 50,
   "metadata": {},
   "outputs": [],
   "source": [
    "k = 5\n",
    "sss = KFold(n_splits=k, shuffle=True, random_state=0)\n",
    "\n",
    "def acc_score(y_val, y_pred):\n",
    "    return np.corrcoef(y_val, y_pred)[0,1]\n",
    "\n",
    "def cross_val(x,y,n_estimators=100,learning_rate=0.2,max_depth=3):\n",
    "    tol_acc = 0\n",
    "    \n",
    "    for train_index, test_index in sss.split(x, y):\n",
    "#         print(train_index)\n",
    "#         print(test_index)\n",
    "        x_train, x_val = x[train_index], x[test_index]\n",
    "        y_train, y_val = y[train_index], y[test_index]\n",
    "        reg = GBDTRegressor(n_estimators=n_estimators,learning_rate=learning_rate,max_depth=max_depth)\n",
    "#         reg = GradientBoostingRegressor(n_estimators=n_estimators,learning_rate=learning_rate,max_depth=max_depth)\n",
    "    \n",
    "        name = reg.__class__.__name__\n",
    "        reg.fit(x_train, y_train)\n",
    "        y_pred = reg.predict(x_val)\n",
    "        acc = acc_score(y_val, y_pred)\n",
    "        print(acc)\n",
    "        tol_acc += acc\n",
    "        \n",
    "    ave_acc = tol_acc/k\n",
    "    return ave_acc\n"
   ]
  },
  {
   "cell_type": "code",
   "execution_count": 52,
   "metadata": {},
   "outputs": [
    {
     "name": "stdout",
     "output_type": "stream",
     "text": [
      "0.6509339134062824\n",
      "0.6579967308968074\n",
      "0.6544362258012215\n",
      "0.6510831339580133\n",
      "0.664991501446876\n"
     ]
    },
    {
     "data": {
      "text/plain": [
       "0.6558883011018402"
      ]
     },
     "execution_count": 52,
     "metadata": {},
     "output_type": "execute_result"
    }
   ],
   "source": [
    "cross_val(X_train,y_train,n_estimators=100,learning_rate=0.15,max_depth=3)   # tag var 0.017"
   ]
  },
  {
   "cell_type": "code",
   "execution_count": 54,
   "metadata": {},
   "outputs": [
    {
     "name": "stdout",
     "output_type": "stream",
     "text": [
      "0.6511415983932989\n",
      "0.6580761217053761\n",
      "0.6547010205568369\n",
      "0.6508927172576224\n",
      "0.6647713197573478\n"
     ]
    },
    {
     "data": {
      "text/plain": [
       "0.6559165555340964"
      ]
     },
     "execution_count": 54,
     "metadata": {},
     "output_type": "execute_result"
    }
   ],
   "source": [
    "cross_val(X_train,y_train,n_estimators=150,learning_rate=0.15,max_depth=3)   # tag var 0.017"
   ]
  },
  {
   "cell_type": "code",
   "execution_count": 87,
   "metadata": {},
   "outputs": [
    {
     "name": "stdout",
     "output_type": "stream",
     "text": [
      "0.6507112758860804\n",
      "0.6572848815053276\n",
      "0.653676667749473\n",
      "0.6511148601827342\n",
      "0.6651529522739688\n"
     ]
    },
    {
     "data": {
      "text/plain": [
       "0.6555881275195168"
      ]
     },
     "execution_count": 87,
     "metadata": {},
     "output_type": "execute_result"
    }
   ],
   "source": [
    "cross_val(X_train,y_train,n_estimators=100,learning_rate=0.15,max_depth=3)   # tag var 0.02"
   ]
  },
  {
   "cell_type": "code",
   "execution_count": 92,
   "metadata": {},
   "outputs": [
    {
     "name": "stdout",
     "output_type": "stream",
     "text": [
      "0.6481159691789526\n",
      "0.6562297116494902\n",
      "0.6516970866896992\n",
      "0.6490775854000314\n",
      "0.663029682341286\n"
     ]
    },
    {
     "data": {
      "text/plain": [
       "0.6536300070518919"
      ]
     },
     "execution_count": 92,
     "metadata": {},
     "output_type": "execute_result"
    }
   ],
   "source": [
    "cross_val(X_train,y_train,n_estimators=100,learning_rate=0.15,max_depth=3)   # tag var 0"
   ]
  },
  {
   "cell_type": "code",
   "execution_count": null,
   "metadata": {},
   "outputs": [
    {
     "name": "stdout",
     "output_type": "stream",
     "text": [
      "0.642408055086571\n"
     ]
    }
   ],
   "source": [
    "cross_val(X_train,y_train,n_estimators=100,learning_rate=0.15,max_depth=3)   # tag var 0"
   ]
  },
  {
   "cell_type": "code",
   "execution_count": null,
   "metadata": {},
   "outputs": [],
   "source": []
  }
 ],
 "metadata": {
  "kernelspec": {
   "display_name": "Python 3",
   "language": "python",
   "name": "python3"
  },
  "language_info": {
   "codemirror_mode": {
    "name": "ipython",
    "version": 3
   },
   "file_extension": ".py",
   "mimetype": "text/x-python",
   "name": "python",
   "nbconvert_exporter": "python",
   "pygments_lexer": "ipython3",
   "version": "3.6.5"
  }
 },
 "nbformat": 4,
 "nbformat_minor": 2
}

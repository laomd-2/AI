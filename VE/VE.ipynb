{
 "cells": [
  {
   "cell_type": "code",
   "execution_count": 1,
   "metadata": {},
   "outputs": [],
   "source": [
    "import variable_elimination\n",
    "from importlib import reload\n",
    "reload(variable_elimination)\n",
    "from variable_elimination import *"
   ]
  },
  {
   "cell_type": "code",
   "execution_count": 2,
   "metadata": {},
   "outputs": [],
   "source": [
    "# Create nodes for Bayes Net\n",
    "f_B = Node('f_B', ['B'])\n",
    "f_E = Node('f_E', ['E'])\n",
    "f_ABE = Node('f_ABE', ['A', 'B', 'E'])\n",
    "f_JA = Node('f_JA', ['J', 'A'])\n",
    "f_MA = Node('f_MA', ['M', 'A'])\n",
    "\n",
    "# Generate cpt for each node\n",
    "f_B.set_cpt({'0': 0.999, '1': 0.001})\n",
    "f_E.set_cpt({'0': 0.998, '1': 0.002})\n",
    "f_ABE.set_cpt({'111': 0.95, '011': 0.05, '110': 0.94, '010': 0.06,\n",
    "           '101': 0.29, '001': 0.71, '100': 0.001, '000': 0.999})\n",
    "f_JA.set_cpt({'11': 0.9, '01': 0.1, '10': 0.05, '00': 0.95})\n",
    "f_MA.set_cpt({'11': 0.7, '01': 0.3, '10': 0.01, '00': 0.99})"
   ]
  },
  {
   "cell_type": "code",
   "execution_count": 3,
   "metadata": {},
   "outputs": [
    {
     "name": "stdout",
     "output_type": "stream",
     "text": [
      "P(A) **********************\n",
      "Name = f['A']\n",
      " vars ['A']\n",
      "   key: 1 val : 0.0025164420000000002\n",
      "   key: 0 val : 0.997483558\n",
      "\n"
     ]
    }
   ],
   "source": [
    "print(\"P(A) **********************\")\n",
    "VariableElimination.inference([f_B, f_E, f_ABE, f_JA, f_MA], ['A'], ['B', 'E', 'J', 'M'], {})"
   ]
  },
  {
   "cell_type": "code",
   "execution_count": 4,
   "metadata": {},
   "outputs": [
    {
     "name": "stdout",
     "output_type": "stream",
     "text": [
      "P(J, ~M) **********************\n",
      "Name = f['J', 'M']\n",
      " vars ['J', 'M']\n",
      "   key: 11 val : 0.002084100239\n",
      "   key: 10 val : 0.050054875461\n",
      "   key: 01 val : 0.009652244741\n",
      "   key: 00 val : 0.938208779559\n",
      "\n"
     ]
    }
   ],
   "source": [
    "print(\"P(J, ~M) **********************\")\n",
    "VariableElimination.inference([f_B, f_E, f_ABE, f_JA, f_MA], ['J', 'M'], ['B','E', 'A'], {})"
   ]
  },
  {
   "cell_type": "code",
   "execution_count": 5,
   "metadata": {
    "scrolled": false
   },
   "outputs": [
    {
     "name": "stdout",
     "output_type": "stream",
     "text": [
      "P(A | J, ~M) **********************\n",
      "Name = f['A']\n",
      " vars ['A']\n",
      "   key: 1 val : 0.013573889331307633\n",
      "   key: 0 val : 0.9864261106686925\n",
      "\n"
     ]
    }
   ],
   "source": [
    "print(\"P(A | J, ~M) **********************\")\n",
    "VariableElimination.inference([f_B, f_E, f_ABE, f_JA, f_MA], ['A'], ['B', 'E'], {'J':'1', 'M':'0'})"
   ]
  },
  {
   "cell_type": "code",
   "execution_count": 6,
   "metadata": {
    "scrolled": true
   },
   "outputs": [
    {
     "name": "stdout",
     "output_type": "stream",
     "text": [
      "P(B | A) **********************\n",
      "Name = f['B']\n",
      " vars ['B']\n",
      "   key: 0 val : 0.626448771718164\n",
      "   key: 1 val : 0.373551228281836\n",
      "\n"
     ]
    }
   ],
   "source": [
    "print(\"P(B | A) **********************\")\n",
    "VariableElimination.inference([f_B, f_E, f_ABE, f_JA, f_MA], ['B'], ['E', 'J', 'M'],{'A':'1'})"
   ]
  },
  {
   "cell_type": "code",
   "execution_count": 7,
   "metadata": {
    "scrolled": false
   },
   "outputs": [
    {
     "name": "stdout",
     "output_type": "stream",
     "text": [
      "P(B | J, ~M) **********************\n",
      "Name = f['B']\n",
      " vars ['B']\n",
      "   key: 0 val : 0.9948701418665987\n",
      "   key: 1 val : 0.0051298581334013015\n",
      "\n"
     ]
    }
   ],
   "source": [
    "print(\"P(B | J, ~M) **********************\")\n",
    "VariableElimination.inference([f_B, f_E, f_ABE, f_JA, f_MA], ['B'], ['E', 'A'], {'J': '1', 'M': '0'})"
   ]
  },
  {
   "cell_type": "code",
   "execution_count": 9,
   "metadata": {},
   "outputs": [
    {
     "name": "stdout",
     "output_type": "stream",
     "text": [
      "P(J, ~M | ~B) **********************\n",
      "Name = f['J', 'M']\n",
      " vars ['J', 'M']\n",
      "   key: 11 val : 0.001493351\n",
      "   key: 10 val : 0.049847948999999996\n",
      "   key: 01 val : 0.009595469\n",
      "   key: 00 val : 0.939063231\n",
      "\n"
     ]
    }
   ],
   "source": [
    "print(\"P(J, ~M | ~B) **********************\")\n",
    "VariableElimination.inference([f_B, f_E, f_ABE, f_JA, f_MA], ['J', 'M'], ['E', 'A'], {'B': '0'})"
   ]
  }
 ],
 "metadata": {
  "kernelspec": {
   "display_name": "Python 3",
   "language": "python",
   "name": "python3"
  },
  "language_info": {
   "codemirror_mode": {
    "name": "ipython",
    "version": 3
   },
   "file_extension": ".py",
   "mimetype": "text/x-python",
   "name": "python",
   "nbconvert_exporter": "python",
   "pygments_lexer": "ipython3",
   "version": "3.6.5"
  }
 },
 "nbformat": 4,
 "nbformat_minor": 2
}

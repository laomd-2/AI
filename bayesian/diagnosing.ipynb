{
 "cells": [
  {
   "cell_type": "code",
   "execution_count": 2,
   "metadata": {},
   "outputs": [],
   "source": [
    "from pomegranate import *\n",
    "from my_bayes import *"
   ]
  },
  {
   "cell_type": "code",
   "execution_count": 3,
   "metadata": {},
   "outputs": [],
   "source": [
    "patient_age = DiscreteDistribution({'0-30': 0.10, '31-65': 0.30, '65+': 0.60})"
   ]
  },
  {
   "cell_type": "code",
   "execution_count": 4,
   "metadata": {},
   "outputs": [],
   "source": [
    "ct_scan_result = DiscreteDistribution({'I': 0.7, 'H':0.3})"
   ]
  },
  {
   "cell_type": "code",
   "execution_count": 5,
   "metadata": {},
   "outputs": [],
   "source": [
    "mri_scan_result = DiscreteDistribution({'I': 0.7, 'H':0.3})"
   ]
  },
  {
   "cell_type": "code",
   "execution_count": 6,
   "metadata": {},
   "outputs": [],
   "source": [
    "anti = DiscreteDistribution({'U':0.5, '-U':0.5})"
   ]
  },
  {
   "cell_type": "code",
   "execution_count": 8,
   "metadata": {},
   "outputs": [],
   "source": [
    "stroke_type = ConditionalProbabilityTable(\n",
    "    [\n",
    "        ['I', 'I', 'I', 0.8],\n",
    "        ['I', 'H', 'I', 0.5],\n",
    "        ['H', 'I', 'I', 0.5],\n",
    "        ['H', 'H', 'I', 0],\n",
    "        \n",
    "        ['I', 'I', 'H', 0],\n",
    "        ['I', 'H', 'H', 0.4],\n",
    "        ['H', 'I', 'H', 0.4],\n",
    "        ['H', 'H', 'H', 0.9],\n",
    "        \n",
    "        ['I', 'I', 'M', 0.2],\n",
    "        ['I', 'H', 'M', 0.1],\n",
    "        ['H', 'I', 'M', 0.1],\n",
    "        ['H', 'H', 'M', 0.1]\n",
    "    ],\n",
    "    [ct_scan_result, mri_scan_result])"
   ]
  },
  {
   "cell_type": "code",
   "execution_count": 10,
   "metadata": {},
   "outputs": [],
   "source": [
    "mortality = ConditionalProbabilityTable(\n",
    "    [\n",
    "        ['I', 'U', 'F', 0.28],\n",
    "        ['H', 'U', 'F', 0.99],\n",
    "        ['M', 'U', 'F', 0.10],\n",
    "        ['I', '-U', 'F', 0.56],\n",
    "        ['H', '-U', 'F', 0.58],\n",
    "        ['M', '-U', 'F', 0.05],\n",
    "        \n",
    "        ['I', 'U', 'T', 0.72],\n",
    "        ['H', 'U', 'T', 0.01],\n",
    "        ['M', 'U', 'T', 0.90],\n",
    "        ['I', '-U', 'T', 0.44],\n",
    "        ['H', '-U', 'T', 0.42],\n",
    "        ['M', '-U', 'T', 0.95],\n",
    "    ],\n",
    "    [stroke_type, anti]\n",
    ")"
   ]
  },
  {
   "cell_type": "code",
   "execution_count": 11,
   "metadata": {},
   "outputs": [],
   "source": [
    "disability = ConditionalProbabilityTable(\n",
    "    [\n",
    "        ['I', '0-30', 'N', 0.80],\n",
    "        ['H', '0-30', 'N', 0.70],\n",
    "        ['M', '0-30', 'N', 0.90],\n",
    "        ['I', '31-65', 'N', 0.60],\n",
    "        ['H', '31-65', 'N', 0.50],\n",
    "        ['M', '31-65', 'N', 0.40],\n",
    "        ['I', '65+', 'N', 0.30],\n",
    "        ['H', '65+', 'N', 0.20],\n",
    "        ['M', '65+', 'N', 0.10],\n",
    "        \n",
    "        ['I', '0-30', 'M', 0.10],\n",
    "        ['H', '0-30', 'M', 0.20],\n",
    "        ['M', '0-30', 'M', 0.05],\n",
    "        ['I', '31-65', 'M', 0.30],\n",
    "        ['H', '31-65', 'M', 0.30],\n",
    "        ['M', '31-65', 'M', 0.30],\n",
    "        ['I', '65+', 'M', 0.40],\n",
    "        ['H', '65+', 'M', 0.20],\n",
    "        ['M', '65+', 'M', 0.10],\n",
    "        \n",
    "        ['I', '0-30', 'S', 0.10],\n",
    "        ['H', '0-30', 'S', 0.10],\n",
    "        ['M', '0-30', 'S', 0.05],\n",
    "        ['I', '31-65', 'S', 0.10],\n",
    "        ['H', '31-65', 'S', 0.10],\n",
    "        ['M', '31-65', 'S', 0.30],\n",
    "        ['I', '65+', 'S', 0.30],\n",
    "        ['H', '65+', 'S', 0.60],\n",
    "        ['M', '65+', 'S', 0.80],\n",
    "    ]\n",
    "    ,\n",
    "    [stroke_type, patient_age]\n",
    ")"
   ]
  },
  {
   "cell_type": "code",
   "execution_count": 37,
   "metadata": {},
   "outputs": [],
   "source": [
    "model = MyBayesianNetwork('Diagnosing')"
   ]
  },
  {
   "cell_type": "code",
   "execution_count": 38,
   "metadata": {},
   "outputs": [],
   "source": [
    "nodes = [patient_age, ct_scan_result, mri_scan_result, anti, stroke_type, mortality, disability]"
   ]
  },
  {
   "cell_type": "code",
   "execution_count": 39,
   "metadata": {},
   "outputs": [],
   "source": [
    "states = [Node(node) for node in nodes]"
   ]
  },
  {
   "cell_type": "code",
   "execution_count": 40,
   "metadata": {},
   "outputs": [],
   "source": [
    "model.add_nodes(*states)"
   ]
  },
  {
   "cell_type": "code",
   "execution_count": 41,
   "metadata": {},
   "outputs": [],
   "source": [
    "edges = [(1, 4), (2, 4), (4, 5), (3, 5), (4, 6), (0, 6)]\n",
    "for a, b in edges:\n",
    "    model.add_edge(states[a], states[b])"
   ]
  },
  {
   "cell_type": "code",
   "execution_count": 42,
   "metadata": {},
   "outputs": [],
   "source": [
    "model.bake()"
   ]
  },
  {
   "cell_type": "code",
   "execution_count": 44,
   "metadata": {},
   "outputs": [],
   "source": [
    "# patient_age, ct, mri, anti, stroke, mor, disability"
   ]
  },
  {
   "cell_type": "code",
   "execution_count": 43,
   "metadata": {},
   "outputs": [
    {
     "data": {
      "text/plain": [
       "0.5948500000000001"
      ]
     },
     "execution_count": 43,
     "metadata": {},
     "output_type": "execute_result"
    }
   ],
   "source": [
    "model.probability(['0-30', 'I', None, None, None, 'T', None]) / model.probability(['0-30', 'I', None, None, None, None, None])"
   ]
  },
  {
   "cell_type": "code",
   "execution_count": 45,
   "metadata": {},
   "outputs": [
    {
     "data": {
      "text/plain": [
       "0.42100000000000004"
      ]
     },
     "execution_count": 45,
     "metadata": {},
     "output_type": "execute_result"
    }
   ],
   "source": [
    "model.probability(['65+', None, 'I', None, None, None, 'S']) / model.probability(['65+', None, 'I', None, None, None, None])"
   ]
  },
  {
   "cell_type": "code",
   "execution_count": 46,
   "metadata": {},
   "outputs": [
    {
     "data": {
      "text/plain": [
       "0.10000000000000006"
      ]
     },
     "execution_count": 46,
     "metadata": {},
     "output_type": "execute_result"
    }
   ],
   "source": [
    "model.probability(['65+', 'H', 'I', None, 'M', None, None]) / model.probability(['65+', 'H', 'I', None, None, None, None])"
   ]
  },
  {
   "cell_type": "code",
   "execution_count": 47,
   "metadata": {},
   "outputs": [
    {
     "data": {
      "text/plain": [
       "0.09999999999999995"
      ]
     },
     "execution_count": 47,
     "metadata": {},
     "output_type": "execute_result"
    }
   ],
   "source": [
    "model.probability(['0-30', None, None, 'U', 'M', 'F', None]) / model.probability(['0-30', None, None, 'U', 'M', None, None])"
   ]
  },
  {
   "cell_type": "code",
   "execution_count": 49,
   "metadata": {},
   "outputs": [
    {
     "data": {
      "text/plain": [
       "5.250000000000009e-06"
      ]
     },
     "execution_count": 49,
     "metadata": {},
     "output_type": "execute_result"
    }
   ],
   "source": [
    "model.probability(['0-30', 'I', 'H', 'U', 'M', 'F', 'S'])"
   ]
  },
  {
   "cell_type": "code",
   "execution_count": null,
   "metadata": {},
   "outputs": [],
   "source": []
  }
 ],
 "metadata": {
  "kernelspec": {
   "display_name": "Python 3",
   "language": "python",
   "name": "python3"
  },
  "language_info": {
   "codemirror_mode": {
    "name": "ipython",
    "version": 3
   },
   "file_extension": ".py",
   "mimetype": "text/x-python",
   "name": "python",
   "nbconvert_exporter": "python",
   "pygments_lexer": "ipython3",
   "version": "3.6.5"
  }
 },
 "nbformat": 4,
 "nbformat_minor": 2
}

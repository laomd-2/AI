{
 "cells": [
  {
   "cell_type": "code",
   "execution_count": 1,
   "metadata": {},
   "outputs": [],
   "source": [
    "from pomegranate import *"
   ]
  },
  {
   "cell_type": "code",
   "execution_count": 2,
   "metadata": {},
   "outputs": [],
   "source": [
    "def auto_complete(probability_table):\n",
    "    for i in range(len(probability_table)):\n",
    "        v = probability_table[i].copy()\n",
    "        v[-2] = '-' + v[-2]\n",
    "        v[-1] = 1 - v[-1]\n",
    "        probability_table.append(v)\n",
    "    return probability_table"
   ]
  },
  {
   "cell_type": "code",
   "execution_count": 3,
   "metadata": {},
   "outputs": [],
   "source": [
    "burglary = DiscreteDistribution(dict(auto_complete([['b', 0.5]])))\n",
    "earthquake = DiscreteDistribution(dict(auto_complete([['e', 0.002]])))\n",
    "alarm = ConditionalProbabilityTable(\n",
    "    auto_complete([\n",
    "        ['b', 'e', 'a', 0.95],\n",
    "        ['b', '-e', 'a', 0.94],\n",
    "        ['-b', 'e', 'a', 0.29],\n",
    "        ['-b', '-e', 'a', 0.001]\n",
    "    ]),\n",
    "    [burglary, earthquake]\n",
    ")\n",
    "john_calls = ConditionalProbabilityTable(\n",
    "    auto_complete([\n",
    "        ['a', 'j', 0.90],\n",
    "        ['-a', 'j', 0.05]\n",
    "    ]),\n",
    "    [alarm]\n",
    ")\n",
    "mary_calls = ConditionalProbabilityTable(\n",
    "    auto_complete([\n",
    "        ['a', 'm', 0.70],\n",
    "        ['-a', 'm', 0.01]\n",
    "    ]),\n",
    "    [alarm]\n",
    ")"
   ]
  },
  {
   "cell_type": "code",
   "execution_count": 4,
   "metadata": {},
   "outputs": [],
   "source": [
    "model = BayesianNetwork('Burglary')\n",
    "nodes = [burglary, earthquake, alarm, john_calls, mary_calls]\n",
    "states = [State(node) for node in nodes]\n",
    "model.add_states(*states)\n",
    "model.add_edge(states[0], states[2])\n",
    "model.add_edge(states[1], states[2])\n",
    "model.add_edge(states[2], states[3])\n",
    "model.add_edge(states[2], states[4])\n",
    "model.bake()"
   ]
  },
  {
   "cell_type": "code",
   "execution_count": 6,
   "metadata": {},
   "outputs": [
    {
     "ename": "ValueError",
     "evalue": "must have pygraphviz installed for visualization",
     "traceback": [
      "\u001b[1;31m---------------------------------------------------------------------------\u001b[0m",
      "\u001b[1;31mValueError\u001b[0m                                Traceback (most recent call last)",
      "\u001b[1;32m<ipython-input-6-24bd70afb218>\u001b[0m in \u001b[0;36m<module>\u001b[1;34m\u001b[0m\n\u001b[1;32m----> 1\u001b[1;33m \u001b[0mmodel\u001b[0m\u001b[1;33m.\u001b[0m\u001b[0mplot\u001b[0m\u001b[1;33m(\u001b[0m\u001b[1;33m)\u001b[0m\u001b[1;33m\u001b[0m\u001b[0m\n\u001b[0m",
      "\u001b[1;32mBayesianNetwork.pyx\u001b[0m in \u001b[0;36mpomegranate.BayesianNetwork.BayesianNetwork.plot\u001b[1;34m()\u001b[0m\n",
      "\u001b[1;31mValueError\u001b[0m: must have pygraphviz installed for visualization"
     ],
     "output_type": "error"
    }
   ],
   "source": [
    "model.plot()"
   ]
  },
  {
   "cell_type": "code",
   "execution_count": null,
   "metadata": {},
   "outputs": [],
   "source": []
  }
 ],
 "metadata": {
  "kernelspec": {
   "display_name": "Python 3",
   "language": "python",
   "name": "python3"
  },
  "language_info": {
   "codemirror_mode": {
    "name": "ipython",
    "version": 3
   },
   "file_extension": ".py",
   "mimetype": "text/x-python",
   "name": "python",
   "nbconvert_exporter": "python",
   "pygments_lexer": "ipython3",
   "version": "3.6.5"
  }
 },
 "nbformat": 4,
 "nbformat_minor": 2
}

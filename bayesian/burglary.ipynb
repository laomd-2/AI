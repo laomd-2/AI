{
 "cells": [
  {
   "cell_type": "code",
   "execution_count": 1,
   "metadata": {},
   "outputs": [],
   "source": [
    "from pomegranate import *\n",
    "from my_bayes import *"
   ]
  },
  {
   "cell_type": "code",
   "execution_count": 2,
   "metadata": {},
   "outputs": [],
   "source": [
    "burglary = DiscreteDistribution(dict(auto_complete([['b', 0.001]])))\n",
    "earthquake = DiscreteDistribution(dict(auto_complete([['e', 0.002]])))\n",
    "alarm = ConditionalProbabilityTable(\n",
    "    auto_complete([\n",
    "        ['b', 'e', 'a', 0.95],\n",
    "        ['b', '-e', 'a', 0.94],\n",
    "        ['-b', 'e', 'a', 0.29],\n",
    "        ['-b', '-e', 'a', 0.001]\n",
    "    ]),\n",
    "    [burglary, earthquake]\n",
    ")\n",
    "john_calls = ConditionalProbabilityTable(\n",
    "    auto_complete([\n",
    "        ['a', 'j', 0.90],\n",
    "        ['-a', 'j', 0.05]\n",
    "    ]),\n",
    "    [alarm]\n",
    ")\n",
    "mary_calls = ConditionalProbabilityTable(\n",
    "    auto_complete([\n",
    "        ['a', 'm', 0.70],\n",
    "        ['-a', 'm', 0.01]\n",
    "    ]),\n",
    "    [alarm]\n",
    ")"
   ]
  },
  {
   "cell_type": "code",
   "execution_count": 3,
   "metadata": {},
   "outputs": [
    {
     "data": {
      "text/plain": [
       "[{'b': 0.001, '-b': 0.999}]"
      ]
     },
     "execution_count": 3,
     "metadata": {},
     "output_type": "execute_result"
    }
   ],
   "source": [
    "burglary.parameters"
   ]
  },
  {
   "cell_type": "code",
   "execution_count": 4,
   "metadata": {},
   "outputs": [
    {
     "data": {
      "text/plain": [
       "[{'e': 0.002, '-e': 0.998}]"
      ]
     },
     "execution_count": 4,
     "metadata": {},
     "output_type": "execute_result"
    }
   ],
   "source": [
    "earthquake.parameters"
   ]
  },
  {
   "cell_type": "code",
   "execution_count": 5,
   "metadata": {},
   "outputs": [
    {
     "data": {
      "text/plain": [
       "[['b', 'e', 'a', 0.95],\n",
       " ['b', '-e', 'a', 0.94],\n",
       " ['-b', 'e', 'a', 0.29],\n",
       " ['-b', '-e', 'a', 0.001],\n",
       " ['b', 'e', '-a', 0.050000000000000044],\n",
       " ['b', '-e', '-a', 0.06000000000000005],\n",
       " ['-b', 'e', '-a', 0.71],\n",
       " ['-b', '-e', '-a', 0.999]]"
      ]
     },
     "execution_count": 5,
     "metadata": {},
     "output_type": "execute_result"
    }
   ],
   "source": [
    "alarm.parameters[0]"
   ]
  },
  {
   "cell_type": "code",
   "execution_count": 6,
   "metadata": {},
   "outputs": [
    {
     "data": {
      "text/plain": [
       "[['a', 'j', 0.9],\n",
       " ['-a', 'j', 0.05],\n",
       " ['a', '-j', 0.09999999999999998],\n",
       " ['-a', '-j', 0.95]]"
      ]
     },
     "execution_count": 6,
     "metadata": {},
     "output_type": "execute_result"
    }
   ],
   "source": [
    "john_calls.parameters[0]"
   ]
  },
  {
   "cell_type": "code",
   "execution_count": 7,
   "metadata": {},
   "outputs": [
    {
     "data": {
      "text/plain": [
       "[['a', 'm', 0.7],\n",
       " ['-a', 'm', 0.01],\n",
       " ['a', '-m', 0.30000000000000004],\n",
       " ['-a', '-m', 0.99]]"
      ]
     },
     "execution_count": 7,
     "metadata": {},
     "output_type": "execute_result"
    }
   ],
   "source": [
    "mary_calls.parameters[0]"
   ]
  },
  {
   "cell_type": "code",
   "execution_count": null,
   "metadata": {},
   "outputs": [],
   "source": []
  },
  {
   "cell_type": "code",
   "execution_count": 8,
   "metadata": {},
   "outputs": [],
   "source": [
    "model = MyBayesianNetwork('Burglary')\n",
    "nodes = [burglary, earthquake, alarm, john_calls, mary_calls]\n",
    "states = [State(node) for node in nodes]\n",
    "model.add_states(*states)\n",
    "model.add_edge(states[0], states[2])\n",
    "model.add_edge(states[1], states[2])\n",
    "model.add_edge(states[2], states[3])\n",
    "model.add_edge(states[2], states[4])\n",
    "model.bake()"
   ]
  },
  {
   "cell_type": "code",
   "execution_count": 9,
   "metadata": {},
   "outputs": [
    {
     "data": {
      "text/plain": [
       "1.1969999999999995e-06"
      ]
     },
     "execution_count": 9,
     "metadata": {},
     "output_type": "execute_result"
    }
   ],
   "source": [
    "model.probability(['b', 'e', 'a', 'j', 'm']) # P(Burglary, Earthquake, Alarm, JohnCalls, MaryCalls)"
   ]
  },
  {
   "cell_type": "code",
   "execution_count": 10,
   "metadata": {},
   "outputs": [],
   "source": [
    "j_m = model.probability([None, None, None, 'j', 'm'])"
   ]
  },
  {
   "cell_type": "code",
   "execution_count": 11,
   "metadata": {},
   "outputs": [
    {
     "data": {
      "text/plain": [
       "0.0020841002390000014"
      ]
     },
     "execution_count": 11,
     "metadata": {},
     "output_type": "execute_result"
    }
   ],
   "source": [
    "j_m"
   ]
  },
  {
   "cell_type": "code",
   "execution_count": 12,
   "metadata": {},
   "outputs": [],
   "source": [
    "a_j_m = model.probability([None, None, 'a', 'j', 'm'])"
   ]
  },
  {
   "cell_type": "code",
   "execution_count": 13,
   "metadata": {},
   "outputs": [
    {
     "data": {
      "text/plain": [
       "0.001585358460000001"
      ]
     },
     "execution_count": 13,
     "metadata": {},
     "output_type": "execute_result"
    }
   ],
   "source": [
    "a_j_m"
   ]
  },
  {
   "cell_type": "code",
   "execution_count": 14,
   "metadata": {},
   "outputs": [
    {
     "data": {
      "text/plain": [
       "0.7606920388631077"
      ]
     },
     "execution_count": 14,
     "metadata": {},
     "output_type": "execute_result"
    }
   ],
   "source": [
    "a_j_m / j_m # P(Alarm | JohnCalls, MaryCalls) = P(Alarm, JohnCalls, MaryCalls) / P(JohnCalls, MaryCalls)"
   ]
  },
  {
   "cell_type": "code",
   "execution_count": 15,
   "metadata": {},
   "outputs": [],
   "source": [
    "notb_j_notm = model.probability(['-b', None, None, 'j', '-m'])"
   ]
  },
  {
   "cell_type": "code",
   "execution_count": 16,
   "metadata": {},
   "outputs": [
    {
     "data": {
      "text/plain": [
       "0.049798101051"
      ]
     },
     "execution_count": 16,
     "metadata": {},
     "output_type": "execute_result"
    }
   ],
   "source": [
    "notb_j_notm"
   ]
  },
  {
   "cell_type": "code",
   "execution_count": 17,
   "metadata": {},
   "outputs": [],
   "source": [
    "notb = burglary.probability('-b')"
   ]
  },
  {
   "cell_type": "code",
   "execution_count": 18,
   "metadata": {},
   "outputs": [
    {
     "data": {
      "text/plain": [
       "0.049847949"
      ]
     },
     "execution_count": 18,
     "metadata": {},
     "output_type": "execute_result"
    }
   ],
   "source": [
    "notb_j_notm / notb  # P(JohnCalls, ¬ MaryCalls | ￢Burglary)"
   ]
  }
 ],
 "metadata": {
  "kernelspec": {
   "display_name": "Python 3",
   "language": "python",
   "name": "python3"
  },
  "language_info": {
   "codemirror_mode": {
    "name": "ipython",
    "version": 3
   },
   "file_extension": ".py",
   "mimetype": "text/x-python",
   "name": "python",
   "nbconvert_exporter": "python",
   "pygments_lexer": "ipython3",
   "version": "3.6.5"
  }
 },
 "nbformat": 4,
 "nbformat_minor": 2
}

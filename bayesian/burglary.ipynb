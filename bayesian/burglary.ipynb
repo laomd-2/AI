{
 "cells": [
  {
   "cell_type": "code",
   "execution_count": 1,
   "metadata": {},
   "outputs": [],
   "source": [
    "from pomegranate import *"
   ]
  },
  {
   "cell_type": "code",
   "execution_count": 2,
   "metadata": {},
   "outputs": [],
   "source": [
    "def auto_complete(probability_table):\n",
    "    for i in range(len(probability_table)):\n",
    "        v = probability_table[i].copy()\n",
    "        v[-2] = '-' + v[-2]\n",
    "        v[-1] = 1 - v[-1]\n",
    "        probability_table.append(v)\n",
    "    return probability_table"
   ]
  },
  {
   "cell_type": "code",
   "execution_count": 3,
   "metadata": {},
   "outputs": [],
   "source": [
    "burglary = DiscreteDistribution(dict(auto_complete([['b', 0.5]])))\n",
    "earthquake = DiscreteDistribution(dict(auto_complete([['e', 0.002]])))\n",
    "alarm = ConditionalProbabilityTable(\n",
    "    auto_complete([\n",
    "        ['b', 'e', 'a', 0.95],\n",
    "        ['b', '-e', 'a', 0.94],\n",
    "        ['-b', 'e', 'a', 0.29],\n",
    "        ['-b', '-e', 'a', 0.001]\n",
    "    ]),\n",
    "    [burglary, earthquake]\n",
    ")\n",
    "john_calls = ConditionalProbabilityTable(\n",
    "    auto_complete([\n",
    "        ['a', 'j', 0.90],\n",
    "        ['-a', 'j', 0.05]\n",
    "    ]),\n",
    "    [alarm]\n",
    ")\n",
    "mary_calls = ConditionalProbabilityTable(\n",
    "    auto_complete([\n",
    "        ['a', 'm', 0.70],\n",
    "        ['-a', 'm', 0.01]\n",
    "    ]),\n",
    "    [alarm]\n",
    ")"
   ]
  },
  {
   "cell_type": "code",
   "execution_count": 4,
   "metadata": {},
   "outputs": [],
   "source": [
    "model = BayesianNetwork('Burglary')\n",
    "nodes = [burglary, earthquake, alarm, john_calls, mary_calls]\n",
    "states = [State(node) for node in nodes]\n",
    "model.add_states(*states)\n",
    "model.add_edge(states[0], states[2])\n",
    "model.add_edge(states[1], states[2])\n",
    "model.add_edge(states[2], states[3])\n",
    "model.add_edge(states[2], states[4])\n",
    "model.bake()"
   ]
  },
  {
   "cell_type": "code",
   "execution_count": 6,
   "metadata": {},
   "outputs": [
    {
     "data": {
      "text/plain": [
       "0.0005985000000000006"
      ]
     },
     "execution_count": 6,
     "metadata": {},
     "output_type": "execute_result"
    }
   ],
   "source": [
    "model.probability(['b', 'e', 'a', 'j', 'm'])"
   ]
  },
  {
   "cell_type": "code",
   "execution_count": null,
   "metadata": {},
   "outputs": [],
   "source": []
  }
 ],
 "metadata": {
  "kernelspec": {
   "display_name": "Python 3",
   "language": "python",
   "name": "python3"
  },
  "language_info": {
   "codemirror_mode": {
    "name": "ipython",
    "version": 3
   },
   "file_extension": ".py",
   "mimetype": "text/x-python",
   "name": "python",
   "nbconvert_exporter": "python",
   "pygments_lexer": "ipython3",
   "version": "3.6.5"
  }
 },
 "nbformat": 4,
 "nbformat_minor": 2
}

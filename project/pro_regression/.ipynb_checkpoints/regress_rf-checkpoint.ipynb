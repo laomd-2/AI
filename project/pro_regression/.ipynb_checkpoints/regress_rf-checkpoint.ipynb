{
 "cells": [
  {
   "cell_type": "code",
   "execution_count": 93,
   "metadata": {
    "collapsed": true
   },
   "outputs": [],
   "source": [
    "%matplotlib inline\n",
    "import numpy as np\n",
    "import pandas as pd\n",
    "import seaborn as sns\n",
    "import matplotlib.pyplot as plt\n",
    "from sklearn import preprocessing\n",
    "from sklearn import ensemble, tree, linear_model\n",
    "from sklearn.model_selection import train_test_split, cross_val_score\n",
    "from sklearn.metrics import r2_score, mean_squared_error\n",
    "from tqdm import tqdm\n",
    "# from sklearn.utils import shuffle"
   ]
  },
  {
   "cell_type": "code",
   "execution_count": 127,
   "metadata": {
    "collapsed": true
   },
   "outputs": [],
   "source": [
    "df = pd.read_excel('data/回归/train.xlsx')\n",
    "dftest = pd.read_excel('data/回归/testStudent.xlsx')"
   ]
  },
  {
   "cell_type": "code",
   "execution_count": 172,
   "metadata": {},
   "outputs": [
    {
     "data": {
      "text/html": [
       "<div>\n",
       "<style>\n",
       "    .dataframe thead tr:only-child th {\n",
       "        text-align: right;\n",
       "    }\n",
       "\n",
       "    .dataframe thead th {\n",
       "        text-align: left;\n",
       "    }\n",
       "\n",
       "    .dataframe tbody tr th {\n",
       "        vertical-align: top;\n",
       "    }\n",
       "</style>\n",
       "<table border=\"1\" class=\"dataframe\">\n",
       "  <thead>\n",
       "    <tr style=\"text-align: right;\">\n",
       "      <th></th>\n",
       "      <th>Additional_Number_of_Scoring</th>\n",
       "      <th>Average_Score</th>\n",
       "      <th>Review_Total_Negative_Word_Counts</th>\n",
       "      <th>Total_Number_of_Reviews</th>\n",
       "      <th>Review_Total_Positive_Word_Counts</th>\n",
       "      <th>Total_Number_of_Reviews_Reviewer_Has_Given</th>\n",
       "      <th>Tags</th>\n",
       "    </tr>\n",
       "  </thead>\n",
       "  <tbody>\n",
       "    <tr>\n",
       "      <th>0</th>\n",
       "      <td>525</td>\n",
       "      <td>8.2</td>\n",
       "      <td>0</td>\n",
       "      <td>1842</td>\n",
       "      <td>9</td>\n",
       "      <td>10</td>\n",
       "      <td>[' Leisure trip ', ' Couple ', ' Double or Twi...</td>\n",
       "    </tr>\n",
       "    <tr>\n",
       "      <th>1</th>\n",
       "      <td>440</td>\n",
       "      <td>8.0</td>\n",
       "      <td>16</td>\n",
       "      <td>2418</td>\n",
       "      <td>10</td>\n",
       "      <td>11</td>\n",
       "      <td>[' Business trip ', ' Solo traveler ', ' Singl...</td>\n",
       "    </tr>\n",
       "    <tr>\n",
       "      <th>2</th>\n",
       "      <td>2623</td>\n",
       "      <td>8.7</td>\n",
       "      <td>257</td>\n",
       "      <td>12158</td>\n",
       "      <td>10</td>\n",
       "      <td>3</td>\n",
       "      <td>[' Leisure trip ', ' Travelers with friends ',...</td>\n",
       "    </tr>\n",
       "    <tr>\n",
       "      <th>3</th>\n",
       "      <td>220</td>\n",
       "      <td>9.3</td>\n",
       "      <td>0</td>\n",
       "      <td>831</td>\n",
       "      <td>14</td>\n",
       "      <td>11</td>\n",
       "      <td>[' Leisure trip ', ' Couple ', ' Executive Kin...</td>\n",
       "    </tr>\n",
       "    <tr>\n",
       "      <th>4</th>\n",
       "      <td>369</td>\n",
       "      <td>6.4</td>\n",
       "      <td>0</td>\n",
       "      <td>2275</td>\n",
       "      <td>4</td>\n",
       "      <td>2</td>\n",
       "      <td>[' Leisure trip ', ' Couple ', ' Double Room '...</td>\n",
       "    </tr>\n",
       "  </tbody>\n",
       "</table>\n",
       "</div>"
      ],
      "text/plain": [
       "   Additional_Number_of_Scoring  Average_Score  \\\n",
       "0                           525            8.2   \n",
       "1                           440            8.0   \n",
       "2                          2623            8.7   \n",
       "3                           220            9.3   \n",
       "4                           369            6.4   \n",
       "\n",
       "   Review_Total_Negative_Word_Counts  Total_Number_of_Reviews  \\\n",
       "0                                  0                     1842   \n",
       "1                                 16                     2418   \n",
       "2                                257                    12158   \n",
       "3                                  0                      831   \n",
       "4                                  0                     2275   \n",
       "\n",
       "   Review_Total_Positive_Word_Counts  \\\n",
       "0                                  9   \n",
       "1                                 10   \n",
       "2                                 10   \n",
       "3                                 14   \n",
       "4                                  4   \n",
       "\n",
       "   Total_Number_of_Reviews_Reviewer_Has_Given  \\\n",
       "0                                          10   \n",
       "1                                          11   \n",
       "2                                           3   \n",
       "3                                          11   \n",
       "4                                           2   \n",
       "\n",
       "                                                Tags  \n",
       "0  [' Leisure trip ', ' Couple ', ' Double or Twi...  \n",
       "1  [' Business trip ', ' Solo traveler ', ' Singl...  \n",
       "2  [' Leisure trip ', ' Travelers with friends ',...  \n",
       "3  [' Leisure trip ', ' Couple ', ' Executive Kin...  \n",
       "4  [' Leisure trip ', ' Couple ', ' Double Room '...  "
      ]
     },
     "execution_count": 172,
     "metadata": {},
     "output_type": "execute_result"
    }
   ],
   "source": []
  },
  {
   "cell_type": "code",
   "execution_count": 128,
   "metadata": {
    "collapsed": true
   },
   "outputs": [],
   "source": [
    "tags = df['Tags'].values\n"
   ]
  },
  {
   "cell_type": "code",
   "execution_count": 129,
   "metadata": {
    "collapsed": true
   },
   "outputs": [],
   "source": [
    "#将tag处理成属性值，扩展到df中\n",
    "tag_set = set()\n",
    "tag_cnt = {}\n",
    "for i,tag in enumerate(tags):\n",
    "    tag = tag.strip('[] ').split(',')\n",
    "    a = []\n",
    "    for t in tag:\n",
    "        t = t.strip(\"' \")\n",
    "        tag_set.add(t)\n",
    "        tag_cnt[t] = tag_cnt.get(t,0)+1\n",
    "        a.append(t)\n",
    "    tags[i] = a\n",
    "    "
   ]
  },
  {
   "cell_type": "code",
   "execution_count": 130,
   "metadata": {
    "collapsed": true
   },
   "outputs": [],
   "source": [
    "attr = {'Solo traveler':4,'Couple':1,'Family with young children':2,'Group':3}\n",
    "def wordInTag(word, tag):\n",
    "    for t in tag:\n",
    "        if word in t:\n",
    "            return t\n",
    "    return False"
   ]
  },
  {
   "cell_type": "code",
   "execution_count": 114,
   "metadata": {},
   "outputs": [
    {
     "name": "stdout",
     "output_type": "stream",
     "text": [
      "1\n"
     ]
    }
   ],
   "source": [
    "# dictStay = {}\n",
    "# for tag in tags:\n",
    "#     t = wordInTag('',tag)\n",
    "#     if t:\n",
    "#         dictStay[t] = dictStay.get(t,len(dictStay))+1\n",
    "# print(len(dictStay))"
   ]
  },
  {
   "cell_type": "code",
   "execution_count": 131,
   "metadata": {},
   "outputs": [],
   "source": [
    "#处理成五维的属性\n",
    "tag_numbers = []\n",
    "tagTypes = {'trip':{},'room':{},'stay':{}}\n",
    "for tag in tags:\n",
    "    tag_numbers.append([])\n",
    "    \n",
    "    fpet = wordInTag('pet',tag)\n",
    "    ftrip = wordInTag('trip',tag)\n",
    "    froom = wordInTag('oom',tag) \n",
    "    fstay = wordInTag('Stayed',tag)\n",
    "    \n",
    "    if fpet:\n",
    "        tag_numbers[-1].append(1)\n",
    "    else:\n",
    "        tag_numbers[-1].append(0)\n",
    "    \n",
    "    if ftrip:\n",
    "        if ftrip not in tagTypes['trip']:\n",
    "            tagTypes['trip'][ftrip] = tagTypes['trip'].get(ftrip, len(tagTypes['trip'])+1) \n",
    "        tag_numbers[-1].append(tagTypes['trip'][ftrip])\n",
    "    else:\n",
    "        tag_numbers[-1].append(0)\n",
    "    \n",
    "    if froom:\n",
    "        if froom not in tagTypes['room']:\n",
    "            tagTypes['room'][froom] = tagTypes['room'].get(froom, len(tagTypes['room'])+1) \n",
    "        tag_numbers[-1].append(tagTypes['room'][froom])\n",
    "    else:\n",
    "        tag_numbers[-1].append(0)\n",
    "        \n",
    "    if fstay:\n",
    "        if fstay not in tagTypes['stay']:\n",
    "            tagTypes['stay'][fstay] = tagTypes['stay'].get(fstay, len(tagTypes['stay'])+1) \n",
    "        tag_numbers[-1].append(tagTypes['stay'][fstay])\n",
    "    else:\n",
    "        tag_numbers[-1].append(0)\n",
    "        \n",
    "    fnum = False\n",
    "    for attrx in attr:\n",
    "        if wordInTag(attrx,tag):\n",
    "            fnum = True\n",
    "            break\n",
    "    if fnum:\n",
    "        tag_numbers[-1].append(attr[attrx])\n",
    "    else:\n",
    "        tag_numbers[-1].append(0)\n",
    "    "
   ]
  },
  {
   "cell_type": "markdown",
   "metadata": {},
   "source": []
  },
  {
   "cell_type": "code",
   "execution_count": 132,
   "metadata": {},
   "outputs": [
    {
     "name": "stdout",
     "output_type": "stream",
     "text": [
      "[[0, 0, 1, 1, 2], [0, 1, 2, 2, 2], [0, 2, 3, 1, 1], [0, 1, 4, 1, 1], [0, 1, 5, 1, 4]]\n"
     ]
    }
   ],
   "source": [
    "print(tag_numbers[:5])"
   ]
  },
  {
   "cell_type": "code",
   "execution_count": 133,
   "metadata": {
    "collapsed": true
   },
   "outputs": [],
   "source": [
    "#将五维的tag假如加入df属性值中\n",
    "tagattr = np.array(tag_numbers)\n",
    "dfattr = pd.DataFrame({'pet':tagattr[:,0],\n",
    "                      'trip':tagattr[:,1],\n",
    "                      'room':tagattr[:,2],\n",
    "                      'stay':tagattr[:,3],\n",
    "                      'num':tagattr[:,4]})\n",
    "dfnew = pd.concat([df,dfattr],axis=1)"
   ]
  },
  {
   "cell_type": "markdown",
   "metadata": {},
   "source": []
  },
  {
   "cell_type": "code",
   "execution_count": 5,
   "metadata": {
    "collapsed": true
   },
   "outputs": [],
   "source": [
    "#取频数多的tag的方法\n",
    "# tag_set = set()\n",
    "# tag_cnt = {}\n",
    "\n",
    "# for i,tag in enumerate(tags):\n",
    "#     tag = tag.strip('[] ').split(',')\n",
    "#     a = []\n",
    "#     for t in tag:\n",
    "#         t = t.strip(\"' \")\n",
    "#         tag_set.add(t)\n",
    "#         tag_cnt[t] = tag_cnt.get(t,0)+1\n",
    "#         a.append(t)\n",
    "#     tags[i] = a\n",
    "# print(len(tags), len(tag_set))"
   ]
  },
  {
   "cell_type": "code",
   "execution_count": null,
   "metadata": {
    "collapsed": true
   },
   "outputs": [],
   "source": []
  },
  {
   "cell_type": "code",
   "execution_count": 7,
   "metadata": {
    "collapsed": true
   },
   "outputs": [],
   "source": [
    "# tag_set = set()\n",
    "# for tag,cnt in tag_cnt.items():\n",
    "#     if cnt > 1000:\n",
    "#         tag_set.add(tag)"
   ]
  },
  {
   "cell_type": "code",
   "execution_count": 8,
   "metadata": {},
   "outputs": [],
   "source": [
    "# len(tag_set)"
   ]
  },
  {
   "cell_type": "code",
   "execution_count": 9,
   "metadata": {
    "collapsed": true,
    "scrolled": true
   },
   "outputs": [],
   "source": [
    "# df = pd.concat([df, pd.DataFrame(np.zeros((len(tags), len(tag_set)), dtype=int),columns=list(tag_set))], axis=1)"
   ]
  },
  {
   "cell_type": "code",
   "execution_count": 10,
   "metadata": {
    "collapsed": true
   },
   "outputs": [],
   "source": [
    "# import os\n",
    "# for i in tqdm(range(len(tags))):\n",
    "#     for t in tags[i]:\n",
    "#         if t in tag_set:\n",
    "#             df.loc[i,t] = 1"
   ]
  },
  {
   "cell_type": "code",
   "execution_count": 134,
   "metadata": {},
   "outputs": [
    {
     "data": {
      "text/html": [
       "<div>\n",
       "<style>\n",
       "    .dataframe thead tr:only-child th {\n",
       "        text-align: right;\n",
       "    }\n",
       "\n",
       "    .dataframe thead th {\n",
       "        text-align: left;\n",
       "    }\n",
       "\n",
       "    .dataframe tbody tr th {\n",
       "        vertical-align: top;\n",
       "    }\n",
       "</style>\n",
       "<table border=\"1\" class=\"dataframe\">\n",
       "  <thead>\n",
       "    <tr style=\"text-align: right;\">\n",
       "      <th></th>\n",
       "      <th>Additional_Number_of_Scoring</th>\n",
       "      <th>Average_Score</th>\n",
       "      <th>Review_Total_Negative_Word_Counts</th>\n",
       "      <th>Total_Number_of_Reviews</th>\n",
       "      <th>Review_Total_Positive_Word_Counts</th>\n",
       "      <th>Total_Number_of_Reviews_Reviewer_Has_Given</th>\n",
       "      <th>Tags</th>\n",
       "      <th>Reviewer_Score</th>\n",
       "      <th>num</th>\n",
       "      <th>pet</th>\n",
       "      <th>room</th>\n",
       "      <th>stay</th>\n",
       "      <th>trip</th>\n",
       "    </tr>\n",
       "  </thead>\n",
       "  <tbody>\n",
       "    <tr>\n",
       "      <th>0</th>\n",
       "      <td>255</td>\n",
       "      <td>8.1</td>\n",
       "      <td>57</td>\n",
       "      <td>1290</td>\n",
       "      <td>10</td>\n",
       "      <td>1</td>\n",
       "      <td>[Family with young children, Standard Queen Ro...</td>\n",
       "      <td>6.3</td>\n",
       "      <td>2</td>\n",
       "      <td>0</td>\n",
       "      <td>1</td>\n",
       "      <td>1</td>\n",
       "      <td>0</td>\n",
       "    </tr>\n",
       "    <tr>\n",
       "      <th>1</th>\n",
       "      <td>211</td>\n",
       "      <td>8.6</td>\n",
       "      <td>0</td>\n",
       "      <td>2923</td>\n",
       "      <td>19</td>\n",
       "      <td>12</td>\n",
       "      <td>[Leisure trip, Family with young children, Dou...</td>\n",
       "      <td>10.0</td>\n",
       "      <td>2</td>\n",
       "      <td>0</td>\n",
       "      <td>2</td>\n",
       "      <td>2</td>\n",
       "      <td>1</td>\n",
       "    </tr>\n",
       "    <tr>\n",
       "      <th>2</th>\n",
       "      <td>189</td>\n",
       "      <td>9.2</td>\n",
       "      <td>27</td>\n",
       "      <td>781</td>\n",
       "      <td>29</td>\n",
       "      <td>24</td>\n",
       "      <td>[Business trip, Couple, Superior Room, Stayed ...</td>\n",
       "      <td>10.0</td>\n",
       "      <td>1</td>\n",
       "      <td>0</td>\n",
       "      <td>3</td>\n",
       "      <td>1</td>\n",
       "      <td>2</td>\n",
       "    </tr>\n",
       "    <tr>\n",
       "      <th>3</th>\n",
       "      <td>1258</td>\n",
       "      <td>9.4</td>\n",
       "      <td>20</td>\n",
       "      <td>4204</td>\n",
       "      <td>31</td>\n",
       "      <td>3</td>\n",
       "      <td>[Leisure trip, Couple, Deluxe King Room with R...</td>\n",
       "      <td>9.2</td>\n",
       "      <td>1</td>\n",
       "      <td>0</td>\n",
       "      <td>4</td>\n",
       "      <td>1</td>\n",
       "      <td>1</td>\n",
       "    </tr>\n",
       "    <tr>\n",
       "      <th>4</th>\n",
       "      <td>289</td>\n",
       "      <td>8.8</td>\n",
       "      <td>0</td>\n",
       "      <td>1519</td>\n",
       "      <td>3</td>\n",
       "      <td>9</td>\n",
       "      <td>[Leisure trip, Solo traveler, Deluxe Single Ro...</td>\n",
       "      <td>10.0</td>\n",
       "      <td>4</td>\n",
       "      <td>0</td>\n",
       "      <td>5</td>\n",
       "      <td>1</td>\n",
       "      <td>1</td>\n",
       "    </tr>\n",
       "  </tbody>\n",
       "</table>\n",
       "</div>"
      ],
      "text/plain": [
       "   Additional_Number_of_Scoring  Average_Score  \\\n",
       "0                           255            8.1   \n",
       "1                           211            8.6   \n",
       "2                           189            9.2   \n",
       "3                          1258            9.4   \n",
       "4                           289            8.8   \n",
       "\n",
       "   Review_Total_Negative_Word_Counts  Total_Number_of_Reviews  \\\n",
       "0                                 57                     1290   \n",
       "1                                  0                     2923   \n",
       "2                                 27                      781   \n",
       "3                                 20                     4204   \n",
       "4                                  0                     1519   \n",
       "\n",
       "   Review_Total_Positive_Word_Counts  \\\n",
       "0                                 10   \n",
       "1                                 19   \n",
       "2                                 29   \n",
       "3                                 31   \n",
       "4                                  3   \n",
       "\n",
       "   Total_Number_of_Reviews_Reviewer_Has_Given  \\\n",
       "0                                           1   \n",
       "1                                          12   \n",
       "2                                          24   \n",
       "3                                           3   \n",
       "4                                           9   \n",
       "\n",
       "                                                Tags  Reviewer_Score  num  \\\n",
       "0  [Family with young children, Standard Queen Ro...             6.3    2   \n",
       "1  [Leisure trip, Family with young children, Dou...            10.0    2   \n",
       "2  [Business trip, Couple, Superior Room, Stayed ...            10.0    1   \n",
       "3  [Leisure trip, Couple, Deluxe King Room with R...             9.2    1   \n",
       "4  [Leisure trip, Solo traveler, Deluxe Single Ro...            10.0    4   \n",
       "\n",
       "   pet  room  stay  trip  \n",
       "0    0     1     1     0  \n",
       "1    0     2     2     1  \n",
       "2    0     3     1     2  \n",
       "3    0     4     1     1  \n",
       "4    0     5     1     1  "
      ]
     },
     "execution_count": 134,
     "metadata": {},
     "output_type": "execute_result"
    }
   ],
   "source": [
    "dfnew[:5]"
   ]
  },
  {
   "cell_type": "code",
   "execution_count": null,
   "metadata": {
    "collapsed": true
   },
   "outputs": [],
   "source": []
  },
  {
   "cell_type": "code",
   "execution_count": 143,
   "metadata": {
    "collapsed": true
   },
   "outputs": [],
   "source": [
    "train_labels = dfnew.loc[:,'Reviewer_Score']\n",
    "del dfnew['Reviewer_Score']\n",
    "del dfnew['Tags']\n",
    "train_data = dfnew.iloc[:]\n",
    "\n"
   ]
  },
  {
   "cell_type": "code",
   "execution_count": 144,
   "metadata": {
    "collapsed": true
   },
   "outputs": [],
   "source": [
    "x_train = train_data.values\n",
    "y_train = train_labels.values"
   ]
  },
  {
   "cell_type": "code",
   "execution_count": 145,
   "metadata": {},
   "outputs": [
    {
     "data": {
      "text/plain": [
       "(array([[255. ,   8.1,  57. , ...,   1. ,   1. ,   0. ],\n",
       "        [211. ,   8.6,   0. , ...,   2. ,   2. ,   1. ],\n",
       "        [189. ,   9.2,  27. , ...,   3. ,   1. ,   2. ],\n",
       "        ...,\n",
       "        [353. ,   8.5,   0. , ..., 398. ,   6. ,   1. ],\n",
       "        [328. ,   7.5,   7. , ...,  51. ,   6. ,   1. ],\n",
       "        [ 69. ,   9. ,  10. , ...,  50. ,   3. ,   1. ]]),\n",
       " array([ 6.3, 10. , 10. , ...,  9.2,  9. ,  8.3]))"
      ]
     },
     "execution_count": 145,
     "metadata": {},
     "output_type": "execute_result"
    }
   ],
   "source": [
    "x_train, y_train"
   ]
  },
  {
   "cell_type": "code",
   "execution_count": 15,
   "metadata": {
    "collapsed": true
   },
   "outputs": [],
   "source": [
    "# x_train = np.preprocessing.scale(x_train)"
   ]
  },
  {
   "cell_type": "code",
   "execution_count": null,
   "metadata": {
    "collapsed": true
   },
   "outputs": [],
   "source": []
  },
  {
   "cell_type": "code",
   "execution_count": 146,
   "metadata": {},
   "outputs": [
    {
     "data": {
      "image/png": "[encoded data removed]",
      "text/plain": [
       "<matplotlib.figure.Figure at 0x15cc7012f28>"
      ]
     },
     "metadata": {},
     "output_type": "display_data"
    }
   ],
   "source": [
    "ax = sns.distplot(y_train)"
   ]
  },
  {
   "cell_type": "code",
   "execution_count": 147,
   "metadata": {
    "collapsed": true
   },
   "outputs": [],
   "source": [
    "# ax = sns.pairplot((train_data-train_data.mean())/train_data.std())"
   ]
  },
  {
   "cell_type": "code",
   "execution_count": 148,
   "metadata": {},
   "outputs": [
    {
     "data": {
      "text/plain": [
       "<matplotlib.axes._subplots.AxesSubplot at 0x15ccd318588>"
      ]
     },
     "execution_count": 148,
     "metadata": {},
     "output_type": "execute_result"
    },
    {
     "data": {
      "image/png": "[encoded data removed]",
      "text/plain": [
       "<matplotlib.figure.Figure at 0x15cc9316b00>"
      ]
     },
     "metadata": {},
     "output_type": "display_data"
    }
   ],
   "source": [
    "# 查看特征相关性\n",
    "colormap = plt.cm.viridis\n",
    "# plt.figure(figsize=(12,12))\n",
    "plt.title('Pearson Correlaton of Features', y=1.05, size=15)\n",
    "sns.heatmap(train_data.astype(float).corr(), linewidths=0.1, vmax=1.0, square=True, cmap=colormap, linecolor='white', annot=True)\n",
    "# sns.heatmap(pd.DataFrame(train).astype(float).corr(), linewidths=0.1, vmax=1.0, square=True, cmap=colormap, linecolor='white', annot=True)\n",
    "# corr的对象必须是pd.DataFrame，而前面train=train.values"
   ]
  },
  {
   "cell_type": "code",
   "execution_count": null,
   "metadata": {
    "collapsed": true
   },
   "outputs": [],
   "source": []
  },
  {
   "cell_type": "code",
   "execution_count": null,
   "metadata": {
    "collapsed": true
   },
   "outputs": [],
   "source": []
  },
  {
   "cell_type": "code",
   "execution_count": null,
   "metadata": {
    "collapsed": true
   },
   "outputs": [],
   "source": []
  },
  {
   "cell_type": "code",
   "execution_count": 149,
   "metadata": {
    "collapsed": true
   },
   "outputs": [],
   "source": [
    "import progressbar\n",
    "from importlib import reload"
   ]
  },
  {
   "cell_type": "code",
   "execution_count": 150,
   "metadata": {
    "collapsed": true
   },
   "outputs": [],
   "source": [
    "x_train, x_test, y_train, y_test = train_test_split(train_data.values, train_labels.values, test_size=0.2)"
   ]
  },
  {
   "cell_type": "code",
   "execution_count": 151,
   "metadata": {
    "scrolled": true
   },
   "outputs": [
    {
     "data": {
      "text/plain": [
       "((64000, 11), (64000,))"
      ]
     },
     "execution_count": 151,
     "metadata": {},
     "output_type": "execute_result"
    }
   ],
   "source": [
    "x_train.shape, y_train.shape"
   ]
  },
  {
   "cell_type": "code",
   "execution_count": 157,
   "metadata": {},
   "outputs": [],
   "source": [
    "import decision_tree.decision_tree\n",
    "reload(decision_tree.decision_tree)\n",
    "from decision_tree.decision_tree import RegressionTree\n",
    "import gradient_boosting_decision_tree.gbdt_model\n",
    "reload(gradient_boosting_decision_tree.gbdt_model)\n",
    "from gradient_boosting_decision_tree.gbdt_model import GBDTRegressor\n",
    "\n"
   ]
  },
  {
   "cell_type": "code",
   "execution_count": 158,
   "metadata": {
    "collapsed": true
   },
   "outputs": [],
   "source": [
    "#K折交叉验证\n",
    "def K_fold():\n",
    "    corr = []\n",
    "    for i in range(5):\n",
    "        x_train, x_test, y_train, y_test = train_test_split(train_data.values, train_labels.values, test_size=0.2)\n",
    "        \n",
    "        model = GBDTRegressor(n_estimators=100,learning_rate=0.2,max_depth=3)\n",
    "\n",
    "        model.fit(x_train, y_train, with_bar=True)\n",
    "\n",
    "        y_pred = model.predict(x_test)\n",
    "        \n",
    "        corr.append(np.corrcoef(y_test, y_pred)[0,1])\n",
    "\n",
    "        print (\"corrcoef:\", corr[-1])\n",
    "        \n",
    "    print('corrcoef mean: ',np.mean(corr))"
   ]
  },
  {
   "cell_type": "code",
   "execution_count": 159,
   "metadata": {},
   "outputs": [
    {
     "name": "stderr",
     "output_type": "stream",
     "text": [
      "Training: 100% [------------------------------------------------] Time: 0:01:30\n"
     ]
    },
    {
     "name": "stdout",
     "output_type": "stream",
     "text": [
      "corrcoef: 0.6489833695662626\n"
     ]
    },
    {
     "name": "stderr",
     "output_type": "stream",
     "text": [
      "Training: 100% [------------------------------------------------] Time: 0:01:35\n"
     ]
    },
    {
     "name": "stdout",
     "output_type": "stream",
     "text": [
      "corrcoef: 0.6568519315293742\n"
     ]
    },
    {
     "name": "stderr",
     "output_type": "stream",
     "text": [
      "Training: 100% [------------------------------------------------] Time: 0:01:32\n"
     ]
    },
    {
     "name": "stdout",
     "output_type": "stream",
     "text": [
      "corrcoef: 0.6517982675295125\n"
     ]
    },
    {
     "name": "stderr",
     "output_type": "stream",
     "text": [
      "Training: 100% [------------------------------------------------] Time: 0:01:32\n"
     ]
    },
    {
     "name": "stdout",
     "output_type": "stream",
     "text": [
      "corrcoef: 0.6694873941835403\n"
     ]
    },
    {
     "name": "stderr",
     "output_type": "stream",
     "text": [
      "Training: 100% [------------------------------------------------] Time: 0:01:28\n"
     ]
    },
    {
     "name": "stdout",
     "output_type": "stream",
     "text": [
      "corrcoef: 0.6528059893185599\n",
      "corrcoef all:  0.6559853904254498\n"
     ]
    }
   ],
   "source": [
    "K_fold()"
   ]
  },
  {
   "cell_type": "code",
   "execution_count": null,
   "metadata": {
    "collapsed": true
   },
   "outputs": [],
   "source": []
  },
  {
   "cell_type": "code",
   "execution_count": 170,
   "metadata": {},
   "outputs": [],
   "source": [
    "#随机森林\n",
    "import random\n",
    "model_gather = []\n",
    "def randomForest():\n",
    "    bar_widgets = [\n",
    "            'Training: ', progressbar.Percentage(), ' ', progressbar.Bar(marker=\"-\", left=\"[\", right=\"]\"),\n",
    "            ' ', progressbar.ETA()\n",
    "        ]\n",
    "    bar = progressbar.ProgressBar(widgets=bar_widgets)\n",
    "    \n",
    "    x_train, x_test, y_train, y_test = train_test_split(train_data.values, train_labels.values, test_size=0.2)\n",
    "\n",
    "    n_samples, n_features = np.shape(x_train)\n",
    "    #树的数目\n",
    "    treeNum = 100\n",
    "    #最大树深度\n",
    "    max_dep = 7\n",
    "    #特征集大小，每次随机取的特征数\n",
    "    feat_size = 9\n",
    "    #存放所有预测的值，最后取平均值\n",
    "    y_pred = np.zeros(len(y_test))\n",
    "    \n",
    "    #随机生成多棵树\n",
    "    for _treeCnt in bar(range(treeNum)):\n",
    "        #有放回抽样数据集\n",
    "        slicex = np.array(range(n_samples))\n",
    "        slicex = np.random.choice(slicex,size=n_samples,replace = True)\n",
    "        _X = x_train[slicex,:]\n",
    "        _y = y_train[slicex]\n",
    "        #抽样特征\n",
    "        feature_use = np.random.choice(range(0,n_features),replace=False,size = feat_size)\n",
    "        feature_use = np.concatenate(([1],feature_use))\n",
    "        model = RegressionTree(max_depth=max_dep)\n",
    "        model.fit(_X, _y,feature_use)\n",
    "        model_gather.append(model)    #将多个决策树加到model_gather中\n",
    "        y_pred = model.predict(x_test) + y_pred #直接进行验证\n",
    "    y_pred = y_pred/treeNum    #多棵决策树进行预测\n",
    "    print(np.corrcoef(y_pred,y_test)[0,1])\n",
    "\n",
    "#def RF_predict(model_gather, x_test):\n",
    "    "
   ]
  },
  {
   "cell_type": "code",
   "execution_count": 171,
   "metadata": {},
   "outputs": [
    {
     "name": "stderr",
     "output_type": "stream",
     "text": [
      "Training: 100% [------------------------------------------------] Time: 0:02:29\n"
     ]
    },
    {
     "name": "stdout",
     "output_type": "stream",
     "text": [
      "0.6594681316490467\n"
     ]
    }
   ],
   "source": [
    "randomForest()"
   ]
  },
  {
   "cell_type": "code",
   "execution_count": null,
   "metadata": {
    "collapsed": true
   },
   "outputs": [],
   "source": []
  },
  {
   "cell_type": "code",
   "execution_count": null,
   "metadata": {
    "collapsed": true
   },
   "outputs": [],
   "source": []
  },
  {
   "cell_type": "code",
   "execution_count": null,
   "metadata": {
    "collapsed": true
   },
   "outputs": [],
   "source": []
  },
  {
   "cell_type": "code",
   "execution_count": null,
   "metadata": {
    "scrolled": true
   },
   "outputs": [
    {
     "name": "stderr",
     "output_type": "stream",
     "text": [
      "Training:   2% [                                                ] ETA:  0:00:53\r"
     ]
    }
   ],
   "source": [
    "\n",
    "model = GBDTRegressor(n_estimators=100,learning_rate=0.2,max_depth=3)\n",
    "\n",
    "model.fit(x_train, y_train, with_bar=True)\n",
    "\n",
    "y_pred = model.predict(x_test)\n",
    "\n",
    "mse = mean_squared_error(y_test, y_pred)\n",
    "\n",
    "print (\"Mean Squared Error:\", mse)"
   ]
  },
  {
   "cell_type": "code",
   "execution_count": null,
   "metadata": {
    "collapsed": true
   },
   "outputs": [],
   "source": [
    "np.corrcoef(y_test, y_pred)[0,1]"
   ]
  },
  {
   "cell_type": "code",
   "execution_count": null,
   "metadata": {
    "collapsed": true
   },
   "outputs": [],
   "source": []
  },
  {
   "cell_type": "markdown",
   "metadata": {
    "collapsed": true
   },
   "source": [
    "---------------------------------------\n",
    "分割线，跑上面的即可，下面是k折的测试代码\n",
    "-------------------------------------"
   ]
  },
  {
   "cell_type": "code",
   "execution_count": null,
   "metadata": {
    "collapsed": true
   },
   "outputs": [],
   "source": []
  },
  {
   "cell_type": "code",
   "execution_count": null,
   "metadata": {
    "collapsed": true
   },
   "outputs": [],
   "source": [
    "from sklearn.model_selection import KFold, train_test_split\n",
    "from sklearn.metrics import accuracy_score, log_loss\n",
    "from sklearn.ensemble import GradientBoostingRegressor\n",
    "\n",
    "regressors = [\n",
    "    GBDTRegressor(n_estimators=100,learning_rate=0.2,max_depth=3),\n",
    "    GradientBoostingRegressor(n_estimators=100,learning_rate=0.2,max_depth=3),\n",
    "]\n",
    "\n",
    "log_cols = [\"Regressor\", \"Accuracy\"]\n",
    "log = pd.DataFrame(columns=log_cols)\n",
    "\n",
    "sss = KFold(n_splits=5, random_state=0)\n",
    "\n",
    "# X = train[0::, 1::]\n",
    "# y = train[0::, 0]\n",
    "\n",
    "acc_dict = {}"
   ]
  },
  {
   "cell_type": "code",
   "execution_count": null,
   "metadata": {
    "collapsed": true
   },
   "outputs": [],
   "source": [
    "def acc_score(y_val, y_pred):\n",
    "    return np.corrcoef(y_val, y_pred)[0,1]\n",
    "\n",
    "\n",
    "def cross_val(x,y):\n",
    "    for train_index, test_index in sss.split(x, y):\n",
    "        x_train, x_val = x[train_index], x[test_index]\n",
    "        y_train, y_val = y[train_index], y[test_index]\n",
    "    \n",
    "        for reg in regressors:\n",
    "            name = reg.__class__.__name__\n",
    "            reg.fit(x_train, y_train)\n",
    "            y_pred = reg.predict(x_val)\n",
    "            acc = acc_score(y_val, y_pred)\n",
    "            \n",
    "            print(name+':', acc)\n",
    "            \n",
    "            if name in acc_dict:\n",
    "                acc_dict[name] += acc\n",
    "            else:\n",
    "                acc_dict[name] = acc\n",
    "    \n",
    "    log_cols = [\"Regressor\", \"Accuracy\"]\n",
    "    log = pd.DataFrame(columns=log_cols)\n",
    "    \n",
    "    for reg in acc_dict:\n",
    "        acc_dict[reg] = acc_dict[reg]/5\n",
    "        log_entry = pd.DataFrame([[reg, acc_dict[reg]]], columns=log_cols)\n",
    "        log = log.append(log_entry)\n",
    "        \n",
    "    \n",
    "    plt.xlabel('Accuracy')\n",
    "    plt.title('Regressor Accuracy')\n",
    "\n",
    "    sns.set_color_codes('muted')\n",
    "    print(log)\n",
    "    sns.barplot(x='Accuracy', y='Regressor', data=log, color=\"b\")    "
   ]
  },
  {
   "cell_type": "code",
   "execution_count": null,
   "metadata": {
    "collapsed": true,
    "scrolled": true
   },
   "outputs": [],
   "source": [
    "cross_val(x_train, y_train)"
   ]
  },
  {
   "cell_type": "code",
   "execution_count": null,
   "metadata": {
    "collapsed": true
   },
   "outputs": [],
   "source": []
  },
  {
   "cell_type": "code",
   "execution_count": null,
   "metadata": {
    "collapsed": true
   },
   "outputs": [],
   "source": [
    "cross_val(x_train, y_train) #加tag的结果"
   ]
  },
  {
   "cell_type": "code",
   "execution_count": null,
   "metadata": {
    "collapsed": true
   },
   "outputs": [],
   "source": []
  },
  {
   "cell_type": "code",
   "execution_count": null,
   "metadata": {
    "collapsed": true
   },
   "outputs": [],
   "source": []
  },
  {
   "cell_type": "code",
   "execution_count": null,
   "metadata": {
    "collapsed": true
   },
   "outputs": [],
   "source": [
    "import random\n",
    "K = 100\n",
    "lx = [random.randint(1,20) for x in range(K)]\n",
    "lx1 = [random.randint(1,20) for x in range(K//2)]\n",
    "lx2 = [random.randint(1,20) for x in range(K//2)]\n",
    "lxvar = np.var(lx)\n",
    "lxsum = np.sum((lx-np.mean(lx))**2)\n",
    "varx1 = lxvar - len(lx1)/len(lx)*np.var(lx1) - len(lx2)/len(lx)*np.var(lx2)\n",
    "varx2 = (lxsum - np.sum((lx1-np.mean(lx1))**2) - np.sum((lx2-np.mean(lx2))**2))/len(lx)\n",
    "print(varx1)\n",
    "print(varx2)"
   ]
  },
  {
   "cell_type": "code",
   "execution_count": null,
   "metadata": {
    "collapsed": true
   },
   "outputs": [],
   "source": [
    "%%timeit\n",
    "lxvar = np.var(lx)"
   ]
  },
  {
   "cell_type": "code",
   "execution_count": null,
   "metadata": {
    "collapsed": true
   },
   "outputs": [],
   "source": [
    "%%timeit\n",
    "for i in range(24):\n",
    "    varx = lxvar - len(lx1)/len(lx)*np.var(lx1) - len(lx2)/len(lx)*np.var(lx2)"
   ]
  },
  {
   "cell_type": "code",
   "execution_count": null,
   "metadata": {
    "collapsed": true
   },
   "outputs": [],
   "source": [
    "%%timeit\n",
    "lxsum = np.sum((lx-np.mean(lx))**2)"
   ]
  },
  {
   "cell_type": "code",
   "execution_count": null,
   "metadata": {
    "collapsed": true
   },
   "outputs": [],
   "source": [
    "%%timeit\n",
    "for i in range(24):\n",
    "    varx = (lxsum - np.sum((lx1-np.mean(lx1))**2) - np.sum((lx2-np.mean(lx2))**2))/len(lx)"
   ]
  },
  {
   "cell_type": "code",
   "execution_count": null,
   "metadata": {
    "collapsed": true
   },
   "outputs": [],
   "source": []
  },
  {
   "cell_type": "code",
   "execution_count": 25,
   "metadata": {},
   "outputs": [
    {
     "name": "stdout",
     "output_type": "stream",
     "text": [
      "<class 'numpy.ndarray'>\n"
     ]
    }
   ],
   "source": [
    "print(type(x_train))"
   ]
  },
  {
   "cell_type": "code",
   "execution_count": 26,
   "metadata": {},
   "outputs": [
    {
     "ename": "AttributeError",
     "evalue": "'numpy.ndarray' object has no attribute 'sample'",
     "output_type": "error",
     "traceback": [
      "\u001b[1;31m---------------------------------------------------------------------------\u001b[0m",
      "\u001b[1;31mAttributeError\u001b[0m                            Traceback (most recent call last)",
      "\u001b[1;32m<ipython-input-26-9a7dc6b293f2>\u001b[0m in \u001b[0;36m<module>\u001b[1;34m()\u001b[0m\n\u001b[0;32m      1\u001b[0m \u001b[1;32mimport\u001b[0m \u001b[0mpandas\u001b[0m \u001b[1;32mas\u001b[0m \u001b[0mpd\u001b[0m\u001b[1;33m\u001b[0m\u001b[0m\n\u001b[1;32m----> 2\u001b[1;33m \u001b[0mx_train\u001b[0m\u001b[1;33m.\u001b[0m\u001b[0msample\u001b[0m\u001b[1;33m(\u001b[0m\u001b[0mn\u001b[0m\u001b[1;33m=\u001b[0m\u001b[1;36m20000\u001b[0m\u001b[1;33m)\u001b[0m\u001b[1;33m\u001b[0m\u001b[0m\n\u001b[0m\u001b[0;32m      3\u001b[0m \u001b[0mprint\u001b[0m\u001b[1;33m(\u001b[0m\u001b[0mlen\u001b[0m\u001b[1;33m(\u001b[0m\u001b[0mx_train\u001b[0m\u001b[1;33m)\u001b[0m\u001b[1;33m)\u001b[0m\u001b[1;33m\u001b[0m\u001b[0m\n",
      "\u001b[1;31mAttributeError\u001b[0m: 'numpy.ndarray' object has no attribute 'sample'"
     ]
    }
   ],
   "source": [
    "import pandas as pd\n",
    "x_train.sample(n=20000)\n",
    "print(len(x_train))\n"
   ]
  },
  {
   "cell_type": "code",
   "execution_count": 31,
   "metadata": {},
   "outputs": [
    {
     "name": "stdout",
     "output_type": "stream",
     "text": [
      "[3 1 3 3 4 3]\n",
      "[5 1 4 2 2 5]\n",
      "[3 3 5 1 4 5]\n",
      "[3 4 5 3 2 5]\n",
      "[1 5 2 3 1 5]\n",
      "[1 5 4 3 4 4]\n",
      "[1 1 1 1 5 1]\n",
      "[2 5 5 2 3 4]\n",
      "[5 5 3 3 3 5]\n",
      "[3 5 4 3 4 4]\n"
     ]
    }
   ],
   "source": [
    "\n",
    "y=np.array([1,2,3,4,5])\n",
    "for i in range(10):\n",
    "    slice = np.random.choice(y,size=6,replace=True)  \n",
    "    print (slice)  \n",
    "\n"
   ]
  },
  {
   "cell_type": "code",
   "execution_count": 35,
   "metadata": {},
   "outputs": [
    {
     "name": "stdout",
     "output_type": "stream",
     "text": [
      "[1 2 3 4 5]\n",
      "[1 2 3 4]\n"
     ]
    }
   ],
   "source": [
    "print(y)\n",
    "print(y[:4])"
   ]
  },
  {
   "cell_type": "code",
   "execution_count": 37,
   "metadata": {},
   "outputs": [
    {
     "name": "stdout",
     "output_type": "stream",
     "text": [
      "<class 'numpy.ndarray'>\n"
     ]
    },
    {
     "ename": "AttributeError",
     "evalue": "'numpy.ndarray' object has no attribute 'append'",
     "output_type": "error",
     "traceback": [
      "\u001b[1;31m---------------------------------------------------------------------------\u001b[0m",
      "\u001b[1;31mAttributeError\u001b[0m                            Traceback (most recent call last)",
      "\u001b[1;32m<ipython-input-37-6191ec2ef167>\u001b[0m in \u001b[0;36m<module>\u001b[1;34m()\u001b[0m\n\u001b[0;32m      1\u001b[0m \u001b[0mprint\u001b[0m\u001b[1;33m(\u001b[0m\u001b[0mtype\u001b[0m\u001b[1;33m(\u001b[0m\u001b[0my\u001b[0m\u001b[1;33m)\u001b[0m\u001b[1;33m)\u001b[0m\u001b[1;33m\u001b[0m\u001b[0m\n\u001b[1;32m----> 2\u001b[1;33m \u001b[0my\u001b[0m\u001b[1;33m.\u001b[0m\u001b[0mappend\u001b[0m\u001b[1;33m(\u001b[0m\u001b[1;33m[\u001b[0m\u001b[1;36m2\u001b[0m\u001b[1;33m,\u001b[0m\u001b[1;36m3\u001b[0m\u001b[1;33m,\u001b[0m\u001b[1;36m4\u001b[0m\u001b[1;33m,\u001b[0m\u001b[1;36m5\u001b[0m\u001b[1;33m,\u001b[0m\u001b[1;36m6\u001b[0m\u001b[1;33m]\u001b[0m\u001b[1;33m)\u001b[0m\u001b[1;33m\u001b[0m\u001b[0m\n\u001b[0m",
      "\u001b[1;31mAttributeError\u001b[0m: 'numpy.ndarray' object has no attribute 'append'"
     ]
    }
   ],
   "source": [
    "print(type(y))\n",
    "y.append([2,3,4,5,6])"
   ]
  },
  {
   "cell_type": "code",
   "execution_count": 49,
   "metadata": {},
   "outputs": [
    {
     "name": "stdout",
     "output_type": "stream",
     "text": [
      "[[1 2]\n",
      " [0 4]]\n",
      "[1.5 2. ]\n",
      "[1 0 1 0 0 0]\n",
      "[[0 4]\n",
      " [1 2]\n",
      " [0 4]\n",
      " [1 2]\n",
      " [1 2]\n",
      " [1 2]]\n",
      "<class 'numpy.ndarray'> (2,)\n"
     ]
    }
   ],
   "source": [
    "y = np.array([[1,2],[0,4]])\n",
    "print(y)\n",
    "print(np.mean(y,axis=1))\n",
    "x1 = np.mean(y,axis=1)\n",
    "slice = np.random.choice(y[:,0],size=6,replace=True)  \n",
    "print (slice)  \n",
    "print(y[slice,:])\n",
    "print(type(x1),x1.shape)"
   ]
  },
  {
   "cell_type": "code",
   "execution_count": 51,
   "metadata": {},
   "outputs": [
    {
     "name": "stdout",
     "output_type": "stream",
     "text": [
      "[1 2] [3 4]\n",
      "[4 6]\n"
     ]
    }
   ],
   "source": [
    "y1 = np.array(range(1,3))\n",
    "y2 = np.array(range(3,5))\n",
    "print(y1,y2)\n",
    "print(y1+y2)"
   ]
  },
  {
   "cell_type": "code",
   "execution_count": null,
   "metadata": {
    "collapsed": true
   },
   "outputs": [],
   "source": []
  }
 ],
 "metadata": {
  "kernelspec": {
   "display_name": "Python 3",
   "language": "python",
   "name": "python3"
  },
  "language_info": {
   "codemirror_mode": {
    "name": "ipython",
    "version": 3
   },
   "file_extension": ".py",
   "mimetype": "text/x-python",
   "name": "python",
   "nbconvert_exporter": "python",
   "pygments_lexer": "ipython3",
   "version": "3.6.5"
  }
 },
 "nbformat": 4,
 "nbformat_minor": 2
}

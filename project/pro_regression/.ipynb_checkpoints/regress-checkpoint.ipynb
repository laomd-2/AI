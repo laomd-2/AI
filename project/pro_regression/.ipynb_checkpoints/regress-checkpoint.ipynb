{
 "cells": [
  {
   "cell_type": "code",
   "execution_count": 1,
   "metadata": {},
   "outputs": [],
   "source": [
    "%matplotlib inline\n",
    "import numpy as np\n",
    "import pandas as pd\n",
    "import seaborn as sns\n",
    "import matplotlib.pyplot as plt\n",
    "from tqdm import tqdm\n",
    "from nltk import FreqDist"
   ]
  },
  {
   "cell_type": "code",
   "execution_count": 2,
   "metadata": {},
   "outputs": [],
   "source": [
    "train_set = pd.read_excel('data/回归/train.xlsx')\n",
    "test_set = pd.read_excel('data/回归/testStudent.xlsx')"
   ]
  },
  {
   "cell_type": "code",
   "execution_count": 3,
   "metadata": {},
   "outputs": [],
   "source": [
    "df = pd.concat([train_set, test_set], sort=False, axis=0)"
   ]
  },
  {
   "cell_type": "code",
   "execution_count": 4,
   "metadata": {},
   "outputs": [],
   "source": [
    "tags = df['Tags']\n",
    "del df['Tags']"
   ]
  },
  {
   "cell_type": "code",
   "execution_count": 6,
   "metadata": {},
   "outputs": [
    {
     "data": {
      "text/plain": [
       "0    [' Family with young children ', ' Standard Qu...\n",
       "1    [' Leisure trip ', ' Family with young childre...\n",
       "2    [' Business trip ', ' Couple ', ' Superior Roo...\n",
       "3    [' Leisure trip ', ' Couple ', ' Deluxe King R...\n",
       "4    [' Leisure trip ', ' Solo traveler ', ' Deluxe...\n",
       "Name: Tags, dtype: object"
      ]
     },
     "execution_count": 6,
     "metadata": {},
     "output_type": "execute_result"
    }
   ],
   "source": [
    "tags[:5]"
   ]
  },
  {
   "cell_type": "code",
   "execution_count": 12,
   "metadata": {},
   "outputs": [],
   "source": [
    "tag_set = set()\n",
    "tag_cnt = {}\n",
    "\n",
    "tmp_tags = tags.values\n",
    "for i,tag in enumerate(tmp_tags):\n",
    "    tag = tag.strip('[] ').split(',')\n",
    "    a = []\n",
    "    for t in tag:\n",
    "        t = t.strip(\"' \")\n",
    "        tag_set.add(t)\n",
    "        tag_cnt[t] = tag_cnt.get(t,0)+1\n",
    "        a.append(t)\n",
    "    tmp_tags[i] = a"
   ]
  },
  {
   "cell_type": "code",
   "execution_count": 19,
   "metadata": {
    "scrolled": true
   },
   "outputs": [
    {
     "data": {
      "text/plain": [
       "(110000, 22)"
      ]
     },
     "execution_count": 19,
     "metadata": {},
     "output_type": "execute_result"
    }
   ],
   "source": [
    "len(tmp_tags), len(tag_set)"
   ]
  },
  {
   "cell_type": "code",
   "execution_count": 14,
   "metadata": {},
   "outputs": [],
   "source": [
    "tag_set = set()\n",
    "for tag,cnt in tag_cnt.items():\n",
    "    if cnt > 5000:\n",
    "        tag_set.add(tag)"
   ]
  },
  {
   "cell_type": "code",
   "execution_count": 18,
   "metadata": {},
   "outputs": [
    {
     "data": {
      "text/plain": [
       "{'Budget Single Room Non Smoking',\n",
       " 'Business trip',\n",
       " 'Couple',\n",
       " 'Deluxe Queen Guestroom',\n",
       " 'Double Queen Waterfront',\n",
       " 'Double or Twin Room with Sea View',\n",
       " 'Duplex',\n",
       " 'Embassy Suite',\n",
       " 'Family with young children',\n",
       " 'Group',\n",
       " 'King Duplex Suite',\n",
       " 'King Hilton Sea View',\n",
       " 'King Room with Balcony',\n",
       " 'Large Double Room',\n",
       " 'Leisure trip',\n",
       " 'Prestige Suite',\n",
       " 'Privilege Junior Suite with Spa Access',\n",
       " 'Privilege Room with 1 Queen Size bed',\n",
       " 'Queen Guestroom',\n",
       " 'Solo traveler',\n",
       " 'Stay 3 nights',\n",
       " 'Studio King Family'}"
      ]
     },
     "execution_count": 18,
     "metadata": {},
     "output_type": "execute_result"
    }
   ],
   "source": [
    "tag_set"
   ]
  },
  {
   "cell_type": "code",
   "execution_count": 7,
   "metadata": {},
   "outputs": [],
   "source": [
    "# 原始tag\n",
    "tag_set = set(['Budget Single Room Non Smoking', 'Business trip', 'Couple',\n",
    "       'Deluxe Queen Guestroom', 'Double Queen Waterfront',\n",
    "       'Double or Twin Room with Sea View', 'Duplex', 'Embassy Suite',\n",
    "       'Family with young children', 'Group', 'King Duplex Suite',\n",
    "       'King Hilton Sea View', 'King Room with Balcony',\n",
    "       'Large Double Room', 'Leisure trip', 'Prestige Suite',\n",
    "       'Privilege Junior Suite with Spa Access',\n",
    "       'Privilege Room with 1 Queen Size bed', 'Queen Guestroom',\n",
    "       'Solo traveler', 'Studio King Family', 'Stay 3 nights'])"
   ]
  },
  {
   "cell_type": "code",
   "execution_count": null,
   "metadata": {},
   "outputs": [],
   "source": []
  },
  {
   "cell_type": "code",
   "execution_count": 5,
   "metadata": {},
   "outputs": [],
   "source": [
    "# tag简化\n",
    "tag_set = set(['Leisure', 'Business', \n",
    "               'Solo', 'Couple',  'Group', 'Family', \n",
    "               'Suite', 'Queen', 'King','Double','Twin',  'Duplex', \n",
    "               'Smoking', 'View', 'with',\n",
    "               'Superior', 'Large', 'Privilege',\n",
    "               ])"
   ]
  },
  {
   "cell_type": "code",
   "execution_count": 6,
   "metadata": {},
   "outputs": [
    {
     "data": {
      "text/plain": [
       "18"
      ]
     },
     "execution_count": 6,
     "metadata": {},
     "output_type": "execute_result"
    }
   ],
   "source": [
    "len(tag_set)"
   ]
  },
  {
   "cell_type": "code",
   "execution_count": 29,
   "metadata": {},
   "outputs": [],
   "source": [
    "# 同义词\n",
    "from nltk.corpus import wordnet as wn"
   ]
  },
  {
   "cell_type": "code",
   "execution_count": 30,
   "metadata": {},
   "outputs": [],
   "source": [
    "def sysset(word):\n",
    "    words = set()\n",
    "    for sysset in wn.synsets(word):\n",
    "        words.update(sysset.lemma_names())\n",
    "    words.add(word)\n",
    "    return words"
   ]
  },
  {
   "cell_type": "code",
   "execution_count": 31,
   "metadata": {},
   "outputs": [],
   "source": [
    "tag_sysset = dict()\n",
    "for tag in tag_set:\n",
    "    tag_sysset[tag] = sysset(tag)"
   ]
  },
  {
   "cell_type": "code",
   "execution_count": 35,
   "metadata": {},
   "outputs": [],
   "source": [
    "def one_hot(tag, x):\n",
    "    x = x.lower()\n",
    "    words = tag_sysset[tag]\n",
    "    for word in words:\n",
    "        if word in x:\n",
    "            return 1\n",
    "    return 0"
   ]
  },
  {
   "cell_type": "code",
   "execution_count": 10,
   "metadata": {},
   "outputs": [],
   "source": [
    "for tag in tag_set:\n",
    "    df[tag] = tags.map(lambda x: int(tag in x))"
   ]
  },
  {
   "cell_type": "code",
   "execution_count": 11,
   "metadata": {},
   "outputs": [
    {
     "data": {
      "text/html": [
       "<div>\n",
       "<style scoped>\n",
       "    .dataframe tbody tr th:only-of-type {\n",
       "        vertical-align: middle;\n",
       "    }\n",
       "\n",
       "    .dataframe tbody tr th {\n",
       "        vertical-align: top;\n",
       "    }\n",
       "\n",
       "    .dataframe thead th {\n",
       "        text-align: right;\n",
       "    }\n",
       "</style>\n",
       "<table border=\"1\" class=\"dataframe\">\n",
       "  <thead>\n",
       "    <tr style=\"text-align: right;\">\n",
       "      <th></th>\n",
       "      <th>Additional_Number_of_Scoring</th>\n",
       "      <th>Average_Score</th>\n",
       "      <th>Review_Total_Negative_Word_Counts</th>\n",
       "      <th>Total_Number_of_Reviews</th>\n",
       "      <th>Review_Total_Positive_Word_Counts</th>\n",
       "      <th>Total_Number_of_Reviews_Reviewer_Has_Given</th>\n",
       "      <th>Reviewer_Score</th>\n",
       "      <th>Solo traveler</th>\n",
       "      <th>Deluxe Queen Guestroom</th>\n",
       "      <th>Queen Guestroom</th>\n",
       "      <th>...</th>\n",
       "      <th>Couple</th>\n",
       "      <th>Family with young children</th>\n",
       "      <th>Group</th>\n",
       "      <th>Budget Single Room Non Smoking</th>\n",
       "      <th>Double or Twin Room with Sea View</th>\n",
       "      <th>King Hilton Sea View</th>\n",
       "      <th>Duplex</th>\n",
       "      <th>Large Double Room</th>\n",
       "      <th>Double Queen Waterfront</th>\n",
       "      <th>Prestige Suite</th>\n",
       "    </tr>\n",
       "  </thead>\n",
       "  <tbody>\n",
       "    <tr>\n",
       "      <th>0</th>\n",
       "      <td>255</td>\n",
       "      <td>8.1</td>\n",
       "      <td>57</td>\n",
       "      <td>1290</td>\n",
       "      <td>10</td>\n",
       "      <td>1</td>\n",
       "      <td>6.3</td>\n",
       "      <td>0</td>\n",
       "      <td>0</td>\n",
       "      <td>0</td>\n",
       "      <td>...</td>\n",
       "      <td>0</td>\n",
       "      <td>1</td>\n",
       "      <td>0</td>\n",
       "      <td>0</td>\n",
       "      <td>0</td>\n",
       "      <td>0</td>\n",
       "      <td>0</td>\n",
       "      <td>0</td>\n",
       "      <td>0</td>\n",
       "      <td>0</td>\n",
       "    </tr>\n",
       "    <tr>\n",
       "      <th>1</th>\n",
       "      <td>211</td>\n",
       "      <td>8.6</td>\n",
       "      <td>0</td>\n",
       "      <td>2923</td>\n",
       "      <td>19</td>\n",
       "      <td>12</td>\n",
       "      <td>10.0</td>\n",
       "      <td>0</td>\n",
       "      <td>0</td>\n",
       "      <td>0</td>\n",
       "      <td>...</td>\n",
       "      <td>0</td>\n",
       "      <td>1</td>\n",
       "      <td>0</td>\n",
       "      <td>0</td>\n",
       "      <td>0</td>\n",
       "      <td>0</td>\n",
       "      <td>0</td>\n",
       "      <td>0</td>\n",
       "      <td>0</td>\n",
       "      <td>0</td>\n",
       "    </tr>\n",
       "    <tr>\n",
       "      <th>2</th>\n",
       "      <td>189</td>\n",
       "      <td>9.2</td>\n",
       "      <td>27</td>\n",
       "      <td>781</td>\n",
       "      <td>29</td>\n",
       "      <td>24</td>\n",
       "      <td>10.0</td>\n",
       "      <td>0</td>\n",
       "      <td>0</td>\n",
       "      <td>0</td>\n",
       "      <td>...</td>\n",
       "      <td>1</td>\n",
       "      <td>0</td>\n",
       "      <td>0</td>\n",
       "      <td>0</td>\n",
       "      <td>0</td>\n",
       "      <td>0</td>\n",
       "      <td>0</td>\n",
       "      <td>0</td>\n",
       "      <td>0</td>\n",
       "      <td>0</td>\n",
       "    </tr>\n",
       "    <tr>\n",
       "      <th>3</th>\n",
       "      <td>1258</td>\n",
       "      <td>9.4</td>\n",
       "      <td>20</td>\n",
       "      <td>4204</td>\n",
       "      <td>31</td>\n",
       "      <td>3</td>\n",
       "      <td>9.2</td>\n",
       "      <td>0</td>\n",
       "      <td>0</td>\n",
       "      <td>0</td>\n",
       "      <td>...</td>\n",
       "      <td>1</td>\n",
       "      <td>0</td>\n",
       "      <td>0</td>\n",
       "      <td>0</td>\n",
       "      <td>0</td>\n",
       "      <td>0</td>\n",
       "      <td>0</td>\n",
       "      <td>0</td>\n",
       "      <td>0</td>\n",
       "      <td>0</td>\n",
       "    </tr>\n",
       "    <tr>\n",
       "      <th>4</th>\n",
       "      <td>289</td>\n",
       "      <td>8.8</td>\n",
       "      <td>0</td>\n",
       "      <td>1519</td>\n",
       "      <td>3</td>\n",
       "      <td>9</td>\n",
       "      <td>10.0</td>\n",
       "      <td>1</td>\n",
       "      <td>0</td>\n",
       "      <td>0</td>\n",
       "      <td>...</td>\n",
       "      <td>0</td>\n",
       "      <td>0</td>\n",
       "      <td>0</td>\n",
       "      <td>0</td>\n",
       "      <td>0</td>\n",
       "      <td>0</td>\n",
       "      <td>0</td>\n",
       "      <td>0</td>\n",
       "      <td>0</td>\n",
       "      <td>0</td>\n",
       "    </tr>\n",
       "  </tbody>\n",
       "</table>\n",
       "<p>5 rows × 29 columns</p>\n",
       "</div>"
      ],
      "text/plain": [
       "   Additional_Number_of_Scoring  Average_Score  \\\n",
       "0                           255            8.1   \n",
       "1                           211            8.6   \n",
       "2                           189            9.2   \n",
       "3                          1258            9.4   \n",
       "4                           289            8.8   \n",
       "\n",
       "   Review_Total_Negative_Word_Counts  Total_Number_of_Reviews  \\\n",
       "0                                 57                     1290   \n",
       "1                                  0                     2923   \n",
       "2                                 27                      781   \n",
       "3                                 20                     4204   \n",
       "4                                  0                     1519   \n",
       "\n",
       "   Review_Total_Positive_Word_Counts  \\\n",
       "0                                 10   \n",
       "1                                 19   \n",
       "2                                 29   \n",
       "3                                 31   \n",
       "4                                  3   \n",
       "\n",
       "   Total_Number_of_Reviews_Reviewer_Has_Given  Reviewer_Score  Solo traveler  \\\n",
       "0                                           1             6.3              0   \n",
       "1                                          12            10.0              0   \n",
       "2                                          24            10.0              0   \n",
       "3                                           3             9.2              0   \n",
       "4                                           9            10.0              1   \n",
       "\n",
       "   Deluxe Queen Guestroom  Queen Guestroom       ...        Couple  \\\n",
       "0                       0                0       ...             0   \n",
       "1                       0                0       ...             0   \n",
       "2                       0                0       ...             1   \n",
       "3                       0                0       ...             1   \n",
       "4                       0                0       ...             0   \n",
       "\n",
       "   Family with young children  Group  Budget Single Room Non Smoking  \\\n",
       "0                           1      0                               0   \n",
       "1                           1      0                               0   \n",
       "2                           0      0                               0   \n",
       "3                           0      0                               0   \n",
       "4                           0      0                               0   \n",
       "\n",
       "   Double or Twin Room with Sea View  King Hilton Sea View  Duplex  \\\n",
       "0                                  0                     0       0   \n",
       "1                                  0                     0       0   \n",
       "2                                  0                     0       0   \n",
       "3                                  0                     0       0   \n",
       "4                                  0                     0       0   \n",
       "\n",
       "   Large Double Room  Double Queen Waterfront  Prestige Suite  \n",
       "0                  0                        0               0  \n",
       "1                  0                        0               0  \n",
       "2                  0                        0               0  \n",
       "3                  0                        0               0  \n",
       "4                  0                        0               0  \n",
       "\n",
       "[5 rows x 29 columns]"
      ]
     },
     "execution_count": 11,
     "metadata": {},
     "output_type": "execute_result"
    }
   ],
   "source": [
    "df.head()"
   ]
  },
  {
   "cell_type": "code",
   "execution_count": 19,
   "metadata": {},
   "outputs": [],
   "source": [
    "from scipy import stats"
   ]
  },
  {
   "cell_type": "code",
   "execution_count": 12,
   "metadata": {},
   "outputs": [],
   "source": [
    "train_labels = df.loc[:,'Reviewer_Score'].values\n",
    "del df['Reviewer_Score']"
   ]
  },
  {
   "cell_type": "code",
   "execution_count": 13,
   "metadata": {},
   "outputs": [],
   "source": [
    "train_data = df.iloc[:].values"
   ]
  },
  {
   "cell_type": "code",
   "execution_count": 14,
   "metadata": {},
   "outputs": [],
   "source": [
    "x_train = train_data[:80000]"
   ]
  },
  {
   "cell_type": "code",
   "execution_count": 15,
   "metadata": {},
   "outputs": [],
   "source": [
    "y_train = train_labels[:80000]"
   ]
  },
  {
   "cell_type": "code",
   "execution_count": 16,
   "metadata": {
    "scrolled": true
   },
   "outputs": [
    {
     "data": {
      "text/plain": [
       "array([[255. ,   8.1,  57. , ...,   0. ,   0. ,   0. ],\n",
       "       [211. ,   8.6,   0. , ...,   0. ,   0. ,   0. ],\n",
       "       [189. ,   9.2,  27. , ...,   0. ,   0. ,   0. ],\n",
       "       ...,\n",
       "       [353. ,   8.5,   0. , ...,   0. ,   0. ,   0. ],\n",
       "       [328. ,   7.5,   7. , ...,   0. ,   0. ,   0. ],\n",
       "       [ 69. ,   9. ,  10. , ...,   0. ,   0. ,   0. ]])"
      ]
     },
     "execution_count": 16,
     "metadata": {},
     "output_type": "execute_result"
    }
   ],
   "source": [
    "x_train"
   ]
  },
  {
   "cell_type": "code",
   "execution_count": 13,
   "metadata": {},
   "outputs": [],
   "source": [
    "# x_train = np.preprocessing.scale(x_train)"
   ]
  },
  {
   "cell_type": "code",
   "execution_count": 17,
   "metadata": {},
   "outputs": [],
   "source": [
    "def box_cox_r(y, lambda_):\n",
    "    if lambda_ == 0:\n",
    "        return np.exp(y)\n",
    "    else:\n",
    "        return np.power(y * lambda_ + 1, 1 / lambda_)"
   ]
  },
  {
   "cell_type": "code",
   "execution_count": 20,
   "metadata": {},
   "outputs": [
    {
     "data": {
      "image/png": "[encoded data removed]",
      "text/plain": [
       "<Figure size 432x288 with 1 Axes>"
      ]
     },
     "metadata": {
      "needs_background": "light"
     },
     "output_type": "display_data"
    }
   ],
   "source": [
    "y_disp, lambda_ = stats.boxcox(y_train)\n",
    "ax = sns.distplot((y_disp - y_disp.mean()) / y_disp.var(), axlabel='y')"
   ]
  },
  {
   "cell_type": "code",
   "execution_count": 21,
   "metadata": {},
   "outputs": [],
   "source": [
    "y_disp2 = np.zeros_like(y_disp)\n",
    "for i in range(y_disp2.shape[0]):\n",
    "    y_disp2[i] = np.sum(y_disp[:i+1])"
   ]
  },
  {
   "cell_type": "code",
   "execution_count": 66,
   "metadata": {},
   "outputs": [
    {
     "data": {
      "text/plain": [
       "3.324553689896176"
      ]
     },
     "execution_count": 66,
     "metadata": {},
     "output_type": "execute_result"
    }
   ],
   "source": [
    "lambda_"
   ]
  },
  {
   "cell_type": "code",
   "execution_count": 67,
   "metadata": {},
   "outputs": [
    {
     "data": {
      "text/plain": [
       "array([ 6.3, 10. , 10. , ...,  9.2,  9. ,  8.3])"
      ]
     },
     "execution_count": 67,
     "metadata": {},
     "output_type": "execute_result"
    }
   ],
   "source": [
    "box_cox_r(y_disp, lambda_)"
   ]
  },
  {
   "cell_type": "code",
   "execution_count": null,
   "metadata": {},
   "outputs": [],
   "source": [
    "# ax = sns.pairplot((train_data-train_data.mean())/train_data.std())"
   ]
  },
  {
   "cell_type": "code",
   "execution_count": 53,
   "metadata": {},
   "outputs": [
    {
     "data": {
      "image/png": "[encoded data removed]",
      "text/plain": [
       "<Figure size 432x288 with 1 Axes>"
      ]
     },
     "metadata": {
      "needs_background": "light"
     },
     "output_type": "display_data"
    }
   ],
   "source": [
    "ax = sns.distplot(x_train[:, 2], axlabel='y')"
   ]
  },
  {
   "cell_type": "markdown",
   "metadata": {},
   "source": [
    "## 查看特征相关性"
   ]
  },
  {
   "cell_type": "code",
   "execution_count": 14,
   "metadata": {
    "scrolled": true
   },
   "outputs": [
    {
     "data": {
      "text/plain": [
       "<matplotlib.axes._subplots.AxesSubplot at 0x1f77c1fe6d8>"
      ]
     },
     "execution_count": 14,
     "metadata": {},
     "output_type": "execute_result"
    },
    {
     "data": {
      "image/png": "[encoded data removed]",
      "text/plain": [
       "<Figure size 432x288 with 2 Axes>"
      ]
     },
     "metadata": {
      "needs_background": "light"
     },
     "output_type": "display_data"
    }
   ],
   "source": [
    "colormap = plt.cm.viridis\n",
    "# plt.figure(figsize=(12,12))\n",
    "plt.title('Pearson Correlaton of Features', y=1.05, size=15)\n",
    "sns.heatmap(train_data.astype(float).corr(), linewidths=0.1, vmax=1.0, square=True, cmap=colormap, linecolor='white', annot=True)\n",
    "# sns.heatmap(pd.DataFrame(train).astype(float).corr(), linewidths=0.1, vmax=1.0, square=True, cmap=colormap, linecolor='white', annot=True)\n",
    "# corr的对象必须是pd.DataFrame，而前面train=train.values"
   ]
  },
  {
   "cell_type": "code",
   "execution_count": null,
   "metadata": {},
   "outputs": [],
   "source": []
  },
  {
   "cell_type": "code",
   "execution_count": 22,
   "metadata": {
    "scrolled": true
   },
   "outputs": [
    {
     "ename": "NameError",
     "evalue": "name 'x_train' is not defined",
     "output_type": "error",
     "traceback": [
      "\u001b[1;31m---------------------------------------------------------------------------\u001b[0m",
      "\u001b[1;31mNameError\u001b[0m                                 Traceback (most recent call last)",
      "\u001b[1;32m<ipython-input-22-6d01e316cdd8>\u001b[0m in \u001b[0;36m<module>\u001b[1;34m\u001b[0m\n\u001b[1;32m----> 1\u001b[1;33m \u001b[0mx_train\u001b[0m\u001b[1;33m.\u001b[0m\u001b[0mshape\u001b[0m\u001b[1;33m,\u001b[0m \u001b[0my_train\u001b[0m\u001b[1;33m.\u001b[0m\u001b[0mshape\u001b[0m\u001b[1;33m\u001b[0m\u001b[0m\n\u001b[0m",
      "\u001b[1;31mNameError\u001b[0m: name 'x_train' is not defined"
     ]
    }
   ],
   "source": [
    "x_train.shape, y_train.shape"
   ]
  },
  {
   "cell_type": "code",
   "execution_count": null,
   "metadata": {},
   "outputs": [],
   "source": []
  },
  {
   "cell_type": "code",
   "execution_count": null,
   "metadata": {},
   "outputs": [],
   "source": [
    "# from time import time\n",
    "\n",
    "# model = RegressionTree(max_depth=7)\n",
    "\n",
    "# start = time()\n",
    "# model.fit(x_train, y_train)\n",
    "# print(time()-start)\n",
    "\n",
    "# y_pred = model.predict(x_test)\n",
    "\n",
    "# mse = mean_squared_error(y_test, y_pred)\n",
    "# print (\"Mean Squared Error:\", mse)\n",
    "\n",
    "# np.corrcoef(y_test, y_pred)[0,1]"
   ]
  },
  {
   "cell_type": "code",
   "execution_count": null,
   "metadata": {},
   "outputs": [],
   "source": [
    "# df = pd.read_excel('data/回归/testStudent.xlsx')\n",
    "# del df['Tags']\n",
    "# x_test = df.iloc[:].values"
   ]
  },
  {
   "cell_type": "code",
   "execution_count": null,
   "metadata": {
    "collapsed": true
   },
   "outputs": [],
   "source": []
  },
  {
   "cell_type": "code",
   "execution_count": 15,
   "metadata": {},
   "outputs": [],
   "source": [
    "from sklearn.model_selection import KFold, train_test_split\n",
    "from sklearn.metrics import accuracy_score, log_loss\n",
    "from sklearn.ensemble import GradientBoostingRegressor\n",
    "from sklearn.metrics import make_scorer\n",
    "from sklearn.model_selection import cross_val_score\n",
    "from sklearn.linear_model import SGDRegressor\n",
    "\n",
    "from importlib import reload\n",
    "\n",
    "import decision_tree.decision_tree\n",
    "import ensemble.gbdt_model\n",
    "reload(decision_tree.decision_tree)\n",
    "reload(ensemble.gbdt_model)\n",
    "from decision_tree.decision_tree import RegressionTree\n",
    "from ensemble.gbdt_model import GBDTRegressor"
   ]
  },
  {
   "cell_type": "code",
   "execution_count": 30,
   "metadata": {},
   "outputs": [],
   "source": [
    "corrcoef = make_scorer(lambda y_true, y_pred: np.corrcoef(y_true, y_pred)[0,1]) \n",
    "\n",
    "def cross_val(x,y,n_estimators=100,learning_rate=0.2,max_depth=3):\n",
    "    return cross_val_score(GBDTRegressor(n_estimators=n_estimators, learning_rate=learning_rate, max_depth=max_depth),\n",
    "                           x, y, scoring=corrcoef, cv=5).mean()"
   ]
  },
  {
   "cell_type": "markdown",
   "metadata": {},
   "source": [
    "# lcz"
   ]
  },
  {
   "cell_type": "code",
   "execution_count": 31,
   "metadata": {},
   "outputs": [
    {
     "data": {
      "text/plain": [
       "0.6538476133585617"
      ]
     },
     "execution_count": 31,
     "metadata": {},
     "output_type": "execute_result"
    }
   ],
   "source": [
    "cross_val_score(GBDTRegressor(n_estimators=300, learning_rate=0.065, max_depth=3),\n",
    "               x_train, y_train, scoring=corrcoef, cv=5).mean()"
   ]
  },
  {
   "cell_type": "code",
   "execution_count": 58,
   "metadata": {
    "scrolled": true
   },
   "outputs": [
    {
     "data": {
      "text/plain": [
       "0.6572884485370749"
      ]
     },
     "execution_count": 58,
     "metadata": {},
     "output_type": "execute_result"
    }
   ],
   "source": [
    "cross_val_score(GradientBoostingRegressor(n_estimators=300, learning_rate=0.065, max_depth=3),\n",
    "               x_train, y_train, scoring=corrcoef, cv=5).mean()"
   ]
  },
  {
   "cell_type": "code",
   "execution_count": 38,
   "metadata": {},
   "outputs": [
    {
     "data": {
      "text/plain": [
       "0.6573181223821719"
      ]
     },
     "execution_count": 38,
     "metadata": {},
     "output_type": "execute_result"
    }
   ],
   "source": [
    "cross_val_score(GradientBoostingRegressor(n_estimators=300, learning_rate=0.065, max_depth=3),\n",
    "               x_train, y_train, scoring=corrcoef, cv=5).mean()"
   ]
  },
  {
   "cell_type": "code",
   "execution_count": 79,
   "metadata": {},
   "outputs": [
    {
     "data": {
      "text/plain": [
       "0.6575434205097306"
      ]
     },
     "execution_count": 79,
     "metadata": {},
     "output_type": "execute_result"
    }
   ],
   "source": [
    "cross_val_score(GradientBoostingRegressor(n_estimators=300, learning_rate=0.065, max_depth=3),\n",
    "               x_train, y_train, scoring=corrcoef, cv=5).mean()   # tag 5000"
   ]
  },
  {
   "cell_type": "code",
   "execution_count": 31,
   "metadata": {},
   "outputs": [
    {
     "data": {
      "text/plain": [
       "0.6573909619798377"
      ]
     },
     "execution_count": 31,
     "metadata": {},
     "output_type": "execute_result"
    }
   ],
   "source": [
    "cross_val_score(GradientBoostingRegressor(n_estimators=300, learning_rate=0.065, max_depth=3),\n",
    "               x_train, y_train, scoring=corrcoef, cv=5).mean()   # tag简化"
   ]
  },
  {
   "cell_type": "code",
   "execution_count": 50,
   "metadata": {},
   "outputs": [
    {
     "data": {
      "text/plain": [
       "0.6572609215453732"
      ]
     },
     "execution_count": 50,
     "metadata": {},
     "output_type": "execute_result"
    }
   ],
   "source": [
    "cross_val_score(GradientBoostingRegressor(n_estimators=300, learning_rate=0.065, max_depth=3),\n",
    "               x_train, y_train, scoring=corrcoef, cv=5).mean()   # tag简化+nltk同义词"
   ]
  },
  {
   "cell_type": "code",
   "execution_count": 84,
   "metadata": {},
   "outputs": [
    {
     "data": {
      "text/plain": [
       "0.6575001039972996"
      ]
     },
     "execution_count": 84,
     "metadata": {},
     "output_type": "execute_result"
    }
   ],
   "source": [
    "cross_val_score(GradientBoostingRegressor(n_estimators=300, learning_rate=0.065, max_depth=3),\n",
    "               x_train, y_disp, scoring=corrcoef, cv=5).mean()   # tag简化+box-cox变换"
   ]
  },
  {
   "cell_type": "code",
   "execution_count": 85,
   "metadata": {},
   "outputs": [
    {
     "data": {
      "text/plain": [
       "0.6575041374644419"
      ]
     },
     "execution_count": 85,
     "metadata": {},
     "output_type": "execute_result"
    }
   ],
   "source": [
    "cross_val_score(GradientBoostingRegressor(n_estimators=300, learning_rate=0.065, max_depth=3),\n",
    "               x_train, y_disp, scoring=corrcoef, cv=5).mean()   # tag简化+nltk同义词+box_cox"
   ]
  },
  {
   "cell_type": "code",
   "execution_count": 31,
   "metadata": {
    "scrolled": false
   },
   "outputs": [
    {
     "name": "stderr",
     "output_type": "stream",
     "text": [
      "Training: 100% [------------------------------------------------] Time: 0:07:44\n",
      "Training: 100% [------------------------------------------------] Time: 0:07:12\n",
      "Training: 100% [------------------------------------------------] Time: 0:07:57\n",
      "Training: 100% [------------------------------------------------] Time: 0:07:24\n",
      "Training: 100% [------------------------------------------------] Time: 0:07:55\n"
     ]
    },
    {
     "data": {
      "text/plain": [
       "0.656483811915597"
      ]
     },
     "execution_count": 31,
     "metadata": {},
     "output_type": "execute_result"
    }
   ],
   "source": [
    "cross_val_score(GBDTRegressor(n_estimators=300, learning_rate=0.065, max_depth=3),\n",
    "               x_train, y_train, scoring=corrcoef, cv=5).mean()"
   ]
  },
  {
   "cell_type": "code",
   "execution_count": 18,
   "metadata": {
    "scrolled": false
   },
   "outputs": [
    {
     "name": "stderr",
     "output_type": "stream",
     "text": [
      "Training: 100% [------------------------------------------------] Time: 0:08:02\n",
      "Training: 100% [------------------------------------------------] Time: 0:08:07\n",
      "Training: 100% [------------------------------------------------] Time: 0:07:35\n",
      "Training: 100% [------------------------------------------------] Time: 0:07:28\n",
      "Training: 100% [------------------------------------------------] Time: 0:09:18\n"
     ]
    },
    {
     "data": {
      "text/plain": [
       "0.6563730067903636"
      ]
     },
     "execution_count": 18,
     "metadata": {},
     "output_type": "execute_result"
    }
   ],
   "source": [
    "cross_val_score(GBDTRegressor(n_estimators=300, learning_rate=0.065, max_depth=3),\n",
    "               x_train, y_train, scoring=corrcoef, cv=5).mean()   # tag去掉stay 3 nights"
   ]
  },
  {
   "cell_type": "code",
   "execution_count": 32,
   "metadata": {},
   "outputs": [
    {
     "name": "stderr",
     "output_type": "stream",
     "text": [
      "Training: 100% [------------------------------------------------] Time: 0:07:13\n",
      "Training: 100% [------------------------------------------------] Time: 0:06:55\n",
      "Training: 100% [------------------------------------------------] Time: 0:07:18\n",
      "Training: 100% [------------------------------------------------] Time: 0:06:51\n",
      "Training: 100% [------------------------------------------------] Time: 0:06:51\n"
     ]
    },
    {
     "data": {
      "text/plain": [
       "0.6564711054568427"
      ]
     },
     "execution_count": 32,
     "metadata": {},
     "output_type": "execute_result"
    }
   ],
   "source": [
    "cross_val_score(GBDTRegressor(n_estimators=300, learning_rate=0.065, max_depth=3),\n",
    "               x_train, y_train, scoring=corrcoef, cv=5).mean()   # tag简化"
   ]
  },
  {
   "cell_type": "code",
   "execution_count": 86,
   "metadata": {},
   "outputs": [
    {
     "name": "stderr",
     "output_type": "stream",
     "text": [
      "Training: 100% [------------------------------------------------] Time: 0:28:32\n"
     ]
    }
   ],
   "source": [
    "reg = GBDTRegressor(n_estimators=300, learning_rate=0.065, max_depth=3)\n",
    "reg.fit(x_train, y_disp)"
   ]
  },
  {
   "cell_type": "code",
   "execution_count": 88,
   "metadata": {
    "scrolled": true
   },
   "outputs": [],
   "source": [
    "X_test = train_data[80000:]\n",
    "y_test_pred = reg.predict(X_test)"
   ]
  },
  {
   "cell_type": "code",
   "execution_count": 10,
   "metadata": {},
   "outputs": [
    {
     "data": {
      "text/plain": [
       "<matplotlib.axes._subplots.AxesSubplot at 0x2b4f3f25208>"
      ]
     },
     "execution_count": 10,
     "metadata": {},
     "output_type": "execute_result"
    },
    {
     "data": {
      "image/png": "[encoded data removed]",
      "text/plain": [
       "<Figure size 432x288 with 1 Axes>"
      ]
     },
     "metadata": {
      "needs_background": "light"
     },
     "output_type": "display_data"
    }
   ],
   "source": [
    "sns.distplot(y1)"
   ]
  },
  {
   "cell_type": "code",
   "execution_count": 93,
   "metadata": {
    "scrolled": true
   },
   "outputs": [
    {
     "data": {
      "text/plain": [
       "<matplotlib.axes._subplots.AxesSubplot at 0x13915720748>"
      ]
     },
     "execution_count": 93,
     "metadata": {},
     "output_type": "execute_result"
    },
    {
     "data": {
      "image/png": "[encoded data removed]",
      "text/plain": [
       "<Figure size 432x288 with 1 Axes>"
      ]
     },
     "metadata": {
      "needs_background": "light"
     },
     "output_type": "display_data"
    }
   ],
   "source": [
    "sns.distplot(y_pred)"
   ]
  },
  {
   "cell_type": "code",
   "execution_count": 90,
   "metadata": {},
   "outputs": [],
   "source": [
    "y_test_pred = np.fabs(y_test_pred)"
   ]
  },
  {
   "cell_type": "code",
   "execution_count": 91,
   "metadata": {},
   "outputs": [
    {
     "data": {
      "text/plain": [
       "array([9.2253984 , 8.09999425, 6.63169033, ..., 9.20076379, 6.42177574,\n",
       "       9.61431639])"
      ]
     },
     "execution_count": 91,
     "metadata": {},
     "output_type": "execute_result"
    }
   ],
   "source": [
    "box_cox_r(y_test_pred, lambda_)"
   ]
  },
  {
   "cell_type": "code",
   "execution_count": 92,
   "metadata": {},
   "outputs": [],
   "source": [
    "y_pred = box_cox_r(y_test_pred, lambda_)"
   ]
  },
  {
   "cell_type": "code",
   "execution_count": 59,
   "metadata": {},
   "outputs": [],
   "source": [
    "y_pred = y_test_pred"
   ]
  },
  {
   "cell_type": "code",
   "execution_count": 94,
   "metadata": {},
   "outputs": [],
   "source": [
    "with open(\"16337091_4.txt\", 'w', encoding='utf-8') as f:\n",
    "    for yi in y_pred:\n",
    "        print(yi, file=f)"
   ]
  },
  {
   "cell_type": "code",
   "execution_count": 9,
   "metadata": {},
   "outputs": [],
   "source": [
    "y1 = pd.read_table(\"result/2018-10-17/16337091_0.txt\", header=None)[0]"
   ]
  },
  {
   "cell_type": "code",
   "execution_count": 96,
   "metadata": {},
   "outputs": [
    {
     "data": {
      "text/plain": [
       "array([[1.        , 0.98565241],\n",
       "       [0.98565241, 1.        ]])"
      ]
     },
     "execution_count": 96,
     "metadata": {},
     "output_type": "execute_result"
    }
   ],
   "source": [
    "np.corrcoef(y_test_pred, y1.values)"
   ]
  },
  {
   "cell_type": "markdown",
   "metadata": {},
   "source": [
    "## 调tag"
   ]
  },
  {
   "cell_type": "code",
   "execution_count": 18,
   "metadata": {
    "scrolled": true
   },
   "outputs": [
    {
     "name": "stdout",
     "output_type": "stream",
     "text": [
      "0.6593801763494005\n",
      "0.6592729610277164\n",
      "0.6524833010985839\n",
      "0.6601694673901815\n",
      "0.6523670164475298\n"
     ]
    },
    {
     "data": {
      "text/plain": [
       "0.6567345844626824"
      ]
     },
     "execution_count": 18,
     "metadata": {},
     "output_type": "execute_result"
    }
   ],
   "source": [
    "cross_val(x_train,y_train,n_estimators=100,learning_rate=0.15,max_depth=3)  #tag 5000"
   ]
  },
  {
   "cell_type": "code",
   "execution_count": 53,
   "metadata": {},
   "outputs": [
    {
     "name": "stderr",
     "output_type": "stream",
     "text": [
      "Training: 100% [------------------------------------------------] Time: 0:12:11\n",
      "Training: 100% [------------------------------------------------] Time: 0:50:13\n",
      "Training: 100% [------------------------------------------------] Time: 0:05:37\n",
      "Training: 100% [------------------------------------------------] Time: 0:06:18\n",
      "Training: 100% [------------------------------------------------] Time: 0:05:41\n"
     ]
    },
    {
     "data": {
      "text/plain": [
       "0.6564251030641888"
      ]
     },
     "execution_count": 53,
     "metadata": {},
     "output_type": "execute_result"
    }
   ],
   "source": [
    "cross_val(x_train,y_train,n_estimators=250,learning_rate=0.065,max_depth=3)  #tag 5000"
   ]
  },
  {
   "cell_type": "code",
   "execution_count": 39,
   "metadata": {},
   "outputs": [
    {
     "name": "stdout",
     "output_type": "stream",
     "text": [
      "0.6588115337741635\n",
      "0.659557082383551\n",
      "0.6520878508042517\n",
      "0.6605451527515127\n",
      "0.6522373196915019\n"
     ]
    },
    {
     "data": {
      "text/plain": [
       "0.6566477878809962"
      ]
     },
     "execution_count": 39,
     "metadata": {},
     "output_type": "execute_result"
    }
   ],
   "source": [
    "cross_val(x_train,y_train,n_estimators=100,learning_rate=0.15,max_depth=3)  #tag 10000"
   ]
  },
  {
   "cell_type": "code",
   "execution_count": null,
   "metadata": {},
   "outputs": [],
   "source": []
  },
  {
   "cell_type": "code",
   "execution_count": 21,
   "metadata": {},
   "outputs": [
    {
     "name": "stdout",
     "output_type": "stream",
     "text": [
      "0.6577410810443683\n",
      "0.6582508198155719\n",
      "0.6522011402675653\n",
      "0.6594841335474031\n",
      "0.6520292407175685\n"
     ]
    },
    {
     "data": {
      "text/plain": [
       "0.6559412830784954"
      ]
     },
     "execution_count": 21,
     "metadata": {},
     "output_type": "execute_result"
    }
   ],
   "source": [
    "cross_val(x_train,y_train,n_estimators=100,learning_rate=0.15,max_depth=3)  #tag 20000"
   ]
  },
  {
   "cell_type": "markdown",
   "metadata": {
    "collapsed": true
   },
   "source": [
    "## 调参"
   ]
  },
  {
   "cell_type": "code",
   "execution_count": 23,
   "metadata": {},
   "outputs": [],
   "source": [
    "from sklearn.model_selection import GridSearchCV"
   ]
  },
  {
   "cell_type": "code",
   "execution_count": 24,
   "metadata": {},
   "outputs": [],
   "source": [
    "params = {\"n_estimators\": range(100, 300, 50), \n",
    "          \"learning_rate\": [i/100 for i in range(5, 20, 2)],\n",
    "          \"max_depth\": (3, )}"
   ]
  },
  {
   "cell_type": "code",
   "execution_count": 43,
   "metadata": {},
   "outputs": [],
   "source": [
    "gsearch = GridSearchCV(estimator=GradientBoostingRegressor(n_estimators=100,learning_rate=0.2,max_depth=3),\n",
    "                       param_grid = params, scoring=corrcoef, iid=False, cv=5)"
   ]
  },
  {
   "cell_type": "code",
   "execution_count": null,
   "metadata": {},
   "outputs": [],
   "source": [
    "gsearch.fit(x_train, y_train)"
   ]
  },
  {
   "cell_type": "code",
   "execution_count": null,
   "metadata": {},
   "outputs": [],
   "source": [
    "gsearch.grid_scores_, gsearch.best_params_, gsearch.best_score_"
   ]
  },
  {
   "cell_type": "markdown",
   "metadata": {},
   "source": [
    "# ----history-----"
   ]
  },
  {
   "cell_type": "code",
   "execution_count": 198,
   "metadata": {
    "scrolled": false
   },
   "outputs": [
    {
     "name": "stdout",
     "output_type": "stream",
     "text": [
      "0.656971645958\n",
      "0.659215763606\n",
      "0.653111192214\n",
      "0.660529103986\n",
      "0.652269378261\n"
     ]
    },
    {
     "data": {
      "text/plain": [
       "0.65641941680502702"
      ]
     },
     "execution_count": 198,
     "metadata": {},
     "output_type": "execute_result"
    }
   ],
   "source": [
    "cross_val(x_train,y_train,n_estimators=100,learning_rate=0.2,max_depth=3) # our GBDT + sklearn CART "
   ]
  },
  {
   "cell_type": "code",
   "execution_count": 211,
   "metadata": {},
   "outputs": [
    {
     "name": "stdout",
     "output_type": "stream",
     "text": [
      "0.657013277478\n",
      "0.659182692191\n",
      "0.653114837461\n",
      "0.660519221298\n",
      "0.652272342086\n"
     ]
    },
    {
     "data": {
      "text/plain": [
       "0.65642047410278792"
      ]
     },
     "execution_count": 211,
     "metadata": {},
     "output_type": "execute_result"
    }
   ],
   "source": [
    "cross_val(x_train,y_train,n_estimators=100,learning_rate=0.2,max_depth=3) # all sklearn"
   ]
  },
  {
   "cell_type": "code",
   "execution_count": 218,
   "metadata": {},
   "outputs": [
    {
     "name": "stdout",
     "output_type": "stream",
     "text": [
      "0.658585367722\n",
      "0.658689171702\n",
      "0.651539003018\n",
      "0.660873177594\n",
      "0.652395832172\n"
     ]
    },
    {
     "data": {
      "text/plain": [
       "0.65641651044170779"
      ]
     },
     "execution_count": 218,
     "metadata": {},
     "output_type": "execute_result"
    }
   ],
   "source": [
    "cross_val(x_train,y_train,n_estimators=100,learning_rate=0.2,max_depth=3) # all ours"
   ]
  },
  {
   "cell_type": "code",
   "execution_count": 37,
   "metadata": {},
   "outputs": [
    {
     "name": "stdout",
     "output_type": "stream",
     "text": [
      "0.655579396695\n",
      "0.656422526507\n",
      "0.649066991103\n",
      "0.658452326734\n",
      "0.64779294308\n"
     ]
    },
    {
     "data": {
      "text/plain": [
       "0.65346283682375927"
      ]
     },
     "execution_count": 37,
     "metadata": {},
     "output_type": "execute_result"
    }
   ],
   "source": [
    "cross_val(x_train,y_train,n_estimators=100,learning_rate=0.2,max_depth=3) # all ours without tag"
   ]
  },
  {
   "cell_type": "code",
   "execution_count": null,
   "metadata": {
    "collapsed": true
   },
   "outputs": [],
   "source": []
  },
  {
   "cell_type": "code",
   "execution_count": null,
   "metadata": {
    "collapsed": true
   },
   "outputs": [],
   "source": []
  },
  {
   "cell_type": "code",
   "execution_count": null,
   "metadata": {
    "collapsed": true
   },
   "outputs": [],
   "source": []
  },
  {
   "cell_type": "code",
   "execution_count": 202,
   "metadata": {
    "scrolled": true
   },
   "outputs": [
    {
     "name": "stdout",
     "output_type": "stream",
     "text": [
      "0.635596186859\n",
      "0.639093620798\n",
      "0.631632137226\n",
      "0.64141210588\n",
      "0.631519366678\n",
      "1: 0.635850683488\n",
      "----------------\n",
      "0.656023530951\n",
      "0.657956832127\n",
      "0.652113056401\n",
      "0.660531591085\n",
      "0.651281351259\n",
      "2: 0.655581272365\n",
      "----------------\n",
      "0.657000907886\n",
      "0.65800295422\n",
      "0.653033286738\n",
      "0.660575212939\n",
      "0.651732485676\n",
      "3: 0.656068969492\n",
      "----------------\n",
      "0.654449451873\n",
      "0.656413444278\n"
     ]
    },
    {
     "ename": "KeyboardInterrupt",
     "evalue": "",
     "output_type": "error",
     "traceback": [
      "\u001b[1;31m---------------------------------------------------------------------------\u001b[0m",
      "\u001b[1;31mKeyboardInterrupt\u001b[0m                         Traceback (most recent call last)",
      "\u001b[1;32m<ipython-input-202-88470db1a8ff>\u001b[0m in \u001b[0;36m<module>\u001b[1;34m()\u001b[0m\n\u001b[0;32m      2\u001b[0m \u001b[0macc_max_depth\u001b[0m \u001b[1;33m=\u001b[0m \u001b[1;33m[\u001b[0m\u001b[1;33m]\u001b[0m\u001b[1;33m\u001b[0m\u001b[0m\n\u001b[0;32m      3\u001b[0m \u001b[1;32mfor\u001b[0m \u001b[0mmax_depth\u001b[0m \u001b[1;32min\u001b[0m \u001b[0mp_max_depth\u001b[0m\u001b[1;33m:\u001b[0m\u001b[1;33m\u001b[0m\u001b[0m\n\u001b[1;32m----> 4\u001b[1;33m     \u001b[0macc\u001b[0m \u001b[1;33m=\u001b[0m \u001b[0mcross_val\u001b[0m\u001b[1;33m(\u001b[0m\u001b[0mx_train\u001b[0m\u001b[1;33m,\u001b[0m\u001b[0my_train\u001b[0m\u001b[1;33m,\u001b[0m\u001b[0mn_estimators\u001b[0m\u001b[1;33m=\u001b[0m\u001b[1;36m200\u001b[0m\u001b[1;33m,\u001b[0m\u001b[0mlearning_rate\u001b[0m\u001b[1;33m=\u001b[0m\u001b[1;36m0.2\u001b[0m\u001b[1;33m,\u001b[0m\u001b[0mmax_depth\u001b[0m\u001b[1;33m=\u001b[0m\u001b[0mmax_depth\u001b[0m\u001b[1;33m)\u001b[0m\u001b[1;33m\u001b[0m\u001b[0m\n\u001b[0m\u001b[0;32m      5\u001b[0m     \u001b[0mprint\u001b[0m\u001b[1;33m(\u001b[0m\u001b[0mstr\u001b[0m\u001b[1;33m(\u001b[0m\u001b[0mmax_depth\u001b[0m\u001b[1;33m)\u001b[0m \u001b[1;33m+\u001b[0m \u001b[1;34m':'\u001b[0m\u001b[1;33m,\u001b[0m\u001b[0mstr\u001b[0m\u001b[1;33m(\u001b[0m\u001b[0macc\u001b[0m\u001b[1;33m)\u001b[0m\u001b[1;33m)\u001b[0m\u001b[1;33m\u001b[0m\u001b[0m\n\u001b[0;32m      6\u001b[0m     \u001b[0mprint\u001b[0m\u001b[1;33m(\u001b[0m\u001b[1;34m'----------------'\u001b[0m\u001b[1;33m)\u001b[0m\u001b[1;33m\u001b[0m\u001b[0m\n",
      "\u001b[1;32m<ipython-input-201-6ce177d1b471>\u001b[0m in \u001b[0;36mcross_val\u001b[1;34m(x, y, n_estimators, learning_rate, max_depth)\u001b[0m\n\u001b[0;32m     21\u001b[0m \u001b[1;33m\u001b[0m\u001b[0m\n\u001b[0;32m     22\u001b[0m         \u001b[0mname\u001b[0m \u001b[1;33m=\u001b[0m \u001b[0mreg\u001b[0m\u001b[1;33m.\u001b[0m\u001b[0m__class__\u001b[0m\u001b[1;33m.\u001b[0m\u001b[0m__name__\u001b[0m\u001b[1;33m\u001b[0m\u001b[0m\n\u001b[1;32m---> 23\u001b[1;33m         \u001b[0mreg\u001b[0m\u001b[1;33m.\u001b[0m\u001b[0mfit\u001b[0m\u001b[1;33m(\u001b[0m\u001b[0mx_train\u001b[0m\u001b[1;33m,\u001b[0m \u001b[0my_train\u001b[0m\u001b[1;33m)\u001b[0m\u001b[1;33m\u001b[0m\u001b[0m\n\u001b[0m\u001b[0;32m     24\u001b[0m         \u001b[0my_pred\u001b[0m \u001b[1;33m=\u001b[0m \u001b[0mreg\u001b[0m\u001b[1;33m.\u001b[0m\u001b[0mpredict\u001b[0m\u001b[1;33m(\u001b[0m\u001b[0mx_val\u001b[0m\u001b[1;33m)\u001b[0m\u001b[1;33m\u001b[0m\u001b[0m\n\u001b[0;32m     25\u001b[0m         \u001b[0macc\u001b[0m \u001b[1;33m=\u001b[0m \u001b[0macc_score\u001b[0m\u001b[1;33m(\u001b[0m\u001b[0my_val\u001b[0m\u001b[1;33m,\u001b[0m \u001b[0my_pred\u001b[0m\u001b[1;33m)\u001b[0m\u001b[1;33m\u001b[0m\u001b[0m\n",
      "\u001b[1;32m~\\Desktop 2\\期中pro_regression_v2\\gradient_boosting_decision_tree\\gbdt_model_lmd.py\u001b[0m in \u001b[0;36mfit\u001b[1;34m(self, X, y)\u001b[0m\n\u001b[0;32m     73\u001b[0m             \u001b[1;31m# GDBT模型每棵树训练的label实际上残差\u001b[0m\u001b[1;33m\u001b[0m\u001b[1;33m\u001b[0m\u001b[0m\n\u001b[0;32m     74\u001b[0m             \u001b[1;31m# 残差Ri = y - sum(y_predict_i), i=1,2,3,...,n_estimators\u001b[0m\u001b[1;33m\u001b[0m\u001b[1;33m\u001b[0m\u001b[0m\n\u001b[1;32m---> 75\u001b[1;33m             \u001b[0mself\u001b[0m\u001b[1;33m.\u001b[0m\u001b[0mweighted_trees\u001b[0m\u001b[1;33m[\u001b[0m\u001b[1;33m-\u001b[0m\u001b[1;36m1\u001b[0m\u001b[1;33m]\u001b[0m\u001b[1;33m.\u001b[0m\u001b[0mfit\u001b[0m\u001b[1;33m(\u001b[0m\u001b[0mX\u001b[0m\u001b[1;33m,\u001b[0m \u001b[0mresidual_error\u001b[0m\u001b[1;33m)\u001b[0m\u001b[1;33m\u001b[0m\u001b[0m\n\u001b[0m\u001b[0;32m     76\u001b[0m             \u001b[0my_pred\u001b[0m \u001b[1;33m=\u001b[0m \u001b[0mself\u001b[0m\u001b[1;33m.\u001b[0m\u001b[0mweighted_trees\u001b[0m\u001b[1;33m[\u001b[0m\u001b[1;33m-\u001b[0m\u001b[1;36m1\u001b[0m\u001b[1;33m]\u001b[0m\u001b[1;33m.\u001b[0m\u001b[0mpredict\u001b[0m\u001b[1;33m(\u001b[0m\u001b[0mX\u001b[0m\u001b[1;33m)\u001b[0m\u001b[1;33m\u001b[0m\u001b[0m\n\u001b[0;32m     77\u001b[0m             \u001b[1;31m# 对于残差学习出来的结果，只累加一小部分（learning_rate）逐步逼近目标\u001b[0m\u001b[1;33m\u001b[0m\u001b[1;33m\u001b[0m\u001b[0m\n",
      "\u001b[1;32mC:\\ProgramData\\Anaconda3\\lib\\site-packages\\sklearn\\tree\\tree.py\u001b[0m in \u001b[0;36mfit\u001b[1;34m(self, X, y, sample_weight, check_input, X_idx_sorted)\u001b[0m\n\u001b[0;32m   1122\u001b[0m             \u001b[0msample_weight\u001b[0m\u001b[1;33m=\u001b[0m\u001b[0msample_weight\u001b[0m\u001b[1;33m,\u001b[0m\u001b[1;33m\u001b[0m\u001b[0m\n\u001b[0;32m   1123\u001b[0m             \u001b[0mcheck_input\u001b[0m\u001b[1;33m=\u001b[0m\u001b[0mcheck_input\u001b[0m\u001b[1;33m,\u001b[0m\u001b[1;33m\u001b[0m\u001b[0m\n\u001b[1;32m-> 1124\u001b[1;33m             X_idx_sorted=X_idx_sorted)\n\u001b[0m\u001b[0;32m   1125\u001b[0m         \u001b[1;32mreturn\u001b[0m \u001b[0mself\u001b[0m\u001b[1;33m\u001b[0m\u001b[0m\n\u001b[0;32m   1126\u001b[0m \u001b[1;33m\u001b[0m\u001b[0m\n",
      "\u001b[1;32mC:\\ProgramData\\Anaconda3\\lib\\site-packages\\sklearn\\tree\\tree.py\u001b[0m in \u001b[0;36mfit\u001b[1;34m(self, X, y, sample_weight, check_input, X_idx_sorted)\u001b[0m\n\u001b[0;32m    360\u001b[0m                                            min_impurity_split)\n\u001b[0;32m    361\u001b[0m \u001b[1;33m\u001b[0m\u001b[0m\n\u001b[1;32m--> 362\u001b[1;33m         \u001b[0mbuilder\u001b[0m\u001b[1;33m.\u001b[0m\u001b[0mbuild\u001b[0m\u001b[1;33m(\u001b[0m\u001b[0mself\u001b[0m\u001b[1;33m.\u001b[0m\u001b[0mtree_\u001b[0m\u001b[1;33m,\u001b[0m \u001b[0mX\u001b[0m\u001b[1;33m,\u001b[0m \u001b[0my\u001b[0m\u001b[1;33m,\u001b[0m \u001b[0msample_weight\u001b[0m\u001b[1;33m,\u001b[0m \u001b[0mX_idx_sorted\u001b[0m\u001b[1;33m)\u001b[0m\u001b[1;33m\u001b[0m\u001b[0m\n\u001b[0m\u001b[0;32m    363\u001b[0m \u001b[1;33m\u001b[0m\u001b[0m\n\u001b[0;32m    364\u001b[0m         \u001b[1;32mif\u001b[0m \u001b[0mself\u001b[0m\u001b[1;33m.\u001b[0m\u001b[0mn_outputs_\u001b[0m \u001b[1;33m==\u001b[0m \u001b[1;36m1\u001b[0m\u001b[1;33m:\u001b[0m\u001b[1;33m\u001b[0m\u001b[0m\n",
      "\u001b[1;31mKeyboardInterrupt\u001b[0m: "
     ]
    }
   ],
   "source": [
    "p_max_depth = range(1,8)\n",
    "acc_max_depth = []\n",
    "for max_depth in p_max_depth:\n",
    "    acc = cross_val(x_train,y_train,n_estimators=200,learning_rate=0.2,max_depth=max_depth)\n",
    "    print(str(max_depth) + ':',str(acc))\n",
    "    print('----------------')\n",
    "    acc_max_depth.append(acc)"
   ]
  },
  {
   "cell_type": "code",
   "execution_count": null,
   "metadata": {
    "collapsed": true
   },
   "outputs": [],
   "source": [
    "plt.plot(p_max_depth, acc_max_depth)\n",
    "plt.xlabel('max_depth')\n",
    "plt.ylabel('acc')\n",
    "plt.show()"
   ]
  },
  {
   "cell_type": "code",
   "execution_count": 203,
   "metadata": {},
   "outputs": [
    {
     "name": "stdout",
     "output_type": "stream",
     "text": [
      "0.656273302383\n",
      "0.658940753701\n",
      "0.652424535568\n",
      "0.659836259137\n",
      "0.651107476268\n",
      "50: 0.655716465411\n",
      "0.656997996663\n",
      "0.659213730853\n",
      "0.653103225687\n",
      "0.660532916499\n",
      "0.652269378261\n",
      "100: 0.656423449592\n",
      "0.657014776126\n",
      "0.658034120954\n",
      "0.653106390437\n",
      "0.660528405917\n",
      "0.651695497524\n",
      "200: 0.656075838192\n",
      "0.655617587303\n",
      "0.65657462229\n",
      "0.651910743658\n",
      "0.659247691269\n",
      "0.650553395452\n",
      "400: 0.654780807994\n"
     ]
    },
    {
     "ename": "KeyboardInterrupt",
     "evalue": "",
     "output_type": "error",
     "traceback": [
      "\u001b[1;31m---------------------------------------------------------------------------\u001b[0m",
      "\u001b[1;31mKeyboardInterrupt\u001b[0m                         Traceback (most recent call last)",
      "\u001b[1;32m<ipython-input-203-24bba1e47896>\u001b[0m in \u001b[0;36m<module>\u001b[1;34m()\u001b[0m\n\u001b[0;32m      2\u001b[0m \u001b[0macc_n_estimators\u001b[0m \u001b[1;33m=\u001b[0m \u001b[1;33m[\u001b[0m\u001b[1;33m]\u001b[0m\u001b[1;33m\u001b[0m\u001b[0m\n\u001b[0;32m      3\u001b[0m \u001b[1;32mfor\u001b[0m \u001b[0mv\u001b[0m \u001b[1;32min\u001b[0m \u001b[0mp_n_estimators\u001b[0m\u001b[1;33m:\u001b[0m\u001b[1;33m\u001b[0m\u001b[0m\n\u001b[1;32m----> 4\u001b[1;33m     \u001b[0macc\u001b[0m \u001b[1;33m=\u001b[0m \u001b[0mcross_val\u001b[0m\u001b[1;33m(\u001b[0m\u001b[0mx_train\u001b[0m\u001b[1;33m,\u001b[0m\u001b[0my_train\u001b[0m\u001b[1;33m,\u001b[0m\u001b[0mn_estimators\u001b[0m\u001b[1;33m=\u001b[0m\u001b[0mv\u001b[0m\u001b[1;33m,\u001b[0m\u001b[0mlearning_rate\u001b[0m\u001b[1;33m=\u001b[0m\u001b[1;36m0.2\u001b[0m\u001b[1;33m,\u001b[0m\u001b[0mmax_depth\u001b[0m\u001b[1;33m=\u001b[0m\u001b[1;36m3\u001b[0m\u001b[1;33m)\u001b[0m\u001b[1;33m\u001b[0m\u001b[0m\n\u001b[0m\u001b[0;32m      5\u001b[0m     \u001b[0mprint\u001b[0m\u001b[1;33m(\u001b[0m\u001b[0mstr\u001b[0m\u001b[1;33m(\u001b[0m\u001b[0mv\u001b[0m\u001b[1;33m)\u001b[0m \u001b[1;33m+\u001b[0m \u001b[1;34m':'\u001b[0m\u001b[1;33m,\u001b[0m\u001b[0mstr\u001b[0m\u001b[1;33m(\u001b[0m\u001b[0macc\u001b[0m\u001b[1;33m)\u001b[0m\u001b[1;33m)\u001b[0m\u001b[1;33m\u001b[0m\u001b[0m\n\u001b[0;32m      6\u001b[0m     \u001b[0macc_n_estimators\u001b[0m\u001b[1;33m.\u001b[0m\u001b[0mappend\u001b[0m\u001b[1;33m(\u001b[0m\u001b[0macc\u001b[0m\u001b[1;33m)\u001b[0m\u001b[1;33m\u001b[0m\u001b[0m\n",
      "\u001b[1;32m<ipython-input-201-6ce177d1b471>\u001b[0m in \u001b[0;36mcross_val\u001b[1;34m(x, y, n_estimators, learning_rate, max_depth)\u001b[0m\n\u001b[0;32m     21\u001b[0m \u001b[1;33m\u001b[0m\u001b[0m\n\u001b[0;32m     22\u001b[0m         \u001b[0mname\u001b[0m \u001b[1;33m=\u001b[0m \u001b[0mreg\u001b[0m\u001b[1;33m.\u001b[0m\u001b[0m__class__\u001b[0m\u001b[1;33m.\u001b[0m\u001b[0m__name__\u001b[0m\u001b[1;33m\u001b[0m\u001b[0m\n\u001b[1;32m---> 23\u001b[1;33m         \u001b[0mreg\u001b[0m\u001b[1;33m.\u001b[0m\u001b[0mfit\u001b[0m\u001b[1;33m(\u001b[0m\u001b[0mx_train\u001b[0m\u001b[1;33m,\u001b[0m \u001b[0my_train\u001b[0m\u001b[1;33m)\u001b[0m\u001b[1;33m\u001b[0m\u001b[0m\n\u001b[0m\u001b[0;32m     24\u001b[0m         \u001b[0my_pred\u001b[0m \u001b[1;33m=\u001b[0m \u001b[0mreg\u001b[0m\u001b[1;33m.\u001b[0m\u001b[0mpredict\u001b[0m\u001b[1;33m(\u001b[0m\u001b[0mx_val\u001b[0m\u001b[1;33m)\u001b[0m\u001b[1;33m\u001b[0m\u001b[0m\n\u001b[0;32m     25\u001b[0m         \u001b[0macc\u001b[0m \u001b[1;33m=\u001b[0m \u001b[0macc_score\u001b[0m\u001b[1;33m(\u001b[0m\u001b[0my_val\u001b[0m\u001b[1;33m,\u001b[0m \u001b[0my_pred\u001b[0m\u001b[1;33m)\u001b[0m\u001b[1;33m\u001b[0m\u001b[0m\n",
      "\u001b[1;32m~\\Desktop 2\\期中pro_regression_v2\\gradient_boosting_decision_tree\\gbdt_model_lmd.py\u001b[0m in \u001b[0;36mfit\u001b[1;34m(self, X, y)\u001b[0m\n\u001b[0;32m     73\u001b[0m             \u001b[1;31m# GDBT模型每棵树训练的label实际上残差\u001b[0m\u001b[1;33m\u001b[0m\u001b[1;33m\u001b[0m\u001b[0m\n\u001b[0;32m     74\u001b[0m             \u001b[1;31m# 残差Ri = y - sum(y_predict_i), i=1,2,3,...,n_estimators\u001b[0m\u001b[1;33m\u001b[0m\u001b[1;33m\u001b[0m\u001b[0m\n\u001b[1;32m---> 75\u001b[1;33m             \u001b[0mself\u001b[0m\u001b[1;33m.\u001b[0m\u001b[0mweighted_trees\u001b[0m\u001b[1;33m[\u001b[0m\u001b[1;33m-\u001b[0m\u001b[1;36m1\u001b[0m\u001b[1;33m]\u001b[0m\u001b[1;33m.\u001b[0m\u001b[0mfit\u001b[0m\u001b[1;33m(\u001b[0m\u001b[0mX\u001b[0m\u001b[1;33m,\u001b[0m \u001b[0mresidual_error\u001b[0m\u001b[1;33m)\u001b[0m\u001b[1;33m\u001b[0m\u001b[0m\n\u001b[0m\u001b[0;32m     76\u001b[0m             \u001b[0my_pred\u001b[0m \u001b[1;33m=\u001b[0m \u001b[0mself\u001b[0m\u001b[1;33m.\u001b[0m\u001b[0mweighted_trees\u001b[0m\u001b[1;33m[\u001b[0m\u001b[1;33m-\u001b[0m\u001b[1;36m1\u001b[0m\u001b[1;33m]\u001b[0m\u001b[1;33m.\u001b[0m\u001b[0mpredict\u001b[0m\u001b[1;33m(\u001b[0m\u001b[0mX\u001b[0m\u001b[1;33m)\u001b[0m\u001b[1;33m\u001b[0m\u001b[0m\n\u001b[0;32m     77\u001b[0m             \u001b[1;31m# 对于残差学习出来的结果，只累加一小部分（learning_rate）逐步逼近目标\u001b[0m\u001b[1;33m\u001b[0m\u001b[1;33m\u001b[0m\u001b[0m\n",
      "\u001b[1;32mC:\\ProgramData\\Anaconda3\\lib\\site-packages\\sklearn\\tree\\tree.py\u001b[0m in \u001b[0;36mfit\u001b[1;34m(self, X, y, sample_weight, check_input, X_idx_sorted)\u001b[0m\n\u001b[0;32m   1122\u001b[0m             \u001b[0msample_weight\u001b[0m\u001b[1;33m=\u001b[0m\u001b[0msample_weight\u001b[0m\u001b[1;33m,\u001b[0m\u001b[1;33m\u001b[0m\u001b[0m\n\u001b[0;32m   1123\u001b[0m             \u001b[0mcheck_input\u001b[0m\u001b[1;33m=\u001b[0m\u001b[0mcheck_input\u001b[0m\u001b[1;33m,\u001b[0m\u001b[1;33m\u001b[0m\u001b[0m\n\u001b[1;32m-> 1124\u001b[1;33m             X_idx_sorted=X_idx_sorted)\n\u001b[0m\u001b[0;32m   1125\u001b[0m         \u001b[1;32mreturn\u001b[0m \u001b[0mself\u001b[0m\u001b[1;33m\u001b[0m\u001b[0m\n\u001b[0;32m   1126\u001b[0m \u001b[1;33m\u001b[0m\u001b[0m\n",
      "\u001b[1;32mC:\\ProgramData\\Anaconda3\\lib\\site-packages\\sklearn\\tree\\tree.py\u001b[0m in \u001b[0;36mfit\u001b[1;34m(self, X, y, sample_weight, check_input, X_idx_sorted)\u001b[0m\n\u001b[0;32m    360\u001b[0m                                            min_impurity_split)\n\u001b[0;32m    361\u001b[0m \u001b[1;33m\u001b[0m\u001b[0m\n\u001b[1;32m--> 362\u001b[1;33m         \u001b[0mbuilder\u001b[0m\u001b[1;33m.\u001b[0m\u001b[0mbuild\u001b[0m\u001b[1;33m(\u001b[0m\u001b[0mself\u001b[0m\u001b[1;33m.\u001b[0m\u001b[0mtree_\u001b[0m\u001b[1;33m,\u001b[0m \u001b[0mX\u001b[0m\u001b[1;33m,\u001b[0m \u001b[0my\u001b[0m\u001b[1;33m,\u001b[0m \u001b[0msample_weight\u001b[0m\u001b[1;33m,\u001b[0m \u001b[0mX_idx_sorted\u001b[0m\u001b[1;33m)\u001b[0m\u001b[1;33m\u001b[0m\u001b[0m\n\u001b[0m\u001b[0;32m    363\u001b[0m \u001b[1;33m\u001b[0m\u001b[0m\n\u001b[0;32m    364\u001b[0m         \u001b[1;32mif\u001b[0m \u001b[0mself\u001b[0m\u001b[1;33m.\u001b[0m\u001b[0mn_outputs_\u001b[0m \u001b[1;33m==\u001b[0m \u001b[1;36m1\u001b[0m\u001b[1;33m:\u001b[0m\u001b[1;33m\u001b[0m\u001b[0m\n",
      "\u001b[1;31mKeyboardInterrupt\u001b[0m: "
     ]
    }
   ],
   "source": [
    "p_n_estimators = [50,100,200,400]\n",
    "acc_n_estimators = []\n",
    "for v in p_n_estimators:\n",
    "    acc = cross_val(x_train,y_train,n_estimators=v,learning_rate=0.2,max_depth=3)\n",
    "    print(str(v) + ':',str(acc))\n",
    "    acc_n_estimators.append(acc)"
   ]
  },
  {
   "cell_type": "code",
   "execution_count": 205,
   "metadata": {},
   "outputs": [
    {
     "data": {
      "image/png": "[encoded data removed]",
      "text/plain": [
       "<matplotlib.figure.Figure at 0x15ce70136a0>"
      ]
     },
     "metadata": {},
     "output_type": "display_data"
    }
   ],
   "source": [
    "p_n_estimators = [50,100,200,400]\n",
    "plt.plot(p_n_estimators, acc_n_estimators)\n",
    "plt.xlabel('n_estimators')\n",
    "plt.ylabel('acc')\n",
    "plt.show()"
   ]
  },
  {
   "cell_type": "code",
   "execution_count": null,
   "metadata": {
    "collapsed": true
   },
   "outputs": [],
   "source": []
  },
  {
   "cell_type": "code",
   "execution_count": 206,
   "metadata": {},
   "outputs": [
    {
     "name": "stdout",
     "output_type": "stream",
     "text": [
      "0.545545174797\n",
      "0.554064213729\n",
      "0.554529170138\n",
      "0.55462111757\n",
      "0.547984916042\n",
      "0.001: 0.551348918455\n",
      "0.62949777319\n",
      "0.632109662034\n",
      "0.624880053369\n",
      "0.632548040407\n",
      "0.623736065003\n",
      "0.01: 0.6285543188\n",
      "0.656025635686\n",
      "0.657720743268\n",
      "0.650426212748\n",
      "0.65885820848\n",
      "0.649209541815\n",
      "0.05: 0.654448068399\n",
      "0.658332754964\n",
      "0.659468537627\n",
      "0.651847000481\n",
      "0.661362569396\n",
      "0.651440429374\n",
      "0.1: 0.656490258368\n",
      "0.657014937409\n",
      "0.65920434263\n",
      "0.653108013838\n",
      "0.660533735051\n",
      "0.652269378261\n",
      "0.2: 0.656426081438\n",
      "0.655628674268\n",
      "0.657413474129\n",
      "0.651431471365\n",
      "0.658257787256\n",
      "0.650802194952\n",
      "0.3: 0.654706720394\n",
      "0.655399241904\n",
      "0.655272486066\n",
      "0.650393131365\n",
      "0.657267483258\n",
      "0.648201031612\n",
      "0.4: 0.653306674841\n"
     ]
    }
   ],
   "source": [
    "p_learning_rate = [0.001,0.01,0.05,0.1,0.2,0.3,0.4]\n",
    "acc_learning_rate = []\n",
    "for v in p_learning_rate:\n",
    "    acc = cross_val(x_train,y_train,n_estimators=100,learning_rate=v,max_depth=3)\n",
    "    print(str(v) + ':',str(acc))\n",
    "    acc_learning_rate.append(acc)"
   ]
  },
  {
   "cell_type": "code",
   "execution_count": 207,
   "metadata": {},
   "outputs": [
    {
     "data": {
      "image/png": "[encoded data removed]",
      "text/plain": [
       "<matplotlib.figure.Figure at 0x15ce7e5bf60>"
      ]
     },
     "metadata": {},
     "output_type": "display_data"
    }
   ],
   "source": [
    "plt.plot(p_learning_rate, acc_learning_rate)\n",
    "plt.xlabel('learning_rate')\n",
    "plt.ylabel('acc')\n",
    "plt.show()"
   ]
  },
  {
   "cell_type": "markdown",
   "metadata": {
    "collapsed": true
   },
   "source": [
    "---------------------------------------\n",
    "分割线，跑上面的即可，下面是历史结果\n",
    "-------------------------------------"
   ]
  },
  {
   "cell_type": "code",
   "execution_count": null,
   "metadata": {
    "collapsed": true
   },
   "outputs": [],
   "source": []
  },
  {
   "cell_type": "code",
   "execution_count": 177,
   "metadata": {
    "collapsed": true
   },
   "outputs": [],
   "source": [
    "regressors = [\n",
    "    GBDTRegressor(n_estimators=100,learning_rate=0.2,max_depth=3),\n",
    "    GradientBoostingRegressor(n_estimators=100,learning_rate=0.2,max_depth=3),\n",
    "]"
   ]
  },
  {
   "cell_type": "code",
   "execution_count": 178,
   "metadata": {},
   "outputs": [
    {
     "data": {
      "text/plain": [
       "[<gradient_boosting_decision_tree.gbdt_model_lmd.GBDTRegressor at 0x15ce7211a58>,\n",
       " GradientBoostingRegressor(alpha=0.9, criterion='friedman_mse', init=None,\n",
       "              learning_rate=0.2, loss='ls', max_depth=3, max_features=None,\n",
       "              max_leaf_nodes=None, min_impurity_decrease=0.0,\n",
       "              min_impurity_split=None, min_samples_leaf=1,\n",
       "              min_samples_split=2, min_weight_fraction_leaf=0.0,\n",
       "              n_estimators=100, presort='auto', random_state=None,\n",
       "              subsample=1.0, verbose=0, warm_start=False)]"
      ]
     },
     "execution_count": 178,
     "metadata": {},
     "output_type": "execute_result"
    }
   ],
   "source": [
    "regressors"
   ]
  },
  {
   "cell_type": "code",
   "execution_count": null,
   "metadata": {
    "collapsed": true
   },
   "outputs": [],
   "source": []
  },
  {
   "cell_type": "code",
   "execution_count": 164,
   "metadata": {},
   "outputs": [
    {
     "name": "stdout",
     "output_type": "stream",
     "text": [
      "[    0     2     3 ..., 79997 79998 79999]\n",
      "[    1    10    24 ..., 79979 79988 79991]\n",
      "0.661668209651\n",
      "[    0     1     2 ..., 79997 79998 79999]\n",
      "[    3    12    13 ..., 79989 79993 79994]\n",
      "0.663338360082\n",
      "[    0     1     3 ..., 79996 79997 79999]\n",
      "[    2     8    11 ..., 79960 79963 79998]\n",
      "0.65888110194\n",
      "[    1     2     3 ..., 79995 79998 79999]\n",
      "[    0     4     5 ..., 79990 79996 79997]\n",
      "0.659461517058\n",
      "[    0     1     2 ..., 79996 79997 79998]\n",
      "[    6     9    15 ..., 79992 79995 79999]\n",
      "0.670209276545\n",
      "       Regressor  Accuracy\n",
      "0  GBDTRegressor  0.662712\n"
     ]
    }
   ],
   "source": [
    "model = GBDTRegressor(n_estimators=100,learning_rate=0.2,max_depth=3)\n",
    "cross_val(x_train,y_train,model)"
   ]
  },
  {
   "cell_type": "code",
   "execution_count": 166,
   "metadata": {},
   "outputs": [
    {
     "name": "stdout",
     "output_type": "stream",
     "text": [
      "0.656984020818\n",
      "0.665386758175\n",
      "0.660861023257\n",
      "0.669700878356\n",
      "0.661012511335\n",
      "       Regressor  Accuracy\n",
      "0  GBDTRegressor  0.662789\n"
     ]
    }
   ],
   "source": [
    "model = GBDTRegressor(n_estimators=100,learning_rate=0.2,max_depth=3)\n",
    "cross_val(x_train,y_train,model)"
   ]
  },
  {
   "cell_type": "code",
   "execution_count": 168,
   "metadata": {
    "scrolled": true
   },
   "outputs": [
    {
     "name": "stdout",
     "output_type": "stream",
     "text": [
      "0.667847329143\n",
      "0.659707560988\n",
      "0.663340854331\n",
      "0.664477815041\n",
      "0.659123847931\n",
      "       Regressor  Accuracy\n",
      "0  GBDTRegressor  0.662899\n"
     ]
    }
   ],
   "source": [
    "model = GBDTRegressor(n_estimators=100,learning_rate=0.2,max_depth=3)\n",
    "cross_val(x_train,y_train,model)"
   ]
  },
  {
   "cell_type": "code",
   "execution_count": 169,
   "metadata": {},
   "outputs": [
    {
     "name": "stdout",
     "output_type": "stream",
     "text": [
      "0.667842092417\n",
      "0.659705152414\n",
      "0.663341801153\n",
      "0.664486124944\n",
      "0.659127716008\n",
      "       Regressor  Accuracy\n",
      "0  GBDTRegressor  0.662901\n"
     ]
    }
   ],
   "source": [
    "model = GBDTRegressor(n_estimators=100,learning_rate=0.2,max_depth=3)\n",
    "cross_val(x_train,y_train,model)"
   ]
  },
  {
   "cell_type": "code",
   "execution_count": null,
   "metadata": {
    "collapsed": true
   },
   "outputs": [],
   "source": []
  },
  {
   "cell_type": "code",
   "execution_count": 139,
   "metadata": {
    "collapsed": true
   },
   "outputs": [],
   "source": [
    "from sklearn.model_selection import KFold, train_test_split\n",
    "from sklearn.metrics import accuracy_score, log_loss\n",
    "from sklearn.ensemble import GradientBoostingRegressor\n",
    "\n",
    "regressors = [\n",
    "    GBDTRegressor(n_estimators=100,learning_rate=0.2,max_depth=3),\n",
    "    GradientBoostingRegressor(n_estimators=100,learning_rate=0.2,max_depth=3),\n",
    "]\n",
    "\n",
    "k = 5\n",
    "sss = KFold(n_splits=k, random_state=44)\n",
    "\n",
    "def acc_score(y_val, y_pred):\n",
    "    return np.corrcoef(y_val, y_pred)[0,1]\n",
    "\n",
    "\n",
    "def cross_val(x,y):\n",
    "    acc_dict = {}\n",
    "    \n",
    "    for train_index, test_index in sss.split(x, y):\n",
    "        x_train, x_val = x[train_index], x[test_index]\n",
    "        y_train, y_val = y[train_index], y[test_index]\n",
    "    \n",
    "        for reg in regressors:\n",
    "            name = reg.__class__.__name__\n",
    "            reg.fit(x_train, y_train)\n",
    "            y_pred = reg.predict(x_val)\n",
    "            acc = acc_score(y_val, y_pred)\n",
    "            \n",
    "            print(name+':', acc)\n",
    "            \n",
    "            if name in acc_dict:\n",
    "                acc_dict[name] += acc\n",
    "            else:\n",
    "                acc_dict[name] = acc\n",
    "    \n",
    "    log_cols = [\"Regressor\", \"Accuracy\"]\n",
    "    log = pd.DataFrame(columns=log_cols)\n",
    "    \n",
    "    for reg in acc_dict:\n",
    "        acc_dict[reg] = acc_dict[reg]/k\n",
    "        log_entry = pd.DataFrame([[reg, acc_dict[reg]]], columns=log_cols)\n",
    "        log = log.append(log_entry)\n",
    "        \n",
    "    \n",
    "    plt.xlabel('Accuracy')\n",
    "    plt.title('Regressor Accuracy')\n",
    "\n",
    "    sns.set_color_codes('muted')\n",
    "    print(log)\n",
    "    sns.barplot(x='Accuracy', y='Regressor', data=log, color=\"b\")"
   ]
  },
  {
   "cell_type": "code",
   "execution_count": 75,
   "metadata": {
    "scrolled": true
   },
   "outputs": [
    {
     "name": "stdout",
     "output_type": "stream",
     "text": [
      "GBDTRegressor: 0.642723695687\n",
      "GradientBoostingRegressor: 0.642752103603\n",
      "GBDTRegressor: 0.666287886602\n",
      "GradientBoostingRegressor: 0.659848188815\n",
      "GBDTRegressor: 0.664637829302\n",
      "GradientBoostingRegressor: 0.656814438291\n",
      "GBDTRegressor: 0.668862448311\n",
      "GradientBoostingRegressor: 0.660150510798\n",
      "GBDTRegressor: 0.656628135989\n",
      "GradientBoostingRegressor: 0.646642521248\n",
      "                   Regressor  Accuracy\n",
      "0              GBDTRegressor  0.659828\n",
      "0  GradientBoostingRegressor  0.653242\n"
     ]
    },
    {
     "data": {
      "image/png": "[encoded data removed]",
      "text/plain": [
       "<matplotlib.figure.Figure at 0x15ce56c2048>"
      ]
     },
     "metadata": {},
     "output_type": "display_data"
    }
   ],
   "source": [
    "cross_val(x_train, y_train)"
   ]
  },
  {
   "cell_type": "code",
   "execution_count": null,
   "metadata": {
    "collapsed": true
   },
   "outputs": [],
   "source": []
  },
  {
   "cell_type": "code",
   "execution_count": 96,
   "metadata": {
    "scrolled": true
   },
   "outputs": [
    {
     "name": "stdout",
     "output_type": "stream",
     "text": [
      "GBDTRegressor: 0.644633666609\n",
      "GradientBoostingRegressor: 0.644640354488\n",
      "GBDTRegressor: 0.669276629094\n",
      "GradientBoostingRegressor: 0.662340971131\n",
      "GBDTRegressor: 0.668039601023\n",
      "GradientBoostingRegressor: 0.660454134898\n",
      "GBDTRegressor: 0.672515086811\n",
      "GradientBoostingRegressor: 0.663083104443\n",
      "GBDTRegressor: 0.660233732523\n",
      "GradientBoostingRegressor: 0.649784884536\n",
      "                   Regressor  Accuracy\n",
      "0              GBDTRegressor  0.662940\n",
      "0  GradientBoostingRegressor  0.656061\n"
     ]
    },
    {
     "data": {
      "image/png": "[encoded data removed]",
      "text/plain": [
       "<matplotlib.figure.Figure at 0x15ce84de3c8>"
      ]
     },
     "metadata": {},
     "output_type": "display_data"
    }
   ],
   "source": [
    "cross_val(x_train, y_train) #加tag的结果 1000"
   ]
  },
  {
   "cell_type": "code",
   "execution_count": 100,
   "metadata": {},
   "outputs": [
    {
     "name": "stdout",
     "output_type": "stream",
     "text": [
      "GBDTRegressor: 0.644655713202\n",
      "GradientBoostingRegressor: 0.644629840419\n",
      "GBDTRegressor: 0.669273372448\n",
      "GradientBoostingRegressor: 0.662337791399\n",
      "GBDTRegressor: 0.66804203413\n",
      "GradientBoostingRegressor: 0.660470453764\n",
      "GBDTRegressor: 0.672515366449\n",
      "GradientBoostingRegressor: 0.663069144251\n",
      "GBDTRegressor: 0.660237346209\n",
      "GradientBoostingRegressor: 0.649789429621\n",
      "                   Regressor  Accuracy\n",
      "0              GBDTRegressor  0.662945\n",
      "0  GradientBoostingRegressor  0.656059\n"
     ]
    },
    {
     "data": {
      "image/png": "[encoded data removed]",
      "text/plain": [
       "<matplotlib.figure.Figure at 0x15ce84f24e0>"
      ]
     },
     "metadata": {},
     "output_type": "display_data"
    }
   ],
   "source": [
    "cross_val(x_train, y_train) #加tag的结果"
   ]
  },
  {
   "cell_type": "code",
   "execution_count": null,
   "metadata": {
    "collapsed": true
   },
   "outputs": [],
   "source": []
  },
  {
   "cell_type": "code",
   "execution_count": null,
   "metadata": {
    "collapsed": true
   },
   "outputs": [],
   "source": []
  },
  {
   "cell_type": "code",
   "execution_count": 119,
   "metadata": {},
   "outputs": [
    {
     "name": "stdout",
     "output_type": "stream",
     "text": [
      "GBDTRegressor: 0.64426838113\n",
      "GradientBoostingRegressor: 0.644300862826\n",
      "GBDTRegressor: 0.668776030405\n",
      "GradientBoostingRegressor: 0.662230017621\n",
      "GBDTRegressor: 0.667189442457\n",
      "GradientBoostingRegressor: 0.660050451071\n",
      "GBDTRegressor: 0.67193468498\n",
      "GradientBoostingRegressor: 0.663513327502\n",
      "GBDTRegressor: 0.659486495975\n",
      "GradientBoostingRegressor: 0.649237198489\n",
      "                   Regressor  Accuracy\n",
      "0              GBDTRegressor  0.662331\n",
      "0  GradientBoostingRegressor  0.655866\n"
     ]
    },
    {
     "data": {
      "image/png": "[encoded data removed]",
      "text/plain": [
       "<matplotlib.figure.Figure at 0x15ce767ecc0>"
      ]
     },
     "metadata": {},
     "output_type": "display_data"
    }
   ],
   "source": [
    "cross_val(x_train, y_train) #加tag的结果 10000"
   ]
  },
  {
   "cell_type": "code",
   "execution_count": 122,
   "metadata": {},
   "outputs": [
    {
     "name": "stdout",
     "output_type": "stream",
     "text": [
      "GBDTRegressor: 0.644266909055\n",
      "GradientBoostingRegressor: 0.644290671374\n",
      "GBDTRegressor: 0.668776325271\n",
      "GradientBoostingRegressor: 0.662234725549\n",
      "GBDTRegressor: 0.667191081585\n",
      "GradientBoostingRegressor: 0.660029476022\n",
      "GBDTRegressor: 0.671935093976\n",
      "GradientBoostingRegressor: 0.663504872581\n",
      "GBDTRegressor: 0.659487312488\n",
      "GradientBoostingRegressor: 0.649240005513\n",
      "                   Regressor  Accuracy\n",
      "0              GBDTRegressor  0.662331\n",
      "0  GradientBoostingRegressor  0.655860\n"
     ]
    },
    {
     "data": {
      "image/png": "[encoded data removed]",
      "text/plain": [
       "<matplotlib.figure.Figure at 0x15ce79bb4e0>"
      ]
     },
     "metadata": {},
     "output_type": "display_data"
    }
   ],
   "source": [
    "cross_val(x_train, y_train) #加tag的结果 10000"
   ]
  },
  {
   "cell_type": "code",
   "execution_count": null,
   "metadata": {
    "collapsed": true
   },
   "outputs": [],
   "source": []
  },
  {
   "cell_type": "code",
   "execution_count": null,
   "metadata": {
    "collapsed": true
   },
   "outputs": [],
   "source": []
  },
  {
   "cell_type": "code",
   "execution_count": 140,
   "metadata": {},
   "outputs": [
    {
     "name": "stdout",
     "output_type": "stream",
     "text": [
      "GBDTRegressor: 0.644843540591\n",
      "GradientBoostingRegressor: 0.64487834661\n",
      "GBDTRegressor: 0.668590128845\n",
      "GradientBoostingRegressor: 0.661867856305\n",
      "GBDTRegressor: 0.667449906544\n",
      "GradientBoostingRegressor: 0.660194369021\n",
      "GBDTRegressor: 0.671876100622\n",
      "GradientBoostingRegressor: 0.663203657898\n",
      "GBDTRegressor: 0.660002618837\n",
      "GradientBoostingRegressor: 0.650240887533\n",
      "                   Regressor  Accuracy\n",
      "0              GBDTRegressor  0.662552\n",
      "0  GradientBoostingRegressor  0.656077\n"
     ]
    },
    {
     "data": {
      "image/png": "[encoded data removed]",
      "text/plain": [
       "<matplotlib.figure.Figure at 0x15ce9750ef0>"
      ]
     },
     "metadata": {},
     "output_type": "display_data"
    }
   ],
   "source": [
    "cross_val(x_train, y_train) #加tag的结果 5000"
   ]
  },
  {
   "cell_type": "code",
   "execution_count": 141,
   "metadata": {},
   "outputs": [
    {
     "name": "stdout",
     "output_type": "stream",
     "text": [
      "GBDTRegressor: 0.65327752984\n",
      "GradientBoostingRegressor: 0.644869214886\n",
      "GBDTRegressor: 0.671631074348\n",
      "GradientBoostingRegressor: 0.66184369541\n",
      "GBDTRegressor: 0.668508046584\n",
      "GradientBoostingRegressor: 0.660183859357\n",
      "GBDTRegressor: 0.672209482958\n",
      "GradientBoostingRegressor: 0.663194146646\n",
      "GBDTRegressor: 0.660001400281\n",
      "GradientBoostingRegressor: 0.650239725257\n",
      "                   Regressor  Accuracy\n",
      "0              GBDTRegressor  0.665126\n",
      "0  GradientBoostingRegressor  0.656066\n"
     ]
    },
    {
     "data": {
      "image/png": "[encoded data removed]",
      "text/plain": [
       "<matplotlib.figure.Figure at 0x15ce7dc7a20>"
      ]
     },
     "metadata": {},
     "output_type": "display_data"
    }
   ],
   "source": [
    "cross_val(x_train, y_train) #加tag的结果 5000"
   ]
  },
  {
   "cell_type": "code",
   "execution_count": null,
   "metadata": {
    "collapsed": true
   },
   "outputs": [],
   "source": []
  },
  {
   "cell_type": "code",
   "execution_count": null,
   "metadata": {
    "collapsed": true
   },
   "outputs": [],
   "source": []
  },
  {
   "cell_type": "code",
   "execution_count": null,
   "metadata": {
    "collapsed": true
   },
   "outputs": [],
   "source": []
  },
  {
   "cell_type": "code",
   "execution_count": 68,
   "metadata": {
    "collapsed": true
   },
   "outputs": [],
   "source": [
    "log_cols = [\"Regressor\", \"Accuracy\"]\n",
    "log = pd.DataFrame(columns=log_cols, )"
   ]
  },
  {
   "cell_type": "code",
   "execution_count": 69,
   "metadata": {},
   "outputs": [
    {
     "data": {
      "text/html": [
       "<div>\n",
       "<style>\n",
       "    .dataframe thead tr:only-child th {\n",
       "        text-align: right;\n",
       "    }\n",
       "\n",
       "    .dataframe thead th {\n",
       "        text-align: left;\n",
       "    }\n",
       "\n",
       "    .dataframe tbody tr th {\n",
       "        vertical-align: top;\n",
       "    }\n",
       "</style>\n",
       "<table border=\"1\" class=\"dataframe\">\n",
       "  <thead>\n",
       "    <tr style=\"text-align: right;\">\n",
       "      <th></th>\n",
       "      <th>Regressor</th>\n",
       "      <th>Accuracy</th>\n",
       "    </tr>\n",
       "  </thead>\n",
       "  <tbody>\n",
       "  </tbody>\n",
       "</table>\n",
       "</div>"
      ],
      "text/plain": [
       "Empty DataFrame\n",
       "Columns: [Regressor, Accuracy]\n",
       "Index: []"
      ]
     },
     "execution_count": 69,
     "metadata": {},
     "output_type": "execute_result"
    }
   ],
   "source": [
    "log"
   ]
  },
  {
   "cell_type": "code",
   "execution_count": null,
   "metadata": {
    "collapsed": true
   },
   "outputs": [],
   "source": []
  },
  {
   "cell_type": "code",
   "execution_count": null,
   "metadata": {
    "collapsed": true
   },
   "outputs": [],
   "source": []
  }
 ],
 "metadata": {
  "kernelspec": {
   "display_name": "Python 3",
   "language": "python",
   "name": "python3"
  },
  "language_info": {
   "codemirror_mode": {
    "name": "ipython",
    "version": 3
   },
   "file_extension": ".py",
   "mimetype": "text/x-python",
   "name": "python",
   "nbconvert_exporter": "python",
   "pygments_lexer": "ipython3",
   "version": "3.6.5"
  }
 },
 "nbformat": 4,
 "nbformat_minor": 2
}

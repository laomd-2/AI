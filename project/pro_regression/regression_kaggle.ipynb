{
 "cells": [
  {
   "cell_type": "code",
   "execution_count": 1,
   "metadata": {},
   "outputs": [],
   "source": [
    "#Importing Libraries\n",
    "import pandas as pd\n",
    "import numpy as np\n",
    "import scipy as sci\n",
    "import seaborn as sns\n",
    "import matplotlib.pyplot as plt\n",
    "%matplotlib inline\n",
    "from sklearn.feature_extraction.text import CountVectorizer\n",
    "\n",
    "import re, nltk\n",
    "from nltk.stem import WordNetLemmatizer\n",
    "from nltk.corpus import stopwords\n",
    "stop_words = set(stopwords.words('english'))\n",
    "wordnet_lemmatizer = WordNetLemmatizer()"
   ]
  },
  {
   "cell_type": "code",
   "execution_count": 2,
   "metadata": {},
   "outputs": [],
   "source": [
    "train_set = pd.read_excel('data/回归/train.xlsx')\n",
    "test_set = pd.read_excel('data/回归/testStudent.xlsx')"
   ]
  },
  {
   "cell_type": "code",
   "execution_count": 3,
   "metadata": {},
   "outputs": [
    {
     "data": {
      "text/plain": [
       "((80000, 8), (30000, 7))"
      ]
     },
     "execution_count": 3,
     "metadata": {},
     "output_type": "execute_result"
    }
   ],
   "source": [
    "train_set.shape, test_set.shape"
   ]
  },
  {
   "cell_type": "code",
   "execution_count": 4,
   "metadata": {},
   "outputs": [],
   "source": [
    "data_set = pd.concat([train_set, test_set], sort=False, axis=0)\n",
    "# data_set = train_set"
   ]
  },
  {
   "cell_type": "code",
   "execution_count": 5,
   "metadata": {},
   "outputs": [],
   "source": [
    "data = data_set"
   ]
  },
  {
   "cell_type": "code",
   "execution_count": 6,
   "metadata": {},
   "outputs": [
    {
     "data": {
      "text/plain": [
       "(110000, 8)"
      ]
     },
     "execution_count": 6,
     "metadata": {},
     "output_type": "execute_result"
    }
   ],
   "source": [
    "data.shape"
   ]
  },
  {
   "cell_type": "code",
   "execution_count": 7,
   "metadata": {},
   "outputs": [],
   "source": [
    "tags = data[\"Tags\"]\n",
    "del data[\"Tags\"]"
   ]
  },
  {
   "cell_type": "markdown",
   "metadata": {},
   "source": [
    "## Mining some important information from tags"
   ]
  },
  {
   "cell_type": "markdown",
   "metadata": {},
   "source": [
    "# 1、Leisure or business"
   ]
  },
  {
   "cell_type": "code",
   "execution_count": 8,
   "metadata": {},
   "outputs": [],
   "source": [
    "data['Leisure'] = tags.map(lambda x: 1 if ' Leisure trip ' in x else 0)\n",
    "data['Business'] = tags.map(lambda x: 2 if ' Business trip ' in x else 0)\n",
    "data['Trip_type'] = data['Leisure'] + data['Business']\n",
    "del data['Leisure']\n",
    "del data['Business']"
   ]
  },
  {
   "cell_type": "code",
   "execution_count": 9,
   "metadata": {
    "scrolled": true
   },
   "outputs": [
    {
     "data": {
      "text/plain": [
       "1    89061\n",
       "2    17696\n",
       "0     3243\n",
       "Name: Trip_type, dtype: int64"
      ]
     },
     "execution_count": 9,
     "metadata": {},
     "output_type": "execute_result"
    }
   ],
   "source": [
    "data['Trip_type'].value_counts()"
   ]
  },
  {
   "cell_type": "markdown",
   "metadata": {},
   "source": [
    "# 2、How many people"
   ]
  },
  {
   "cell_type": "code",
   "execution_count": 10,
   "metadata": {},
   "outputs": [],
   "source": [
    "#Couple or Solo or Group or Family_with_older children or Family with younger Children\n",
    "data['Solo'] = tags.map(lambda x: 1 if ' Solo traveler ' in x else 0)\n",
    "data['Couple'] = tags.map(lambda x: 2 if ' Couple ' in x else 0)\n",
    "data['Family_with_young_children'] = tags.map(lambda x: 3 if ' Family with young children ' in x else 0)\n",
    "data['Family_with_older_children'] = tags.map(lambda x: 4 if ' Family with older children ' in x else 0)\n",
    "data['Group'] = tags.map(lambda x: 5 if ' Group ' in x else 0)\n",
    "data['whom'] = data['Solo'] + data['Couple'] + data['Group'] + data['Family_with_young_children'] + data['Family_with_older_children']\n",
    "del data['Solo'], data['Couple'],data['Group'], data['Family_with_young_children'],data['Family_with_older_children']"
   ]
  },
  {
   "cell_type": "code",
   "execution_count": 11,
   "metadata": {},
   "outputs": [
    {
     "data": {
      "text/plain": [
       "2    53985\n",
       "1    23089\n",
       "5    13791\n",
       "3    13078\n",
       "4     5562\n",
       "0      495\n",
       "Name: whom, dtype: int64"
      ]
     },
     "execution_count": 11,
     "metadata": {},
     "output_type": "execute_result"
    }
   ],
   "source": [
    "data.whom.value_counts()"
   ]
  },
  {
   "cell_type": "code",
   "execution_count": 12,
   "metadata": {},
   "outputs": [
    {
     "data": {
      "text/plain": [
       "2    54480\n",
       "1    23089\n",
       "5    13791\n",
       "3    13078\n",
       "4     5562\n",
       "Name: whom, dtype: int64"
      ]
     },
     "execution_count": 12,
     "metadata": {},
     "output_type": "execute_result"
    }
   ],
   "source": [
    "#I will assign 2 to 0's because it is the most.\n",
    "data['whom'] = data['whom'].map(lambda x: 2 if x == 0 else x)\n",
    "data.whom.value_counts()"
   ]
  },
  {
   "cell_type": "code",
   "execution_count": 13,
   "metadata": {
    "scrolled": true
   },
   "outputs": [
    {
     "data": {
      "text/html": [
       "<div>\n",
       "<style scoped>\n",
       "    .dataframe tbody tr th:only-of-type {\n",
       "        vertical-align: middle;\n",
       "    }\n",
       "\n",
       "    .dataframe tbody tr th {\n",
       "        vertical-align: top;\n",
       "    }\n",
       "\n",
       "    .dataframe thead th {\n",
       "        text-align: right;\n",
       "    }\n",
       "</style>\n",
       "<table border=\"1\" class=\"dataframe\">\n",
       "  <thead>\n",
       "    <tr style=\"text-align: right;\">\n",
       "      <th></th>\n",
       "      <th>Additional_Number_of_Scoring</th>\n",
       "      <th>Average_Score</th>\n",
       "      <th>Review_Total_Negative_Word_Counts</th>\n",
       "      <th>Total_Number_of_Reviews</th>\n",
       "      <th>Review_Total_Positive_Word_Counts</th>\n",
       "      <th>Total_Number_of_Reviews_Reviewer_Has_Given</th>\n",
       "      <th>Reviewer_Score</th>\n",
       "      <th>Trip_type</th>\n",
       "      <th>whom</th>\n",
       "    </tr>\n",
       "  </thead>\n",
       "  <tbody>\n",
       "    <tr>\n",
       "      <th>0</th>\n",
       "      <td>255</td>\n",
       "      <td>8.1</td>\n",
       "      <td>57</td>\n",
       "      <td>1290</td>\n",
       "      <td>10</td>\n",
       "      <td>1</td>\n",
       "      <td>6.3</td>\n",
       "      <td>0</td>\n",
       "      <td>3</td>\n",
       "    </tr>\n",
       "    <tr>\n",
       "      <th>1</th>\n",
       "      <td>211</td>\n",
       "      <td>8.6</td>\n",
       "      <td>0</td>\n",
       "      <td>2923</td>\n",
       "      <td>19</td>\n",
       "      <td>12</td>\n",
       "      <td>10.0</td>\n",
       "      <td>1</td>\n",
       "      <td>3</td>\n",
       "    </tr>\n",
       "    <tr>\n",
       "      <th>2</th>\n",
       "      <td>189</td>\n",
       "      <td>9.2</td>\n",
       "      <td>27</td>\n",
       "      <td>781</td>\n",
       "      <td>29</td>\n",
       "      <td>24</td>\n",
       "      <td>10.0</td>\n",
       "      <td>2</td>\n",
       "      <td>2</td>\n",
       "    </tr>\n",
       "    <tr>\n",
       "      <th>3</th>\n",
       "      <td>1258</td>\n",
       "      <td>9.4</td>\n",
       "      <td>20</td>\n",
       "      <td>4204</td>\n",
       "      <td>31</td>\n",
       "      <td>3</td>\n",
       "      <td>9.2</td>\n",
       "      <td>1</td>\n",
       "      <td>2</td>\n",
       "    </tr>\n",
       "    <tr>\n",
       "      <th>4</th>\n",
       "      <td>289</td>\n",
       "      <td>8.8</td>\n",
       "      <td>0</td>\n",
       "      <td>1519</td>\n",
       "      <td>3</td>\n",
       "      <td>9</td>\n",
       "      <td>10.0</td>\n",
       "      <td>1</td>\n",
       "      <td>1</td>\n",
       "    </tr>\n",
       "  </tbody>\n",
       "</table>\n",
       "</div>"
      ],
      "text/plain": [
       "   Additional_Number_of_Scoring  Average_Score  \\\n",
       "0                           255            8.1   \n",
       "1                           211            8.6   \n",
       "2                           189            9.2   \n",
       "3                          1258            9.4   \n",
       "4                           289            8.8   \n",
       "\n",
       "   Review_Total_Negative_Word_Counts  Total_Number_of_Reviews  \\\n",
       "0                                 57                     1290   \n",
       "1                                  0                     2923   \n",
       "2                                 27                      781   \n",
       "3                                 20                     4204   \n",
       "4                                  0                     1519   \n",
       "\n",
       "   Review_Total_Positive_Word_Counts  \\\n",
       "0                                 10   \n",
       "1                                 19   \n",
       "2                                 29   \n",
       "3                                 31   \n",
       "4                                  3   \n",
       "\n",
       "   Total_Number_of_Reviews_Reviewer_Has_Given  Reviewer_Score  Trip_type  whom  \n",
       "0                                           1             6.3          0     3  \n",
       "1                                          12            10.0          1     3  \n",
       "2                                          24            10.0          2     2  \n",
       "3                                           3             9.2          1     2  \n",
       "4                                           9            10.0          1     1  "
      ]
     },
     "execution_count": 13,
     "metadata": {},
     "output_type": "execute_result"
    }
   ],
   "source": [
    "data.head()"
   ]
  },
  {
   "cell_type": "markdown",
   "metadata": {},
   "source": [
    "# 3、what kind of room"
   ]
  },
  {
   "cell_type": "code",
   "execution_count": 14,
   "metadata": {},
   "outputs": [],
   "source": [
    "# Queen Room两张单人床\n",
    "scale_of_room = {'Double': 2, 'Single': 1, 'Twin': 2,\n",
    "                  'Triple': 3, 'Quadruple': 4, 'Queen': 2, \n",
    "                  'King': 2, 'Suite': 2, 'Studio': 3, 'Executive': 4\n",
    "                }\n",
    "level_of_room = {'Standard': 1, 'Superior': 6, 'Deluxe': 7, 'Classic': 2, 'Premium': -3,\n",
    "                 'Small': 0.5, 'Quality': 5, 'Wonderful': 6, 'Compact': 1, 'Comfort': 3, \n",
    "                 'Large': 3, 'Privilege': 5, 'Cosy': -2, 'Art': 4, 'Junior': 6, 'Garden': 5, 'Basic': 1\n",
    "                }\n",
    "\n",
    "def get_weight(tag):\n",
    "    weight = 0\n",
    "    for room, scale in scale_of_room.items():\n",
    "        if room in tag:\n",
    "            rate = 1\n",
    "            for level, level_w in level_of_room.items():\n",
    "                if level in tag:\n",
    "                    rate = level_w\n",
    "                    if \"Room with\" in tag:\n",
    "                        rate += 1\n",
    "                    break\n",
    "            weight += scale * rate\n",
    "    return weight\n",
    "data['room'] = tags.map(lambda x: get_weight(x))"
   ]
  },
  {
   "cell_type": "code",
   "execution_count": 15,
   "metadata": {},
   "outputs": [
    {
     "data": {
      "text/plain": [
       " 2.0     33888\n",
       " 4.0     18224\n",
       " 12.0    12978\n",
       " 0.0     10601\n",
       " 14.0     9817\n",
       " 1.0      4978\n",
       " 6.0      4570\n",
       " 24.0     3916\n",
       " 28.0     2210\n",
       " 8.0      2057\n",
       " 3.0      1918\n",
       " 16.0      931\n",
       " 7.0       908\n",
       " 5.0       742\n",
       "-4.0       374\n",
       " 21.0      344\n",
       " 18.0      265\n",
       "-12.0      193\n",
       " 32.0      176\n",
       " 10.0      156\n",
       "-6.0       145\n",
       " 9.0       115\n",
       "-2.0       108\n",
       " 20.0       87\n",
       " 35.0       69\n",
       " 0.5        58\n",
       " 30.0       53\n",
       " 36.0       38\n",
       "-8.0        20\n",
       " 1.5        15\n",
       " 15.0       12\n",
       "-9.0        10\n",
       " 63.0        8\n",
       " 48.0        7\n",
       " 42.0        7\n",
       " 49.0        2\n",
       "Name: room, dtype: int64"
      ]
     },
     "execution_count": 15,
     "metadata": {},
     "output_type": "execute_result"
    }
   ],
   "source": [
    "data.room.value_counts()"
   ]
  },
  {
   "cell_type": "code",
   "execution_count": 16,
   "metadata": {},
   "outputs": [
    {
     "data": {
      "text/html": [
       "<div>\n",
       "<style scoped>\n",
       "    .dataframe tbody tr th:only-of-type {\n",
       "        vertical-align: middle;\n",
       "    }\n",
       "\n",
       "    .dataframe tbody tr th {\n",
       "        vertical-align: top;\n",
       "    }\n",
       "\n",
       "    .dataframe thead th {\n",
       "        text-align: right;\n",
       "    }\n",
       "</style>\n",
       "<table border=\"1\" class=\"dataframe\">\n",
       "  <thead>\n",
       "    <tr style=\"text-align: right;\">\n",
       "      <th></th>\n",
       "      <th>Additional_Number_of_Scoring</th>\n",
       "      <th>Average_Score</th>\n",
       "      <th>Review_Total_Negative_Word_Counts</th>\n",
       "      <th>Total_Number_of_Reviews</th>\n",
       "      <th>Review_Total_Positive_Word_Counts</th>\n",
       "      <th>Total_Number_of_Reviews_Reviewer_Has_Given</th>\n",
       "      <th>Reviewer_Score</th>\n",
       "      <th>Trip_type</th>\n",
       "      <th>whom</th>\n",
       "      <th>room</th>\n",
       "    </tr>\n",
       "  </thead>\n",
       "  <tbody>\n",
       "    <tr>\n",
       "      <th>0</th>\n",
       "      <td>255</td>\n",
       "      <td>8.1</td>\n",
       "      <td>57</td>\n",
       "      <td>1290</td>\n",
       "      <td>10</td>\n",
       "      <td>1</td>\n",
       "      <td>6.3</td>\n",
       "      <td>0</td>\n",
       "      <td>3</td>\n",
       "      <td>2.0</td>\n",
       "    </tr>\n",
       "    <tr>\n",
       "      <th>1</th>\n",
       "      <td>211</td>\n",
       "      <td>8.6</td>\n",
       "      <td>0</td>\n",
       "      <td>2923</td>\n",
       "      <td>19</td>\n",
       "      <td>12</td>\n",
       "      <td>10.0</td>\n",
       "      <td>1</td>\n",
       "      <td>3</td>\n",
       "      <td>2.0</td>\n",
       "    </tr>\n",
       "    <tr>\n",
       "      <th>2</th>\n",
       "      <td>189</td>\n",
       "      <td>9.2</td>\n",
       "      <td>27</td>\n",
       "      <td>781</td>\n",
       "      <td>29</td>\n",
       "      <td>24</td>\n",
       "      <td>10.0</td>\n",
       "      <td>2</td>\n",
       "      <td>2</td>\n",
       "      <td>0.0</td>\n",
       "    </tr>\n",
       "    <tr>\n",
       "      <th>3</th>\n",
       "      <td>1258</td>\n",
       "      <td>9.4</td>\n",
       "      <td>20</td>\n",
       "      <td>4204</td>\n",
       "      <td>31</td>\n",
       "      <td>3</td>\n",
       "      <td>9.2</td>\n",
       "      <td>1</td>\n",
       "      <td>2</td>\n",
       "      <td>16.0</td>\n",
       "    </tr>\n",
       "    <tr>\n",
       "      <th>4</th>\n",
       "      <td>289</td>\n",
       "      <td>8.8</td>\n",
       "      <td>0</td>\n",
       "      <td>1519</td>\n",
       "      <td>3</td>\n",
       "      <td>9</td>\n",
       "      <td>10.0</td>\n",
       "      <td>1</td>\n",
       "      <td>1</td>\n",
       "      <td>7.0</td>\n",
       "    </tr>\n",
       "  </tbody>\n",
       "</table>\n",
       "</div>"
      ],
      "text/plain": [
       "   Additional_Number_of_Scoring  Average_Score  \\\n",
       "0                           255            8.1   \n",
       "1                           211            8.6   \n",
       "2                           189            9.2   \n",
       "3                          1258            9.4   \n",
       "4                           289            8.8   \n",
       "\n",
       "   Review_Total_Negative_Word_Counts  Total_Number_of_Reviews  \\\n",
       "0                                 57                     1290   \n",
       "1                                  0                     2923   \n",
       "2                                 27                      781   \n",
       "3                                 20                     4204   \n",
       "4                                  0                     1519   \n",
       "\n",
       "   Review_Total_Positive_Word_Counts  \\\n",
       "0                                 10   \n",
       "1                                 19   \n",
       "2                                 29   \n",
       "3                                 31   \n",
       "4                                  3   \n",
       "\n",
       "   Total_Number_of_Reviews_Reviewer_Has_Given  Reviewer_Score  Trip_type  \\\n",
       "0                                           1             6.3          0   \n",
       "1                                          12            10.0          1   \n",
       "2                                          24            10.0          2   \n",
       "3                                           3             9.2          1   \n",
       "4                                           9            10.0          1   \n",
       "\n",
       "   whom  room  \n",
       "0     3   2.0  \n",
       "1     3   2.0  \n",
       "2     2   0.0  \n",
       "3     2  16.0  \n",
       "4     1   7.0  "
      ]
     },
     "execution_count": 16,
     "metadata": {},
     "output_type": "execute_result"
    }
   ],
   "source": [
    "data.head()"
   ]
  },
  {
   "cell_type": "markdown",
   "metadata": {},
   "source": [
    "# 4、stay n days"
   ]
  },
  {
   "cell_type": "code",
   "execution_count": 17,
   "metadata": {},
   "outputs": [],
   "source": [
    "#Stayings\n",
    "data['Stayed_1_days'] = tags.map(lambda x: 1 if ' Stayed 1 night ' in x else 0)\n",
    "data['Stayed_2_days'] = tags.map(lambda x: 2 if ' Stayed 2 nights ' in x else 0)\n",
    "data['Stayed_3_days'] = tags.map(lambda x: 3 if ' Stayed 3 nights ' in x else 0)\n",
    "data['Stayed_4_days'] = tags.map(lambda x: 4 if ' Stayed 4 nights ' in x else 0)\n",
    "data['Stayed_5_days'] = tags.map(lambda x: 5 if ' Stayed 5 nights ' in x else 0)\n",
    "data['Stayed_6_days'] = tags.map(lambda x: 6 if ' Stayed 6 nights ' in x else 0)\n",
    "data['Stayed_7_days'] = tags.map(lambda x: 7 if ' Stayed 7 nights ' in x else 0)\n",
    "data['Stayed_8_days'] = tags.map(lambda x: 8 if ' Stayed 8 nights ' in x else 0)\n",
    "data['Stayed_9_days'] = tags.map(lambda x: 9 if ' Stayed 9 nights ' in x else 0)\n",
    "data['Stayed_10_days'] = tags.map(lambda x: 10 if ' Stayed 10 nights ' in x else 0)\n",
    "data['Stayed_11_days'] = tags.map(lambda x: 11 if ' Stayed 11 nights ' in x else 0)\n",
    "data['Stayed_12_days'] = tags.map(lambda x: 12 if ' Stayed 12 nights ' in x else 0)\n",
    "data['Stayed_13_days'] = tags.map(lambda x: 13 if ' Stayed 13 nights ' in x else 0)\n",
    "data['Stayed_14_days'] = tags.map(lambda x: 14 if ' Stayed 14 nights ' in x else 0)\n",
    "data['Stayed_15_days'] = tags.map(lambda x: 15 if ' Stayed 15 nights ' in x else 0)\n",
    "data['Stayed_16_days'] = tags.map(lambda x: 16 if ' Stayed 16 nights ' in x else 0)\n",
    "data['Stayed_17_days'] = tags.map(lambda x: 17 if ' Stayed 17 nights ' in x else 0)\n",
    "data['Stayed_18_days'] = tags.map(lambda x: 18 if ' Stayed 18 nights ' in x else 0)\n",
    "data['Stayed_19_days'] = tags.map(lambda x: 19 if ' Stayed 19 nights ' in x else 0)\n",
    "data['Stayed_20_days'] = tags.map(lambda x: 20 if ' Stayed 20 nights ' in x else 0)"
   ]
  },
  {
   "cell_type": "code",
   "execution_count": 18,
   "metadata": {
    "scrolled": true
   },
   "outputs": [],
   "source": [
    "temp_list = []\n",
    "for j in range(9,28):\n",
    "    sum = np.sum(data.iloc[:,j])/(j-8)\n",
    "    temp_list.append(sum)"
   ]
  },
  {
   "cell_type": "code",
   "execution_count": 19,
   "metadata": {},
   "outputs": [
    {
     "data": {
      "text/plain": [
       "764217"
      ]
     },
     "execution_count": 19,
     "metadata": {},
     "output_type": "execute_result"
    }
   ],
   "source": [
    "staying = np.array(temp_list,dtype=int)\n",
    "np.sum(staying)"
   ]
  },
  {
   "cell_type": "code",
   "execution_count": 22,
   "metadata": {},
   "outputs": [],
   "source": [
    "data['stayed_days'] = data['Stayed_1_days'] + data['Stayed_2_days'] + data['Stayed_3_days'] + data['Stayed_4_days'] + data['Stayed_5_days'] + data['Stayed_6_days'] + data['Stayed_7_days'] + data['Stayed_8_days'] + data['Stayed_9_days'] + data['Stayed_10_days'] + data['Stayed_11_days'] + data['Stayed_12_days'] + data['Stayed_13_days'] + data['Stayed_14_days'] + data['Stayed_15_days'] + data['Stayed_16_days'] + data['Stayed_17_days'] + data['Stayed_18_days'] + data['Stayed_19_days'] + data['Stayed_20_days']\n",
    "del data['Stayed_1_days'] , data['Stayed_2_days'] , data['Stayed_3_days'] , data['Stayed_4_days'], data['Stayed_5_days'] , data['Stayed_6_days'] , data['Stayed_7_days'] , data['Stayed_8_days'] , data['Stayed_9_days'] , data['Stayed_10_days'] , data['Stayed_11_days'] , data['Stayed_12_days'] , data['Stayed_13_days'] , data['Stayed_14_days'] , data['Stayed_15_days'] , data['Stayed_16_days'] , data['Stayed_17_days'] , data['Stayed_18_days'] , data['Stayed_19_days'] , data['Stayed_20_days']"
   ]
  },
  {
   "cell_type": "code",
   "execution_count": 23,
   "metadata": {},
   "outputs": [],
   "source": [
    "data['stayed_days'] = data['stayed_days'].map(lambda x: 21 if x == 0 else x)"
   ]
  },
  {
   "cell_type": "code",
   "execution_count": 24,
   "metadata": {},
   "outputs": [
    {
     "data": {
      "text/plain": [
       "1     41088\n",
       "2     28637\n",
       "3     20505\n",
       "4     10234\n",
       "5      4472\n",
       "6      2050\n",
       "7      1602\n",
       "8       547\n",
       "9       283\n",
       "10      194\n",
       "11       90\n",
       "12       70\n",
       "21       64\n",
       "13       53\n",
       "14       53\n",
       "15       24\n",
       "17       11\n",
       "16        9\n",
       "19        6\n",
       "18        5\n",
       "20        3\n",
       "Name: stayed_days, dtype: int64"
      ]
     },
     "execution_count": 24,
     "metadata": {},
     "output_type": "execute_result"
    }
   ],
   "source": [
    "data.stayed_days.value_counts()"
   ]
  },
  {
   "cell_type": "code",
   "execution_count": 25,
   "metadata": {},
   "outputs": [
    {
     "data": {
      "text/html": [
       "<div>\n",
       "<style scoped>\n",
       "    .dataframe tbody tr th:only-of-type {\n",
       "        vertical-align: middle;\n",
       "    }\n",
       "\n",
       "    .dataframe tbody tr th {\n",
       "        vertical-align: top;\n",
       "    }\n",
       "\n",
       "    .dataframe thead th {\n",
       "        text-align: right;\n",
       "    }\n",
       "</style>\n",
       "<table border=\"1\" class=\"dataframe\">\n",
       "  <thead>\n",
       "    <tr style=\"text-align: right;\">\n",
       "      <th></th>\n",
       "      <th>Additional_Number_of_Scoring</th>\n",
       "      <th>Average_Score</th>\n",
       "      <th>Review_Total_Negative_Word_Counts</th>\n",
       "      <th>Total_Number_of_Reviews</th>\n",
       "      <th>Review_Total_Positive_Word_Counts</th>\n",
       "      <th>Total_Number_of_Reviews_Reviewer_Has_Given</th>\n",
       "      <th>Reviewer_Score</th>\n",
       "      <th>Trip_type</th>\n",
       "      <th>whom</th>\n",
       "      <th>room</th>\n",
       "      <th>stayed_days</th>\n",
       "    </tr>\n",
       "  </thead>\n",
       "  <tbody>\n",
       "    <tr>\n",
       "      <th>0</th>\n",
       "      <td>255</td>\n",
       "      <td>8.1</td>\n",
       "      <td>57</td>\n",
       "      <td>1290</td>\n",
       "      <td>10</td>\n",
       "      <td>1</td>\n",
       "      <td>6.3</td>\n",
       "      <td>0</td>\n",
       "      <td>3</td>\n",
       "      <td>2.0</td>\n",
       "      <td>1</td>\n",
       "    </tr>\n",
       "    <tr>\n",
       "      <th>1</th>\n",
       "      <td>211</td>\n",
       "      <td>8.6</td>\n",
       "      <td>0</td>\n",
       "      <td>2923</td>\n",
       "      <td>19</td>\n",
       "      <td>12</td>\n",
       "      <td>10.0</td>\n",
       "      <td>1</td>\n",
       "      <td>3</td>\n",
       "      <td>2.0</td>\n",
       "      <td>5</td>\n",
       "    </tr>\n",
       "    <tr>\n",
       "      <th>2</th>\n",
       "      <td>189</td>\n",
       "      <td>9.2</td>\n",
       "      <td>27</td>\n",
       "      <td>781</td>\n",
       "      <td>29</td>\n",
       "      <td>24</td>\n",
       "      <td>10.0</td>\n",
       "      <td>2</td>\n",
       "      <td>2</td>\n",
       "      <td>0.0</td>\n",
       "      <td>1</td>\n",
       "    </tr>\n",
       "    <tr>\n",
       "      <th>3</th>\n",
       "      <td>1258</td>\n",
       "      <td>9.4</td>\n",
       "      <td>20</td>\n",
       "      <td>4204</td>\n",
       "      <td>31</td>\n",
       "      <td>3</td>\n",
       "      <td>9.2</td>\n",
       "      <td>1</td>\n",
       "      <td>2</td>\n",
       "      <td>16.0</td>\n",
       "      <td>1</td>\n",
       "    </tr>\n",
       "    <tr>\n",
       "      <th>4</th>\n",
       "      <td>289</td>\n",
       "      <td>8.8</td>\n",
       "      <td>0</td>\n",
       "      <td>1519</td>\n",
       "      <td>3</td>\n",
       "      <td>9</td>\n",
       "      <td>10.0</td>\n",
       "      <td>1</td>\n",
       "      <td>1</td>\n",
       "      <td>7.0</td>\n",
       "      <td>1</td>\n",
       "    </tr>\n",
       "  </tbody>\n",
       "</table>\n",
       "</div>"
      ],
      "text/plain": [
       "   Additional_Number_of_Scoring  Average_Score  \\\n",
       "0                           255            8.1   \n",
       "1                           211            8.6   \n",
       "2                           189            9.2   \n",
       "3                          1258            9.4   \n",
       "4                           289            8.8   \n",
       "\n",
       "   Review_Total_Negative_Word_Counts  Total_Number_of_Reviews  \\\n",
       "0                                 57                     1290   \n",
       "1                                  0                     2923   \n",
       "2                                 27                      781   \n",
       "3                                 20                     4204   \n",
       "4                                  0                     1519   \n",
       "\n",
       "   Review_Total_Positive_Word_Counts  \\\n",
       "0                                 10   \n",
       "1                                 19   \n",
       "2                                 29   \n",
       "3                                 31   \n",
       "4                                  3   \n",
       "\n",
       "   Total_Number_of_Reviews_Reviewer_Has_Given  Reviewer_Score  Trip_type  \\\n",
       "0                                           1             6.3          0   \n",
       "1                                          12            10.0          1   \n",
       "2                                          24            10.0          2   \n",
       "3                                           3             9.2          1   \n",
       "4                                           9            10.0          1   \n",
       "\n",
       "   whom  room  stayed_days  \n",
       "0     3   2.0            1  \n",
       "1     3   2.0            5  \n",
       "2     2   0.0            1  \n",
       "3     2  16.0            1  \n",
       "4     1   7.0            1  "
      ]
     },
     "execution_count": 25,
     "metadata": {},
     "output_type": "execute_result"
    }
   ],
   "source": [
    "data.head()"
   ]
  },
  {
   "cell_type": "markdown",
   "metadata": {},
   "source": [
    "# 5、submitted by mobile device?"
   ]
  },
  {
   "cell_type": "code",
   "execution_count": null,
   "metadata": {},
   "outputs": [],
   "source": []
  },
  {
   "cell_type": "code",
   "execution_count": 26,
   "metadata": {},
   "outputs": [],
   "source": [
    "#Mobile device\n",
    "data['mobile_device'] = tags.map(lambda x: 1 if ' Submitted from a mobile device ' in x else 0)"
   ]
  },
  {
   "cell_type": "code",
   "execution_count": 27,
   "metadata": {},
   "outputs": [
    {
     "data": {
      "text/html": [
       "<div>\n",
       "<style scoped>\n",
       "    .dataframe tbody tr th:only-of-type {\n",
       "        vertical-align: middle;\n",
       "    }\n",
       "\n",
       "    .dataframe tbody tr th {\n",
       "        vertical-align: top;\n",
       "    }\n",
       "\n",
       "    .dataframe thead th {\n",
       "        text-align: right;\n",
       "    }\n",
       "</style>\n",
       "<table border=\"1\" class=\"dataframe\">\n",
       "  <thead>\n",
       "    <tr style=\"text-align: right;\">\n",
       "      <th></th>\n",
       "      <th>Additional_Number_of_Scoring</th>\n",
       "      <th>Average_Score</th>\n",
       "      <th>Review_Total_Negative_Word_Counts</th>\n",
       "      <th>Total_Number_of_Reviews</th>\n",
       "      <th>Review_Total_Positive_Word_Counts</th>\n",
       "      <th>Total_Number_of_Reviews_Reviewer_Has_Given</th>\n",
       "      <th>Reviewer_Score</th>\n",
       "      <th>Trip_type</th>\n",
       "      <th>whom</th>\n",
       "      <th>room</th>\n",
       "      <th>stayed_days</th>\n",
       "      <th>mobile_device</th>\n",
       "    </tr>\n",
       "  </thead>\n",
       "  <tbody>\n",
       "    <tr>\n",
       "      <th>0</th>\n",
       "      <td>255</td>\n",
       "      <td>8.1</td>\n",
       "      <td>57</td>\n",
       "      <td>1290</td>\n",
       "      <td>10</td>\n",
       "      <td>1</td>\n",
       "      <td>6.3</td>\n",
       "      <td>0</td>\n",
       "      <td>3</td>\n",
       "      <td>2.0</td>\n",
       "      <td>1</td>\n",
       "      <td>0</td>\n",
       "    </tr>\n",
       "    <tr>\n",
       "      <th>1</th>\n",
       "      <td>211</td>\n",
       "      <td>8.6</td>\n",
       "      <td>0</td>\n",
       "      <td>2923</td>\n",
       "      <td>19</td>\n",
       "      <td>12</td>\n",
       "      <td>10.0</td>\n",
       "      <td>1</td>\n",
       "      <td>3</td>\n",
       "      <td>2.0</td>\n",
       "      <td>5</td>\n",
       "      <td>1</td>\n",
       "    </tr>\n",
       "    <tr>\n",
       "      <th>2</th>\n",
       "      <td>189</td>\n",
       "      <td>9.2</td>\n",
       "      <td>27</td>\n",
       "      <td>781</td>\n",
       "      <td>29</td>\n",
       "      <td>24</td>\n",
       "      <td>10.0</td>\n",
       "      <td>2</td>\n",
       "      <td>2</td>\n",
       "      <td>0.0</td>\n",
       "      <td>1</td>\n",
       "      <td>0</td>\n",
       "    </tr>\n",
       "    <tr>\n",
       "      <th>3</th>\n",
       "      <td>1258</td>\n",
       "      <td>9.4</td>\n",
       "      <td>20</td>\n",
       "      <td>4204</td>\n",
       "      <td>31</td>\n",
       "      <td>3</td>\n",
       "      <td>9.2</td>\n",
       "      <td>1</td>\n",
       "      <td>2</td>\n",
       "      <td>16.0</td>\n",
       "      <td>1</td>\n",
       "      <td>1</td>\n",
       "    </tr>\n",
       "    <tr>\n",
       "      <th>4</th>\n",
       "      <td>289</td>\n",
       "      <td>8.8</td>\n",
       "      <td>0</td>\n",
       "      <td>1519</td>\n",
       "      <td>3</td>\n",
       "      <td>9</td>\n",
       "      <td>10.0</td>\n",
       "      <td>1</td>\n",
       "      <td>1</td>\n",
       "      <td>7.0</td>\n",
       "      <td>1</td>\n",
       "      <td>0</td>\n",
       "    </tr>\n",
       "  </tbody>\n",
       "</table>\n",
       "</div>"
      ],
      "text/plain": [
       "   Additional_Number_of_Scoring  Average_Score  \\\n",
       "0                           255            8.1   \n",
       "1                           211            8.6   \n",
       "2                           189            9.2   \n",
       "3                          1258            9.4   \n",
       "4                           289            8.8   \n",
       "\n",
       "   Review_Total_Negative_Word_Counts  Total_Number_of_Reviews  \\\n",
       "0                                 57                     1290   \n",
       "1                                  0                     2923   \n",
       "2                                 27                      781   \n",
       "3                                 20                     4204   \n",
       "4                                  0                     1519   \n",
       "\n",
       "   Review_Total_Positive_Word_Counts  \\\n",
       "0                                 10   \n",
       "1                                 19   \n",
       "2                                 29   \n",
       "3                                 31   \n",
       "4                                  3   \n",
       "\n",
       "   Total_Number_of_Reviews_Reviewer_Has_Given  Reviewer_Score  Trip_type  \\\n",
       "0                                           1             6.3          0   \n",
       "1                                          12            10.0          1   \n",
       "2                                          24            10.0          2   \n",
       "3                                           3             9.2          1   \n",
       "4                                           9            10.0          1   \n",
       "\n",
       "   whom  room  stayed_days  mobile_device  \n",
       "0     3   2.0            1              0  \n",
       "1     3   2.0            5              1  \n",
       "2     2   0.0            1              0  \n",
       "3     2  16.0            1              1  \n",
       "4     1   7.0            1              0  "
      ]
     },
     "execution_count": 27,
     "metadata": {},
     "output_type": "execute_result"
    }
   ],
   "source": [
    "data.head()"
   ]
  },
  {
   "cell_type": "markdown",
   "metadata": {},
   "source": [
    "# 6、tag分析"
   ]
  },
  {
   "cell_type": "code",
   "execution_count": 54,
   "metadata": {
    "scrolled": true
   },
   "outputs": [
    {
     "data": {
      "text/plain": [
       "(array([ 0,  1,  2,  3,  4,  5,  6,  7,  8,  9, 10, 11, 12, 13, 14, 15, 16,\n",
       "        17, 18, 19, 20]), <a list of 21 Text xticklabel objects>)"
      ]
     },
     "execution_count": 54,
     "metadata": {},
     "output_type": "execute_result"
    },
    {
     "data": {
      "image/png": "[encoded data removed]",
      "text/plain": [
       "<Figure size 648x432 with 1 Axes>"
      ]
     },
     "metadata": {
      "needs_background": "light"
     },
     "output_type": "display_data"
    }
   ],
   "source": [
    "## Stayed_days\n",
    "stayed_days_hist=data.groupby(\"stayed_days\")['Reviewer_Score'].mean().reset_index().sort_values(by='stayed_days',ascending=False).reset_index(drop=True)\n",
    "plt.figure(figsize=(9,6))\n",
    "sns.barplot(x='stayed_days',y='Reviewer_Score', data=stayed_days_hist)\n",
    "plt.xticks(rotation=45)\n",
    "\n",
    "#According to General trend , the more the staying , the less the reviewer_score ."
   ]
  },
  {
   "cell_type": "code",
   "execution_count": 55,
   "metadata": {
    "scrolled": true
   },
   "outputs": [
    {
     "data": {
      "text/plain": [
       "(array([0, 1, 2, 3, 4]), <a list of 5 Text xticklabel objects>)"
      ]
     },
     "execution_count": 55,
     "metadata": {},
     "output_type": "execute_result"
    },
    {
     "data": {
      "image/png": "[encoded data removed]",
      "text/plain": [
       "<Figure size 648x432 with 1 Axes>"
      ]
     },
     "metadata": {
      "needs_background": "light"
     },
     "output_type": "display_data"
    }
   ],
   "source": [
    "#Whom\n",
    "whom_hist=data.groupby(\"whom\")['Reviewer_Score'].mean().reset_index().sort_values(by='whom',ascending=False).reset_index(drop=True)\n",
    "plt.figure(figsize=(9,6))\n",
    "sns.barplot(x='whom',y='Reviewer_Score', data=whom_hist)\n",
    "plt.xticks(rotation=45)\n",
    "\n",
    "#This attribute doens't look so important ."
   ]
  },
  {
   "cell_type": "code",
   "execution_count": 24,
   "metadata": {
    "scrolled": true
   },
   "outputs": [
    {
     "data": {
      "text/plain": [
       "Text(0.5, 1.0, 'Mobile Device')"
      ]
     },
     "execution_count": 24,
     "metadata": {},
     "output_type": "execute_result"
    },
    {
     "data": {
      "image/png": "[encoded data removed]",
      "text/plain": [
       "<Figure size 432x288 with 1 Axes>"
      ]
     },
     "metadata": {
      "needs_background": "light"
     },
     "output_type": "display_data"
    }
   ],
   "source": [
    "##Mobile Device\n",
    "md_avg=data.groupby('mobile_device')['Reviewer_Score'].mean()\n",
    "Index = [0,1]\n",
    "plt.bar(Index,md_avg,color='gray')\n",
    "plt.xticks(Index,['Not mentioned','mentioned'],rotation=45)\n",
    "plt.ylabel('Average Reviewer Score')\n",
    "plt.xlabel('Was the review from a mobile device')\n",
    "plt.title('Mobile Device')\n",
    "\n",
    "#Mobile_device parameter isn't  important"
   ]
  },
  {
   "cell_type": "code",
   "execution_count": 58,
   "metadata": {},
   "outputs": [
    {
     "data": {
      "text/plain": [
       "Text(0.5, 1.0, 'Trip Type')"
      ]
     },
     "execution_count": 58,
     "metadata": {},
     "output_type": "execute_result"
    },
    {
     "data": {
      "image/png": "[encoded data removed]",
      "text/plain": [
       "<Figure size 432x288 with 1 Axes>"
      ]
     },
     "metadata": {
      "needs_background": "light"
     },
     "output_type": "display_data"
    }
   ],
   "source": [
    "##Trip Type\n",
    "tt_avg=data.groupby('Trip_type')['Reviewer_Score'].mean()\n",
    "Index = [0,1,2]\n",
    "plt.bar(Index,tt_avg,color='gray')\n",
    "plt.xticks(Index,['Unknown', 'Leisure','Business'],rotation=45)\n",
    "plt.ylabel('Average Reviewer Score')\n",
    "plt.xlabel('Trip Type')\n",
    "plt.title('Trip Type')\n",
    "\n",
    "#Business type of trips are rating lower .\n",
    "# Trip_type parameter is important"
   ]
  },
  {
   "cell_type": "code",
   "execution_count": 59,
   "metadata": {},
   "outputs": [
    {
     "data": {
      "text/html": [
       "<div>\n",
       "<style scoped>\n",
       "    .dataframe tbody tr th:only-of-type {\n",
       "        vertical-align: middle;\n",
       "    }\n",
       "\n",
       "    .dataframe tbody tr th {\n",
       "        vertical-align: top;\n",
       "    }\n",
       "\n",
       "    .dataframe thead th {\n",
       "        text-align: right;\n",
       "    }\n",
       "</style>\n",
       "<table border=\"1\" class=\"dataframe\">\n",
       "  <thead>\n",
       "    <tr style=\"text-align: right;\">\n",
       "      <th></th>\n",
       "      <th>Additional_Number_of_Scoring</th>\n",
       "      <th>Average_Score</th>\n",
       "      <th>Review_Total_Negative_Word_Counts</th>\n",
       "      <th>Total_Number_of_Reviews</th>\n",
       "      <th>Review_Total_Positive_Word_Counts</th>\n",
       "      <th>Total_Number_of_Reviews_Reviewer_Has_Given</th>\n",
       "      <th>Reviewer_Score</th>\n",
       "      <th>Trip_type</th>\n",
       "      <th>whom</th>\n",
       "      <th>room</th>\n",
       "      <th>stayed_days</th>\n",
       "    </tr>\n",
       "  </thead>\n",
       "  <tbody>\n",
       "    <tr>\n",
       "      <th>0</th>\n",
       "      <td>255</td>\n",
       "      <td>8.1</td>\n",
       "      <td>57</td>\n",
       "      <td>1290</td>\n",
       "      <td>10</td>\n",
       "      <td>1</td>\n",
       "      <td>6.3</td>\n",
       "      <td>0</td>\n",
       "      <td>3</td>\n",
       "      <td>2.0</td>\n",
       "      <td>1</td>\n",
       "    </tr>\n",
       "    <tr>\n",
       "      <th>1</th>\n",
       "      <td>211</td>\n",
       "      <td>8.6</td>\n",
       "      <td>0</td>\n",
       "      <td>2923</td>\n",
       "      <td>19</td>\n",
       "      <td>12</td>\n",
       "      <td>10.0</td>\n",
       "      <td>1</td>\n",
       "      <td>3</td>\n",
       "      <td>2.0</td>\n",
       "      <td>5</td>\n",
       "    </tr>\n",
       "    <tr>\n",
       "      <th>2</th>\n",
       "      <td>189</td>\n",
       "      <td>9.2</td>\n",
       "      <td>27</td>\n",
       "      <td>781</td>\n",
       "      <td>29</td>\n",
       "      <td>24</td>\n",
       "      <td>10.0</td>\n",
       "      <td>2</td>\n",
       "      <td>2</td>\n",
       "      <td>0.0</td>\n",
       "      <td>1</td>\n",
       "    </tr>\n",
       "    <tr>\n",
       "      <th>3</th>\n",
       "      <td>1258</td>\n",
       "      <td>9.4</td>\n",
       "      <td>20</td>\n",
       "      <td>4204</td>\n",
       "      <td>31</td>\n",
       "      <td>3</td>\n",
       "      <td>9.2</td>\n",
       "      <td>1</td>\n",
       "      <td>2</td>\n",
       "      <td>16.0</td>\n",
       "      <td>1</td>\n",
       "    </tr>\n",
       "    <tr>\n",
       "      <th>4</th>\n",
       "      <td>289</td>\n",
       "      <td>8.8</td>\n",
       "      <td>0</td>\n",
       "      <td>1519</td>\n",
       "      <td>3</td>\n",
       "      <td>9</td>\n",
       "      <td>10.0</td>\n",
       "      <td>1</td>\n",
       "      <td>1</td>\n",
       "      <td>7.0</td>\n",
       "      <td>1</td>\n",
       "    </tr>\n",
       "  </tbody>\n",
       "</table>\n",
       "</div>"
      ],
      "text/plain": [
       "   Additional_Number_of_Scoring  Average_Score  \\\n",
       "0                           255            8.1   \n",
       "1                           211            8.6   \n",
       "2                           189            9.2   \n",
       "3                          1258            9.4   \n",
       "4                           289            8.8   \n",
       "\n",
       "   Review_Total_Negative_Word_Counts  Total_Number_of_Reviews  \\\n",
       "0                                 57                     1290   \n",
       "1                                  0                     2923   \n",
       "2                                 27                      781   \n",
       "3                                 20                     4204   \n",
       "4                                  0                     1519   \n",
       "\n",
       "   Review_Total_Positive_Word_Counts  \\\n",
       "0                                 10   \n",
       "1                                 19   \n",
       "2                                 29   \n",
       "3                                 31   \n",
       "4                                  3   \n",
       "\n",
       "   Total_Number_of_Reviews_Reviewer_Has_Given  Reviewer_Score  Trip_type  \\\n",
       "0                                           1             6.3          0   \n",
       "1                                          12            10.0          1   \n",
       "2                                          24            10.0          2   \n",
       "3                                           3             9.2          1   \n",
       "4                                           9            10.0          1   \n",
       "\n",
       "   whom  room  stayed_days  \n",
       "0     3   2.0            1  \n",
       "1     3   2.0            5  \n",
       "2     2   0.0            1  \n",
       "3     2  16.0            1  \n",
       "4     1   7.0            1  "
      ]
     },
     "execution_count": 59,
     "metadata": {},
     "output_type": "execute_result"
    }
   ],
   "source": [
    "data.head()"
   ]
  },
  {
   "cell_type": "code",
   "execution_count": 59,
   "metadata": {},
   "outputs": [],
   "source": [
    "#Correlation Matrix:\n",
    "# corr_df = data[data.keys()]    \n",
    "# corr_df = corr_df.corr()\n",
    "corr_df = data.corrwith(data.Reviewer_Score)"
   ]
  },
  {
   "cell_type": "code",
   "execution_count": 65,
   "metadata": {},
   "outputs": [],
   "source": [
    "with open(\"result.csv\", 'w') as f:\n",
    "    for k, v in corr_df.items():\n",
    "        if k == \"Reviewer_Score\":\n",
    "            continue\n",
    "        if v < 0:\n",
    "            v = -v\n",
    "        print(k, v, file=f, sep=',')"
   ]
  },
  {
   "cell_type": "code",
   "execution_count": 57,
   "metadata": {
    "scrolled": true
   },
   "outputs": [
    {
     "data": {
      "text/plain": [
       "[<matplotlib.axis.XTick at 0x1a60496ac18>,\n",
       " <matplotlib.axis.XTick at 0x1a60496a4a8>,\n",
       " <matplotlib.axis.XTick at 0x1a60496a358>,\n",
       " <matplotlib.axis.XTick at 0x1a605af7278>,\n",
       " <matplotlib.axis.XTick at 0x1a605af7748>,\n",
       " <matplotlib.axis.XTick at 0x1a605af7c18>,\n",
       " <matplotlib.axis.XTick at 0x1a605adf160>,\n",
       " <matplotlib.axis.XTick at 0x1a605adf630>,\n",
       " <matplotlib.axis.XTick at 0x1a605adfb38>,\n",
       " <matplotlib.axis.XTick at 0x1a605aed0f0>,\n",
       " <matplotlib.axis.XTick at 0x1a605adf5f8>,\n",
       " <matplotlib.axis.XTick at 0x1a605af7240>]"
      ]
     },
     "execution_count": 57,
     "metadata": {},
     "output_type": "execute_result"
    },
    {
     "data": {
      "image/png": "[encoded data removed]",
      "text/plain": [
       "<Figure size 432x288 with 1 Axes>"
      ]
     },
     "metadata": {
      "needs_background": "light"
     },
     "output_type": "display_data"
    }
   ],
   "source": [
    "fig=plt.figure()\n",
    "ax1=plt.subplot(111)\n",
    "ax1.bar(corr_df.keys(), corr_df.values)\n",
    "ax1.set_xticks(tuple(corr_df.keys()))\n",
    "# Set up the matplot figure\n",
    "# f,ax = plt.subplots(figsize=(1,12))\n",
    "\n",
    "#Draw the heatmap using seaborn\n",
    "# sns.heatmap(corr_df, cmap='inferno', annot=True)\n",
    "\n",
    "#Reviewer_Score may have correlations with Average_Score ,Review_Total_Negative_Word_Counts ,Review_Total_Positive_Word_Counts "
   ]
  },
  {
   "cell_type": "markdown",
   "metadata": {},
   "source": [
    "# 测试"
   ]
  },
  {
   "cell_type": "code",
   "execution_count": 39,
   "metadata": {},
   "outputs": [],
   "source": [
    "label = data['Reviewer_Score']\n",
    "del data['Reviewer_Score']"
   ]
  },
  {
   "cell_type": "code",
   "execution_count": 40,
   "metadata": {},
   "outputs": [],
   "source": [
    "dataset_X = data.iloc[:].values"
   ]
  },
  {
   "cell_type": "code",
   "execution_count": 41,
   "metadata": {},
   "outputs": [
    {
     "data": {
      "text/plain": [
       "(110000, 10)"
      ]
     },
     "execution_count": 41,
     "metadata": {},
     "output_type": "execute_result"
    }
   ],
   "source": [
    "dataset_X.shape"
   ]
  },
  {
   "cell_type": "code",
   "execution_count": 56,
   "metadata": {},
   "outputs": [],
   "source": [
    "X = dataset_X[:80000]\n",
    "X_test = dataset_X[80000:]\n",
    "y = label.values[:80000]"
   ]
  },
  {
   "cell_type": "code",
   "execution_count": 43,
   "metadata": {},
   "outputs": [
    {
     "data": {
      "text/plain": [
       "((80000, 10), (80000,), (30000, 10))"
      ]
     },
     "execution_count": 43,
     "metadata": {},
     "output_type": "execute_result"
    }
   ],
   "source": [
    "X.shape, y.shape, X_test.shape"
   ]
  },
  {
   "cell_type": "code",
   "execution_count": 44,
   "metadata": {},
   "outputs": [],
   "source": [
    "from xgboost import XGBRegressor\n",
    "from sklearn.model_selection import cross_val_score\n",
    "from sklearn.metrics import make_scorer\n",
    "from sklearn.ensemble import GradientBoostingRegressor\n",
    "from sklearn.model_selection import train_test_split\n",
    "from sklearn.preprocessing import StandardScaler\n",
    "\n",
    "from importlib import reload\n",
    "import ensemble.gbdt_model\n",
    "reload(ensemble.gbdt_model)\n",
    "from ensemble.gbdt_model import GBDTRegressor"
   ]
  },
  {
   "cell_type": "code",
   "execution_count": 45,
   "metadata": {},
   "outputs": [],
   "source": [
    "def corrcoef(y_true, y_pred):\n",
    "    return np.corrcoef(y_true, y_pred)[0][1]"
   ]
  },
  {
   "cell_type": "markdown",
   "metadata": {},
   "source": [
    "# 1、sklearn GBDT"
   ]
  },
  {
   "cell_type": "code",
   "execution_count": 47,
   "metadata": {},
   "outputs": [
    {
     "data": {
      "text/plain": [
       "0.6540990128659783"
      ]
     },
     "execution_count": 47,
     "metadata": {},
     "output_type": "execute_result"
    }
   ],
   "source": [
    "cross_val_score(GradientBoostingRegressor(n_estimators=100, learning_rate=0.15, max_depth=3),\n",
    "               X, y, scoring=make_scorer(corrcoef), cv=5).mean()     # 无tag"
   ]
  },
  {
   "cell_type": "code",
   "execution_count": 126,
   "metadata": {
    "scrolled": true
   },
   "outputs": [
    {
     "data": {
      "text/plain": [
       "0.6574295848725024"
      ]
     },
     "execution_count": 126,
     "metadata": {},
     "output_type": "execute_result"
    }
   ],
   "source": [
    "cross_val_score(GradientBoostingRegressor(n_estimators=300, learning_rate=0.065, max_depth=3),\n",
    "               X, y, scoring=make_scorer(corrcoef), cv=5).mean()     # 不删tag"
   ]
  },
  {
   "cell_type": "code",
   "execution_count": 133,
   "metadata": {},
   "outputs": [
    {
     "data": {
      "text/plain": [
       "0.6574523502871455"
      ]
     },
     "execution_count": 133,
     "metadata": {},
     "output_type": "execute_result"
    }
   ],
   "source": [
    "cross_val_score(GradientBoostingRegressor(n_estimators=300, learning_rate=0.065, max_depth=3),\n",
    "               X, y, scoring=make_scorer(corrcoef), cv=5).mean()     # 删mobile device"
   ]
  },
  {
   "cell_type": "code",
   "execution_count": 140,
   "metadata": {},
   "outputs": [
    {
     "data": {
      "text/plain": [
       "0.6572021265507566"
      ]
     },
     "execution_count": 140,
     "metadata": {},
     "output_type": "execute_result"
    }
   ],
   "source": [
    "cross_val_score(GradientBoostingRegressor(n_estimators=300, learning_rate=0.065, max_depth=3),\n",
    "               X, y, scoring=make_scorer(corrcoef), cv=5).mean()     # 删mobile device+total given"
   ]
  },
  {
   "cell_type": "code",
   "execution_count": 146,
   "metadata": {},
   "outputs": [
    {
     "data": {
      "text/plain": [
       "0.6573088858494304"
      ]
     },
     "execution_count": 146,
     "metadata": {},
     "output_type": "execute_result"
    }
   ],
   "source": [
    "cross_val_score(GradientBoostingRegressor(n_estimators=300, learning_rate=0.065, max_depth=3),\n",
    "               X, y, scoring=make_scorer(corrcoef), cv=5).mean()     # 删mobile device+stayed days"
   ]
  },
  {
   "cell_type": "code",
   "execution_count": 46,
   "metadata": {},
   "outputs": [
    {
     "data": {
      "text/plain": [
       "0.65746407714058"
      ]
     },
     "execution_count": 46,
     "metadata": {},
     "output_type": "execute_result"
    }
   ],
   "source": [
    "cross_val_score(GradientBoostingRegressor(n_estimators=300, learning_rate=0.065, max_depth=3),\n",
    "               X, y, scoring=make_scorer(corrcoef), cv=5).mean()     # 删mobile device，增加room"
   ]
  },
  {
   "cell_type": "code",
   "execution_count": 106,
   "metadata": {},
   "outputs": [
    {
     "data": {
      "text/plain": [
       "0.6560911111759332"
      ]
     },
     "execution_count": 106,
     "metadata": {},
     "output_type": "execute_result"
    }
   ],
   "source": [
    "cross_val_score(GradientBoostingRegressor(n_estimators=100, learning_rate=0.15, max_depth=3),\n",
    "               X, y, scoring=make_scorer(corrcoef), cv=5).mean()     # 处理tag"
   ]
  },
  {
   "cell_type": "code",
   "execution_count": 118,
   "metadata": {
    "scrolled": true
   },
   "outputs": [
    {
     "data": {
      "text/plain": [
       "0.6561783365872857"
      ]
     },
     "execution_count": 118,
     "metadata": {},
     "output_type": "execute_result"
    }
   ],
   "source": [
    "cross_val_score(GradientBoostingRegressor(n_estimators=200, learning_rate=0.1, max_depth=3),\n",
    "               X, y, scoring=make_scorer(corrcoef), cv=5).mean()     # 处理tag"
   ]
  },
  {
   "cell_type": "code",
   "execution_count": null,
   "metadata": {},
   "outputs": [],
   "source": []
  },
  {
   "cell_type": "code",
   "execution_count": 125,
   "metadata": {},
   "outputs": [
    {
     "data": {
      "text/plain": [
       "0.6560700349345118"
      ]
     },
     "execution_count": 125,
     "metadata": {},
     "output_type": "execute_result"
    }
   ],
   "source": [
    "cross_val_score(GradientBoostingRegressor(n_estimators=150, learning_rate=0.1, max_depth=3),\n",
    "               X, y, scoring=make_scorer(corrcoef), cv=5).mean()     # 处理tag"
   ]
  },
  {
   "cell_type": "code",
   "execution_count": 149,
   "metadata": {},
   "outputs": [
    {
     "data": {
      "text/plain": [
       "0.6565681831878003"
      ]
     },
     "execution_count": 149,
     "metadata": {},
     "output_type": "execute_result"
    }
   ],
   "source": [
    "cross_val_score(GradientBoostingRegressor(n_estimators=250, learning_rate=0.065, max_depth=3),\n",
    "               X, y, scoring=make_scorer(corrcoef), cv=5).mean()     # 处理tag"
   ]
  },
  {
   "cell_type": "code",
   "execution_count": 150,
   "metadata": {},
   "outputs": [
    {
     "data": {
      "text/plain": [
       "0.6565732289877209"
      ]
     },
     "execution_count": 150,
     "metadata": {},
     "output_type": "execute_result"
    }
   ],
   "source": [
    "cross_val_score(GradientBoostingRegressor(n_estimators=300, learning_rate=0.065, max_depth=3),\n",
    "               X, y, scoring=make_scorer(corrcoef), cv=5).mean()     # 处理tag"
   ]
  },
  {
   "cell_type": "code",
   "execution_count": 155,
   "metadata": {},
   "outputs": [
    {
     "data": {
      "text/plain": [
       "0.6565323333429586"
      ]
     },
     "execution_count": 155,
     "metadata": {},
     "output_type": "execute_result"
    }
   ],
   "source": [
    "cross_val_score(GradientBoostingRegressor(n_estimators=400, learning_rate=0.04, max_depth=3),\n",
    "               X, y, scoring=make_scorer(corrcoef), cv=5).mean()     # 处理tag"
   ]
  },
  {
   "cell_type": "markdown",
   "metadata": {},
   "source": [
    "# 2、GDBTRegressor"
   ]
  },
  {
   "cell_type": "code",
   "execution_count": 180,
   "metadata": {},
   "outputs": [
    {
     "data": {
      "text/plain": [
       "0.656608553077634"
      ]
     },
     "execution_count": 180,
     "metadata": {},
     "output_type": "execute_result"
    }
   ],
   "source": [
    "cross_val_score(GBDTRegressor(n_estimators=250, learning_rate=0.065, max_depth=3),\n",
    "               X, y, scoring=make_scorer(corrcoef), cv=5).mean()     # 处理tag(my gbdt+sklearn cart)"
   ]
  },
  {
   "cell_type": "code",
   "execution_count": 48,
   "metadata": {
    "scrolled": true
   },
   "outputs": [
    {
     "name": "stderr",
     "output_type": "stream",
     "text": [
      "Training: 100% [------------------------------------------------] Time: 0:04:38\n",
      "Training: 100% [------------------------------------------------] Time: 0:04:50\n",
      "Training: 100% [------------------------------------------------] Time: 0:04:30\n",
      "Training: 100% [------------------------------------------------] Time: 0:04:33\n",
      "Training: 100% [------------------------------------------------] Time: 0:04:22\n"
     ]
    },
    {
     "data": {
      "text/plain": [
       "0.6566333967894796"
      ]
     },
     "execution_count": 48,
     "metadata": {},
     "output_type": "execute_result"
    }
   ],
   "source": [
    "cross_val_score(GBDTRegressor(n_estimators=300, learning_rate=0.065, max_depth=3),\n",
    "               X, y, scoring=make_scorer(corrcoef), cv=5).mean()     # 删mobile device，增加room(my gbdt+our cart)"
   ]
  },
  {
   "cell_type": "code",
   "execution_count": 50,
   "metadata": {},
   "outputs": [
    {
     "name": "stderr",
     "output_type": "stream",
     "text": [
      "Training: 100% [------------------------------------------------] Time: 0:05:15\n"
     ]
    }
   ],
   "source": [
    "reg = GBDTRegressor(n_estimators=300, learning_rate=0.065, max_depth=3)\n",
    "reg.fit(X, y)"
   ]
  },
  {
   "cell_type": "code",
   "execution_count": 52,
   "metadata": {},
   "outputs": [],
   "source": [
    "y_pred = reg.predict(X_test)\n",
    "with open(\"16337091_0.txt\", 'w', encoding='utf-8') as f:\n",
    "    for yi in y_pred:\n",
    "        print(yi, file=f)"
   ]
  },
  {
   "cell_type": "code",
   "execution_count": 184,
   "metadata": {
    "scrolled": true
   },
   "outputs": [
    {
     "name": "stderr",
     "output_type": "stream",
     "text": [
      "Training: 100% [------------------------------------------------] Time: 0:01:38\n",
      "Training: 100% [------------------------------------------------] Time: 0:01:40\n",
      "Training: 100% [------------------------------------------------] Time: 0:01:38\n",
      "Training: 100% [------------------------------------------------] Time: 0:01:40\n",
      "Training: 100% [------------------------------------------------] Time: 0:01:57\n"
     ]
    },
    {
     "data": {
      "text/plain": [
       "0.6555628336568144"
      ]
     },
     "execution_count": 184,
     "metadata": {},
     "output_type": "execute_result"
    }
   ],
   "source": [
    "cross_val_score(GBDTRegressor(n_estimators=250, learning_rate=0.065, max_depth=3),\n",
    "               X, y, scoring=make_scorer(corrcoef), cv=5).mean()     # 处理tag(my gbdt+dirun cart)"
   ]
  },
  {
   "cell_type": "code",
   "execution_count": 185,
   "metadata": {},
   "outputs": [
    {
     "name": "stderr",
     "output_type": "stream",
     "text": [
      "Training: 100% [------------------------------------------------] Time: 0:01:20\n",
      "Training: 100% [------------------------------------------------] Time: 0:01:30\n",
      "Training: 100% [------------------------------------------------] Time: 0:01:31\n",
      "Training: 100% [------------------------------------------------] Time: 0:02:01\n",
      "Training: 100% [------------------------------------------------] Time: 0:02:23\n"
     ]
    },
    {
     "data": {
      "text/plain": [
       "0.6550656097031883"
      ]
     },
     "execution_count": 185,
     "metadata": {},
     "output_type": "execute_result"
    }
   ],
   "source": [
    "cross_val_score(GBDTRegressor(n_estimators=100, learning_rate=0.15, max_depth=3),\n",
    "               X, y, scoring=make_scorer(corrcoef), cv=5).mean()     # 处理tag(my gbdt+dirun cart)"
   ]
  },
  {
   "cell_type": "markdown",
   "metadata": {},
   "source": [
    "# 3、随机森林"
   ]
  },
  {
   "cell_type": "code",
   "execution_count": 53,
   "metadata": {},
   "outputs": [],
   "source": [
    "from sklearn.ensemble import RandomForestRegressor"
   ]
  },
  {
   "cell_type": "code",
   "execution_count": 57,
   "metadata": {},
   "outputs": [
    {
     "data": {
      "text/plain": [
       "((80000, 10), (80000,))"
      ]
     },
     "execution_count": 57,
     "metadata": {},
     "output_type": "execute_result"
    }
   ],
   "source": [
    "X.shape, y.shape"
   ]
  },
  {
   "cell_type": "code",
   "execution_count": 59,
   "metadata": {},
   "outputs": [
    {
     "data": {
      "text/plain": [
       "0.6258552484503783"
      ]
     },
     "execution_count": 59,
     "metadata": {},
     "output_type": "execute_result"
    }
   ],
   "source": [
    "cross_val_score(RandomForestRegressor(n_estimators=300), X, y, scoring=make_scorer(corrcoef), cv=5).mean()"
   ]
  },
  {
   "cell_type": "code",
   "execution_count": 78,
   "metadata": {},
   "outputs": [],
   "source": [
    "import decision_tree.decision_tree\n",
    "reload(decision_tree.decision_tree)\n",
    "import ensemble.random_forest\n",
    "reload(ensemble.random_forest)\n",
    "from ensemble.random_forest import RandomForest"
   ]
  },
  {
   "cell_type": "code",
   "execution_count": 79,
   "metadata": {},
   "outputs": [
    {
     "name": "stderr",
     "output_type": "stream",
     "text": [
      "Training: 100% [------------------------------------------------] Time: 0:02:44\n",
      "Training: 100% [------------------------------------------------] Time: 0:03:05\n",
      "Training: 100% [------------------------------------------------] Time: 0:02:59\n",
      "Training: 100% [------------------------------------------------] Time: 0:03:33\n",
      "Training: 100% [------------------------------------------------] Time: 0:03:29\n"
     ]
    },
    {
     "data": {
      "text/plain": [
       "0.6532569990118839"
      ]
     },
     "execution_count": 79,
     "metadata": {},
     "output_type": "execute_result"
    }
   ],
   "source": [
    "cross_val_score(RandomForest(), X, y, scoring=make_scorer(corrcoef), cv=5).mean()"
   ]
  },
  {
   "cell_type": "code",
   "execution_count": null,
   "metadata": {},
   "outputs": [],
   "source": []
  }
 ],
 "metadata": {
  "kernelspec": {
   "display_name": "Python 3",
   "language": "python",
   "name": "python3"
  },
  "language_info": {
   "codemirror_mode": {
    "name": "ipython",
    "version": 3
   },
   "file_extension": ".py",
   "mimetype": "text/x-python",
   "name": "python",
   "nbconvert_exporter": "python",
   "pygments_lexer": "ipython3",
   "version": "3.6.5"
  }
 },
 "nbformat": 4,
 "nbformat_minor": 2
}
